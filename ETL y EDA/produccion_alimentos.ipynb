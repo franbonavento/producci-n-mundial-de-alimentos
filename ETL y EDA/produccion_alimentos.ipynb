{
 "cells": [
  {
   "cell_type": "markdown",
   "metadata": {},
   "source": [
    "1. importar librerias y cargar el archivo:"
   ]
  },
  {
   "cell_type": "code",
   "execution_count": 1,
   "metadata": {},
   "outputs": [],
   "source": [
    "import pandas as pd\n",
    "import numpy as np\n",
    "import matplotlib.pyplot as plt"
   ]
  },
  {
   "cell_type": "markdown",
   "metadata": {},
   "source": [
    "## parte 1"
   ]
  },
  {
   "cell_type": "code",
   "execution_count": 55,
   "metadata": {},
   "outputs": [
    {
     "name": "stderr",
     "output_type": "stream",
     "text": [
      "C:\\Users\\franb\\AppData\\Local\\Temp\\ipykernel_12212\\3360930396.py:2: DtypeWarning: Columns (13) have mixed types. Specify dtype option on import or set low_memory=False.\n",
      "  df = pd.read_csv(r\"C:\\Users\\franb\\Downloads\\proyectos_data\\FAO\\copias\\Production_Crops_Livestock_E_All_Data_(Normalized)\\Production_Crops_Livestock_E_All_Data_(Normalized).csv\")\n"
     ]
    }
   ],
   "source": [
    "\n",
    "# Cargar el archivo CSV (asegúrate de reemplazar 'tu_archivo.csv' con la ruta real)\n",
    "df = pd.read_csv(r\"C:\\Users\\franb\\Downloads\\proyectos_data\\FAO\\copias\\Production_Crops_Livestock_E_All_Data_(Normalized)\\Production_Crops_Livestock_E_All_Data_(Normalized).csv\")"
   ]
  },
  {
   "cell_type": "markdown",
   "metadata": {},
   "source": [
    "2. analizamos que contiene el archivo para ir familiarizandonos con sus datos y estructura:"
   ]
  },
  {
   "cell_type": "code",
   "execution_count": 56,
   "metadata": {},
   "outputs": [
    {
     "data": {
      "text/plain": [
       "(4211720, 14)"
      ]
     },
     "execution_count": 56,
     "metadata": {},
     "output_type": "execute_result"
    }
   ],
   "source": [
    "# conteo de filas y columnas\n",
    "np.shape(df)"
   ]
  },
  {
   "cell_type": "markdown",
   "metadata": {},
   "source": [
    "obs: podemos ver que es un archivo que contiene muchos registros. +4M"
   ]
  },
  {
   "cell_type": "code",
   "execution_count": 57,
   "metadata": {},
   "outputs": [
    {
     "data": {
      "application/vnd.microsoft.datawrangler.viewer.v0+json": {
       "columns": [
        {
         "name": "index",
         "rawType": "int64",
         "type": "integer"
        },
        {
         "name": "Area Code",
         "rawType": "int64",
         "type": "integer"
        },
        {
         "name": "Area Code (M49)",
         "rawType": "object",
         "type": "string"
        },
        {
         "name": "Area",
         "rawType": "object",
         "type": "string"
        },
        {
         "name": "Item Code",
         "rawType": "int64",
         "type": "integer"
        },
        {
         "name": "Item Code (CPC)",
         "rawType": "object",
         "type": "string"
        },
        {
         "name": "Item",
         "rawType": "object",
         "type": "string"
        },
        {
         "name": "Element Code",
         "rawType": "int64",
         "type": "integer"
        },
        {
         "name": "Element",
         "rawType": "object",
         "type": "string"
        },
        {
         "name": "Year Code",
         "rawType": "int64",
         "type": "integer"
        },
        {
         "name": "Year",
         "rawType": "int64",
         "type": "integer"
        },
        {
         "name": "Unit",
         "rawType": "object",
         "type": "string"
        },
        {
         "name": "Value",
         "rawType": "float64",
         "type": "float"
        },
        {
         "name": "Flag",
         "rawType": "object",
         "type": "string"
        },
        {
         "name": "Note",
         "rawType": "object",
         "type": "unknown"
        }
       ],
       "conversionMethod": "pd.DataFrame",
       "ref": "244b5061-85ad-4924-aaaf-648d9a507aa3",
       "rows": [
        [
         "0",
         "2",
         "'004",
         "Afghanistan",
         "221",
         "'01371",
         "Almonds, in shell",
         "5312",
         "Area harvested",
         "1961",
         "1961",
         "ha",
         "0.0",
         "A",
         null
        ],
        [
         "1",
         "2",
         "'004",
         "Afghanistan",
         "221",
         "'01371",
         "Almonds, in shell",
         "5312",
         "Area harvested",
         "1962",
         "1962",
         "ha",
         "0.0",
         "A",
         null
        ],
        [
         "2",
         "2",
         "'004",
         "Afghanistan",
         "221",
         "'01371",
         "Almonds, in shell",
         "5312",
         "Area harvested",
         "1963",
         "1963",
         "ha",
         "0.0",
         "A",
         null
        ],
        [
         "3",
         "2",
         "'004",
         "Afghanistan",
         "221",
         "'01371",
         "Almonds, in shell",
         "5312",
         "Area harvested",
         "1964",
         "1964",
         "ha",
         "0.0",
         "A",
         null
        ],
        [
         "4",
         "2",
         "'004",
         "Afghanistan",
         "221",
         "'01371",
         "Almonds, in shell",
         "5312",
         "Area harvested",
         "1965",
         "1965",
         "ha",
         "0.0",
         "A",
         null
        ]
       ],
       "shape": {
        "columns": 14,
        "rows": 5
       }
      },
      "text/html": [
       "<div>\n",
       "<style scoped>\n",
       "    .dataframe tbody tr th:only-of-type {\n",
       "        vertical-align: middle;\n",
       "    }\n",
       "\n",
       "    .dataframe tbody tr th {\n",
       "        vertical-align: top;\n",
       "    }\n",
       "\n",
       "    .dataframe thead th {\n",
       "        text-align: right;\n",
       "    }\n",
       "</style>\n",
       "<table border=\"1\" class=\"dataframe\">\n",
       "  <thead>\n",
       "    <tr style=\"text-align: right;\">\n",
       "      <th></th>\n",
       "      <th>Area Code</th>\n",
       "      <th>Area Code (M49)</th>\n",
       "      <th>Area</th>\n",
       "      <th>Item Code</th>\n",
       "      <th>Item Code (CPC)</th>\n",
       "      <th>Item</th>\n",
       "      <th>Element Code</th>\n",
       "      <th>Element</th>\n",
       "      <th>Year Code</th>\n",
       "      <th>Year</th>\n",
       "      <th>Unit</th>\n",
       "      <th>Value</th>\n",
       "      <th>Flag</th>\n",
       "      <th>Note</th>\n",
       "    </tr>\n",
       "  </thead>\n",
       "  <tbody>\n",
       "    <tr>\n",
       "      <th>0</th>\n",
       "      <td>2</td>\n",
       "      <td>'004</td>\n",
       "      <td>Afghanistan</td>\n",
       "      <td>221</td>\n",
       "      <td>'01371</td>\n",
       "      <td>Almonds, in shell</td>\n",
       "      <td>5312</td>\n",
       "      <td>Area harvested</td>\n",
       "      <td>1961</td>\n",
       "      <td>1961</td>\n",
       "      <td>ha</td>\n",
       "      <td>0.0</td>\n",
       "      <td>A</td>\n",
       "      <td>NaN</td>\n",
       "    </tr>\n",
       "    <tr>\n",
       "      <th>1</th>\n",
       "      <td>2</td>\n",
       "      <td>'004</td>\n",
       "      <td>Afghanistan</td>\n",
       "      <td>221</td>\n",
       "      <td>'01371</td>\n",
       "      <td>Almonds, in shell</td>\n",
       "      <td>5312</td>\n",
       "      <td>Area harvested</td>\n",
       "      <td>1962</td>\n",
       "      <td>1962</td>\n",
       "      <td>ha</td>\n",
       "      <td>0.0</td>\n",
       "      <td>A</td>\n",
       "      <td>NaN</td>\n",
       "    </tr>\n",
       "    <tr>\n",
       "      <th>2</th>\n",
       "      <td>2</td>\n",
       "      <td>'004</td>\n",
       "      <td>Afghanistan</td>\n",
       "      <td>221</td>\n",
       "      <td>'01371</td>\n",
       "      <td>Almonds, in shell</td>\n",
       "      <td>5312</td>\n",
       "      <td>Area harvested</td>\n",
       "      <td>1963</td>\n",
       "      <td>1963</td>\n",
       "      <td>ha</td>\n",
       "      <td>0.0</td>\n",
       "      <td>A</td>\n",
       "      <td>NaN</td>\n",
       "    </tr>\n",
       "    <tr>\n",
       "      <th>3</th>\n",
       "      <td>2</td>\n",
       "      <td>'004</td>\n",
       "      <td>Afghanistan</td>\n",
       "      <td>221</td>\n",
       "      <td>'01371</td>\n",
       "      <td>Almonds, in shell</td>\n",
       "      <td>5312</td>\n",
       "      <td>Area harvested</td>\n",
       "      <td>1964</td>\n",
       "      <td>1964</td>\n",
       "      <td>ha</td>\n",
       "      <td>0.0</td>\n",
       "      <td>A</td>\n",
       "      <td>NaN</td>\n",
       "    </tr>\n",
       "    <tr>\n",
       "      <th>4</th>\n",
       "      <td>2</td>\n",
       "      <td>'004</td>\n",
       "      <td>Afghanistan</td>\n",
       "      <td>221</td>\n",
       "      <td>'01371</td>\n",
       "      <td>Almonds, in shell</td>\n",
       "      <td>5312</td>\n",
       "      <td>Area harvested</td>\n",
       "      <td>1965</td>\n",
       "      <td>1965</td>\n",
       "      <td>ha</td>\n",
       "      <td>0.0</td>\n",
       "      <td>A</td>\n",
       "      <td>NaN</td>\n",
       "    </tr>\n",
       "  </tbody>\n",
       "</table>\n",
       "</div>"
      ],
      "text/plain": [
       "   Area Code Area Code (M49)         Area  Item Code Item Code (CPC)  \\\n",
       "0          2            '004  Afghanistan        221          '01371   \n",
       "1          2            '004  Afghanistan        221          '01371   \n",
       "2          2            '004  Afghanistan        221          '01371   \n",
       "3          2            '004  Afghanistan        221          '01371   \n",
       "4          2            '004  Afghanistan        221          '01371   \n",
       "\n",
       "                Item  Element Code         Element  Year Code  Year Unit  \\\n",
       "0  Almonds, in shell          5312  Area harvested       1961  1961   ha   \n",
       "1  Almonds, in shell          5312  Area harvested       1962  1962   ha   \n",
       "2  Almonds, in shell          5312  Area harvested       1963  1963   ha   \n",
       "3  Almonds, in shell          5312  Area harvested       1964  1964   ha   \n",
       "4  Almonds, in shell          5312  Area harvested       1965  1965   ha   \n",
       "\n",
       "   Value Flag Note  \n",
       "0    0.0    A  NaN  \n",
       "1    0.0    A  NaN  \n",
       "2    0.0    A  NaN  \n",
       "3    0.0    A  NaN  \n",
       "4    0.0    A  NaN  "
      ]
     },
     "execution_count": 57,
     "metadata": {},
     "output_type": "execute_result"
    }
   ],
   "source": [
    "df.head(5)"
   ]
  },
  {
   "cell_type": "markdown",
   "metadata": {},
   "source": [
    "obs: notmos que hay columnas que no nos van a sevir para nuestro 1er analisis. hay que eliminarlas y que hay valores faltantes."
   ]
  },
  {
   "cell_type": "code",
   "execution_count": 59,
   "metadata": {},
   "outputs": [
    {
     "name": "stdout",
     "output_type": "stream",
     "text": [
      "<class 'pandas.core.frame.DataFrame'>\n",
      "RangeIndex: 4211720 entries, 0 to 4211719\n",
      "Data columns (total 14 columns):\n",
      " #   Column           Dtype  \n",
      "---  ------           -----  \n",
      " 0   Area Code        int64  \n",
      " 1   Area Code (M49)  object \n",
      " 2   Area             object \n",
      " 3   Item Code        int64  \n",
      " 4   Item Code (CPC)  object \n",
      " 5   Item             object \n",
      " 6   Element Code     int64  \n",
      " 7   Element          object \n",
      " 8   Year Code        int64  \n",
      " 9   Year             int64  \n",
      " 10  Unit             object \n",
      " 11  Value            float64\n",
      " 12  Flag             object \n",
      " 13  Note             object \n",
      "dtypes: float64(1), int64(5), object(8)\n",
      "memory usage: 449.9+ MB\n"
     ]
    }
   ],
   "source": [
    "df.info()"
   ]
  },
  {
   "cell_type": "markdown",
   "metadata": {},
   "source": [
    "obs: los tipos de datos de las columnas son conrrectos. no hay que aplicarle cambios, ni normalizar pareciera."
   ]
  },
  {
   "cell_type": "markdown",
   "metadata": {},
   "source": [
    "3. comenzamos con la limpieza del dataframe:"
   ]
  },
  {
   "cell_type": "code",
   "execution_count": 60,
   "metadata": {},
   "outputs": [],
   "source": [
    "#eliminamos columnas innecesarias:\n",
    "df_clean_columns = df.drop([\"Area Code\", \"Area Code (M49)\", \"Item Code\", \"Item Code (CPC)\", \"Element Code\", \"Year Code\", \"Note\"], axis=1)"
   ]
  },
  {
   "cell_type": "code",
   "execution_count": 61,
   "metadata": {},
   "outputs": [
    {
     "name": "stdout",
     "output_type": "stream",
     "text": [
      "<class 'pandas.core.frame.DataFrame'>\n",
      "RangeIndex: 4211720 entries, 0 to 4211719\n",
      "Data columns (total 7 columns):\n",
      " #   Column   Dtype  \n",
      "---  ------   -----  \n",
      " 0   Area     object \n",
      " 1   Item     object \n",
      " 2   Element  object \n",
      " 3   Year     int64  \n",
      " 4   Unit     object \n",
      " 5   Value    float64\n",
      " 6   Flag     object \n",
      "dtypes: float64(1), int64(1), object(5)\n",
      "memory usage: 224.9+ MB\n"
     ]
    }
   ],
   "source": [
    "#comprobamos que se han eliminado esas columnas que no queremos:\n",
    "df_clean_columns.info()"
   ]
  },
  {
   "cell_type": "code",
   "execution_count": 62,
   "metadata": {},
   "outputs": [
    {
     "data": {
      "application/vnd.microsoft.datawrangler.viewer.v0+json": {
       "columns": [
        {
         "name": "index",
         "rawType": "int64",
         "type": "integer"
        },
        {
         "name": "Area",
         "rawType": "object",
         "type": "string"
        },
        {
         "name": "Item",
         "rawType": "object",
         "type": "string"
        },
        {
         "name": "Element",
         "rawType": "object",
         "type": "string"
        },
        {
         "name": "Year",
         "rawType": "int64",
         "type": "integer"
        },
        {
         "name": "Unit",
         "rawType": "object",
         "type": "string"
        },
        {
         "name": "Value",
         "rawType": "float64",
         "type": "float"
        },
        {
         "name": "Flag",
         "rawType": "object",
         "type": "string"
        }
       ],
       "conversionMethod": "pd.DataFrame",
       "ref": "e83ad4a6-af9a-495b-b2b9-d0c914ffd2d0",
       "rows": [
        [
         "0",
         "Afghanistan",
         "Almonds, in shell",
         "Area harvested",
         "1961",
         "ha",
         "0.0",
         "A"
        ],
        [
         "1",
         "Afghanistan",
         "Almonds, in shell",
         "Area harvested",
         "1962",
         "ha",
         "0.0",
         "A"
        ],
        [
         "2",
         "Afghanistan",
         "Almonds, in shell",
         "Area harvested",
         "1963",
         "ha",
         "0.0",
         "A"
        ],
        [
         "3",
         "Afghanistan",
         "Almonds, in shell",
         "Area harvested",
         "1964",
         "ha",
         "0.0",
         "A"
        ],
        [
         "4",
         "Afghanistan",
         "Almonds, in shell",
         "Area harvested",
         "1965",
         "ha",
         "0.0",
         "A"
        ]
       ],
       "shape": {
        "columns": 7,
        "rows": 5
       }
      },
      "text/html": [
       "<div>\n",
       "<style scoped>\n",
       "    .dataframe tbody tr th:only-of-type {\n",
       "        vertical-align: middle;\n",
       "    }\n",
       "\n",
       "    .dataframe tbody tr th {\n",
       "        vertical-align: top;\n",
       "    }\n",
       "\n",
       "    .dataframe thead th {\n",
       "        text-align: right;\n",
       "    }\n",
       "</style>\n",
       "<table border=\"1\" class=\"dataframe\">\n",
       "  <thead>\n",
       "    <tr style=\"text-align: right;\">\n",
       "      <th></th>\n",
       "      <th>Area</th>\n",
       "      <th>Item</th>\n",
       "      <th>Element</th>\n",
       "      <th>Year</th>\n",
       "      <th>Unit</th>\n",
       "      <th>Value</th>\n",
       "      <th>Flag</th>\n",
       "    </tr>\n",
       "  </thead>\n",
       "  <tbody>\n",
       "    <tr>\n",
       "      <th>0</th>\n",
       "      <td>Afghanistan</td>\n",
       "      <td>Almonds, in shell</td>\n",
       "      <td>Area harvested</td>\n",
       "      <td>1961</td>\n",
       "      <td>ha</td>\n",
       "      <td>0.0</td>\n",
       "      <td>A</td>\n",
       "    </tr>\n",
       "    <tr>\n",
       "      <th>1</th>\n",
       "      <td>Afghanistan</td>\n",
       "      <td>Almonds, in shell</td>\n",
       "      <td>Area harvested</td>\n",
       "      <td>1962</td>\n",
       "      <td>ha</td>\n",
       "      <td>0.0</td>\n",
       "      <td>A</td>\n",
       "    </tr>\n",
       "    <tr>\n",
       "      <th>2</th>\n",
       "      <td>Afghanistan</td>\n",
       "      <td>Almonds, in shell</td>\n",
       "      <td>Area harvested</td>\n",
       "      <td>1963</td>\n",
       "      <td>ha</td>\n",
       "      <td>0.0</td>\n",
       "      <td>A</td>\n",
       "    </tr>\n",
       "    <tr>\n",
       "      <th>3</th>\n",
       "      <td>Afghanistan</td>\n",
       "      <td>Almonds, in shell</td>\n",
       "      <td>Area harvested</td>\n",
       "      <td>1964</td>\n",
       "      <td>ha</td>\n",
       "      <td>0.0</td>\n",
       "      <td>A</td>\n",
       "    </tr>\n",
       "    <tr>\n",
       "      <th>4</th>\n",
       "      <td>Afghanistan</td>\n",
       "      <td>Almonds, in shell</td>\n",
       "      <td>Area harvested</td>\n",
       "      <td>1965</td>\n",
       "      <td>ha</td>\n",
       "      <td>0.0</td>\n",
       "      <td>A</td>\n",
       "    </tr>\n",
       "  </tbody>\n",
       "</table>\n",
       "</div>"
      ],
      "text/plain": [
       "          Area               Item         Element  Year Unit  Value Flag\n",
       "0  Afghanistan  Almonds, in shell  Area harvested  1961   ha    0.0    A\n",
       "1  Afghanistan  Almonds, in shell  Area harvested  1962   ha    0.0    A\n",
       "2  Afghanistan  Almonds, in shell  Area harvested  1963   ha    0.0    A\n",
       "3  Afghanistan  Almonds, in shell  Area harvested  1964   ha    0.0    A\n",
       "4  Afghanistan  Almonds, in shell  Area harvested  1965   ha    0.0    A"
      ]
     },
     "execution_count": 62,
     "metadata": {},
     "output_type": "execute_result"
    }
   ],
   "source": [
    "#printeamos con un .head para verlo mejor a la estructura del nuevo dataframe:\n",
    "df_clean_columns.head(5)"
   ]
  },
  {
   "cell_type": "code",
   "execution_count": 63,
   "metadata": {},
   "outputs": [],
   "source": [
    "# guardamos las modificaciones en un nuevo archivo, para seguir trabajando desde acá:\n",
    "df_clean_columns.to_csv(\"datos_limpiados.csv\", index=False)\n"
   ]
  },
  {
   "cell_type": "code",
   "execution_count": 64,
   "metadata": {},
   "outputs": [
    {
     "data": {
      "application/vnd.microsoft.datawrangler.viewer.v0+json": {
       "columns": [
        {
         "name": "index",
         "rawType": "int64",
         "type": "integer"
        },
        {
         "name": "Area",
         "rawType": "object",
         "type": "string"
        },
        {
         "name": "Item",
         "rawType": "object",
         "type": "string"
        },
        {
         "name": "Element",
         "rawType": "object",
         "type": "string"
        },
        {
         "name": "Year",
         "rawType": "int64",
         "type": "integer"
        },
        {
         "name": "Unit",
         "rawType": "object",
         "type": "string"
        },
        {
         "name": "Value",
         "rawType": "float64",
         "type": "float"
        },
        {
         "name": "Flag",
         "rawType": "object",
         "type": "string"
        }
       ],
       "conversionMethod": "pd.DataFrame",
       "ref": "ac2f4582-e8a8-4590-b82c-932d92e70d8e",
       "rows": [
        [
         "0",
         "Afghanistan",
         "Almonds, in shell",
         "Area harvested",
         "1961",
         "ha",
         "0.0",
         "Official figure"
        ],
        [
         "1",
         "Afghanistan",
         "Almonds, in shell",
         "Area harvested",
         "1962",
         "ha",
         "0.0",
         "Official figure"
        ],
        [
         "2",
         "Afghanistan",
         "Almonds, in shell",
         "Area harvested",
         "1963",
         "ha",
         "0.0",
         "Official figure"
        ],
        [
         "3",
         "Afghanistan",
         "Almonds, in shell",
         "Area harvested",
         "1964",
         "ha",
         "0.0",
         "Official figure"
        ],
        [
         "4",
         "Afghanistan",
         "Almonds, in shell",
         "Area harvested",
         "1965",
         "ha",
         "0.0",
         "Official figure"
        ]
       ],
       "shape": {
        "columns": 7,
        "rows": 5
       }
      },
      "text/html": [
       "<div>\n",
       "<style scoped>\n",
       "    .dataframe tbody tr th:only-of-type {\n",
       "        vertical-align: middle;\n",
       "    }\n",
       "\n",
       "    .dataframe tbody tr th {\n",
       "        vertical-align: top;\n",
       "    }\n",
       "\n",
       "    .dataframe thead th {\n",
       "        text-align: right;\n",
       "    }\n",
       "</style>\n",
       "<table border=\"1\" class=\"dataframe\">\n",
       "  <thead>\n",
       "    <tr style=\"text-align: right;\">\n",
       "      <th></th>\n",
       "      <th>Area</th>\n",
       "      <th>Item</th>\n",
       "      <th>Element</th>\n",
       "      <th>Year</th>\n",
       "      <th>Unit</th>\n",
       "      <th>Value</th>\n",
       "      <th>Flag</th>\n",
       "    </tr>\n",
       "  </thead>\n",
       "  <tbody>\n",
       "    <tr>\n",
       "      <th>0</th>\n",
       "      <td>Afghanistan</td>\n",
       "      <td>Almonds, in shell</td>\n",
       "      <td>Area harvested</td>\n",
       "      <td>1961</td>\n",
       "      <td>ha</td>\n",
       "      <td>0.0</td>\n",
       "      <td>Official figure</td>\n",
       "    </tr>\n",
       "    <tr>\n",
       "      <th>1</th>\n",
       "      <td>Afghanistan</td>\n",
       "      <td>Almonds, in shell</td>\n",
       "      <td>Area harvested</td>\n",
       "      <td>1962</td>\n",
       "      <td>ha</td>\n",
       "      <td>0.0</td>\n",
       "      <td>Official figure</td>\n",
       "    </tr>\n",
       "    <tr>\n",
       "      <th>2</th>\n",
       "      <td>Afghanistan</td>\n",
       "      <td>Almonds, in shell</td>\n",
       "      <td>Area harvested</td>\n",
       "      <td>1963</td>\n",
       "      <td>ha</td>\n",
       "      <td>0.0</td>\n",
       "      <td>Official figure</td>\n",
       "    </tr>\n",
       "    <tr>\n",
       "      <th>3</th>\n",
       "      <td>Afghanistan</td>\n",
       "      <td>Almonds, in shell</td>\n",
       "      <td>Area harvested</td>\n",
       "      <td>1964</td>\n",
       "      <td>ha</td>\n",
       "      <td>0.0</td>\n",
       "      <td>Official figure</td>\n",
       "    </tr>\n",
       "    <tr>\n",
       "      <th>4</th>\n",
       "      <td>Afghanistan</td>\n",
       "      <td>Almonds, in shell</td>\n",
       "      <td>Area harvested</td>\n",
       "      <td>1965</td>\n",
       "      <td>ha</td>\n",
       "      <td>0.0</td>\n",
       "      <td>Official figure</td>\n",
       "    </tr>\n",
       "  </tbody>\n",
       "</table>\n",
       "</div>"
      ],
      "text/plain": [
       "          Area               Item         Element  Year Unit  Value  \\\n",
       "0  Afghanistan  Almonds, in shell  Area harvested  1961   ha    0.0   \n",
       "1  Afghanistan  Almonds, in shell  Area harvested  1962   ha    0.0   \n",
       "2  Afghanistan  Almonds, in shell  Area harvested  1963   ha    0.0   \n",
       "3  Afghanistan  Almonds, in shell  Area harvested  1964   ha    0.0   \n",
       "4  Afghanistan  Almonds, in shell  Area harvested  1965   ha    0.0   \n",
       "\n",
       "              Flag  \n",
       "0  Official figure  \n",
       "1  Official figure  \n",
       "2  Official figure  \n",
       "3  Official figure  \n",
       "4  Official figure  "
      ]
     },
     "execution_count": 64,
     "metadata": {},
     "output_type": "execute_result"
    }
   ],
   "source": [
    "# la ultima columna (flag) tiene referencias de otra tabla que no está en este dataframe, por lo que reemplazamos los valores \n",
    "# para que se comprendan mejor:\n",
    "df_clean_columns['Flag'] = df_clean_columns['Flag'].replace({\n",
    "    \"E\": \"Estimated value\",\n",
    "    \"I\": \"Imputed value\",\n",
    "    \"A\": \"Official figure\",\n",
    "    \"M\": \"Missing value (data cannot exist; not applicable)\",\n",
    "    \"X\": \"Figure from international organizations\"\n",
    "})\n",
    "df_clean_columns.head()"
   ]
  },
  {
   "cell_type": "markdown",
   "metadata": {},
   "source": [
    "obs: podemos ver que ya quedaron reemplazadas y que ademas pareciera haber valores nulos en columna value, que lo vamos a dejar para mas adelante."
   ]
  },
  {
   "cell_type": "code",
   "execution_count": 65,
   "metadata": {},
   "outputs": [
    {
     "data": {
      "text/plain": [
       "Area\n",
       "World                                                   44964\n",
       "Asia                                                    41816\n",
       "Net Food Importing Developing Countries                 41420\n",
       "Americas                                                39541\n",
       "Africa                                                  39468\n",
       "Low Income Food Deficit Countries                       39076\n",
       "Land Locked Developing Countries                        37825\n",
       "Least Developed Countries                               36541\n",
       "South America                                           36247\n",
       "Eastern Asia                                            36144\n",
       "Europe                                                  35794\n",
       "European Union (27)                                     34983\n",
       "China                                                   34698\n",
       "Western Asia                                            34456\n",
       "Southern Europe                                         34118\n",
       "China, mainland                                         34015\n",
       "Southern Asia                                           33765\n",
       "Eastern Africa                                          32432\n",
       "Northern Africa                                         32074\n",
       "Oceania                                                 31879\n",
       "Central America                                         31672\n",
       "South-eastern Asia                                      30926\n",
       "Mexico                                                  30624\n",
       "Türkiye                                                 30434\n",
       "Eastern Europe                                          30193\n",
       "Spain                                                   29807\n",
       "Small Island Developing States                          28753\n",
       "Italy                                                   27882\n",
       "Western Europe                                          27803\n",
       "Northern America                                        27700\n",
       "Morocco                                                 27414\n",
       "United States of America                                27369\n",
       "Greece                                                  27327\n",
       "Peru                                                    27223\n",
       "Iran (Islamic Republic of)                              27137\n",
       "Australia and New Zealand                               27037\n",
       "France                                                  26901\n",
       "Bulgaria                                                26361\n",
       "Western Africa                                          26208\n",
       "India                                                   26023\n",
       "Egypt                                                   25852\n",
       "Australia                                               25402\n",
       "Middle Africa                                           25305\n",
       "Kenya                                                   25029\n",
       "Hungary                                                 24763\n",
       "Southern Africa                                         24559\n",
       "Caribbean                                               24523\n",
       "Portugal                                                24512\n",
       "Syrian Arab Republic                                    24497\n",
       "Argentina                                               24249\n",
       "Japan                                                   24157\n",
       "Ecuador                                                 24135\n",
       "Israel                                                  23997\n",
       "Brazil                                                  23965\n",
       "Pakistan                                                23678\n",
       "South Africa                                            23408\n",
       "Tunisia                                                 23330\n",
       "Thailand                                                23315\n",
       "China, Taiwan Province of                               23090\n",
       "Philippines                                             23039\n",
       "Madagascar                                              22968\n",
       "Romania                                                 22731\n",
       "Bolivia (Plurinational State of)                        22503\n",
       "Colombia                                                22336\n",
       "Chile                                                   21924\n",
       "Zimbabwe                                                21762\n",
       "Cyprus                                                  21665\n",
       "Indonesia                                               21601\n",
       "Germany                                                 21432\n",
       "United Republic of Tanzania                             21373\n",
       "New Zealand                                             21370\n",
       "Northern Europe                                         21272\n",
       "Republic of Korea                                       21206\n",
       "Austria                                                 21154\n",
       "Poland                                                  21108\n",
       "Algeria                                                 21086\n",
       "Iraq                                                    20892\n",
       "Lebanon                                                 20479\n",
       "Bangladesh                                              20407\n",
       "Cameroon                                                20295\n",
       "Switzerland                                             20057\n",
       "Jordan                                                  19964\n",
       "Canada                                                  19844\n",
       "Venezuela (Bolivarian Republic of)                      19836\n",
       "Guatemala                                               19552\n",
       "Albania                                                 19306\n",
       "Netherlands (Kingdom of the)                            18827\n",
       "Costa Rica                                              18496\n",
       "Myanmar                                                 18416\n",
       "Nepal                                                   18413\n",
       "Paraguay                                                18273\n",
       "Sri Lanka                                               18209\n",
       "Mali                                                    18157\n",
       "Côte d'Ivoire                                           17996\n",
       "Malaysia                                                17995\n",
       "Yemen                                                   17925\n",
       "Honduras                                                17663\n",
       "Melanesia                                               17592\n",
       "Jamaica                                                 17540\n",
       "Dominican Republic                                      17512\n",
       "Democratic Republic of the Congo                        17492\n",
       "Uruguay                                                 17314\n",
       "Nigeria                                                 17296\n",
       "Niger                                                   16951\n",
       "Haiti                                                   16783\n",
       "United Kingdom of Great Britain and Northern Ireland    16706\n",
       "Senegal                                                 16693\n",
       "Viet Nam                                                16588\n",
       "Denmark                                                 16497\n",
       "Cuba                                                    16346\n",
       "El Salvador                                             16266\n",
       "Malawi                                                  16172\n",
       "Ghana                                                   16118\n",
       "Bhutan                                                  16056\n",
       "Mozambique                                              16031\n",
       "Libya                                                   15644\n",
       "Burkina Faso                                            15448\n",
       "Palestine                                               15370\n",
       "Afghanistan                                             15263\n",
       "Rwanda                                                  15261\n",
       "Benin                                                   15239\n",
       "Polynesia                                               15222\n",
       "Sweden                                                  15111\n",
       "Trinidad and Tobago                                     15087\n",
       "Malta                                                   14875\n",
       "Mauritius                                               14835\n",
       "Norway                                                  14604\n",
       "Finland                                                 14522\n",
       "Papua New Guinea                                        14521\n",
       "Congo                                                   14508\n",
       "Guyana                                                  14486\n",
       "Ireland                                                 14429\n",
       "Nicaragua                                               14390\n",
       "Uganda                                                  14364\n",
       "Togo                                                    14180\n",
       "Guinea                                                  14138\n",
       "Sudan (former)                                          14098\n",
       "Grenada                                                 14068\n",
       "Fiji                                                    14001\n",
       "Central Asia                                            13945\n",
       "Angola                                                  13900\n",
       "Zambia                                                  13858\n",
       "Democratic People's Republic of Korea                   13855\n",
       "Lao People's Democratic Republic                        13828\n",
       "Belize                                                  13640\n",
       "Puerto Rico                                             13578\n",
       "Central African Republic                                13439\n",
       "Panama                                                  13282\n",
       "Chad                                                    13142\n",
       "Sierra Leone                                            13079\n",
       "Ukraine                                                 13069\n",
       "Saudi Arabia                                            13051\n",
       "Burundi                                                 12939\n",
       "Suriname                                                12878\n",
       "Somalia                                                 12690\n",
       "Dominica                                                12643\n",
       "Cambodia                                                12506\n",
       "Eswatini                                                12465\n",
       "Guinea-Bissau                                           12368\n",
       "United Arab Emirates                                    12314\n",
       "French Polynesia                                        12307\n",
       "Timor-Leste                                             12301\n",
       "Russian Federation                                      12279\n",
       "Saint Lucia                                             12041\n",
       "Kuwait                                                  12021\n",
       "Réunion                                                 11974\n",
       "Uzbekistan                                              11972\n",
       "Saint Vincent and the Grenadines                        11943\n",
       "USSR                                                    11769\n",
       "Kyrgyzstan                                              11720\n",
       "Barbados                                                11706\n",
       "Liberia                                                 11677\n",
       "Brunei Darussalam                                       11644\n",
       "Kazakhstan                                              11532\n",
       "Namibia                                                 11476\n",
       "Ethiopia                                                11415\n",
       "Slovakia                                                11389\n",
       "Oman                                                    11363\n",
       "Mauritania                                              11347\n",
       "Cabo Verde                                              11274\n",
       "Gabon                                                   11183\n",
       "Croatia                                                 11096\n",
       "Antigua and Barbuda                                     10954\n",
       "Botswana                                                10920\n",
       "Qatar                                                   10889\n",
       "Belgium-Luxembourg                                      10811\n",
       "Slovenia                                                10761\n",
       "Czechia                                                 10715\n",
       "Czechoslovakia                                          10702\n",
       "Guadeloupe                                              10577\n",
       "Mongolia                                                10552\n",
       "Yugoslav SFR                                            10488\n",
       "Bahamas                                                 10414\n",
       "Azerbaijan                                              10345\n",
       "North Macedonia                                         10276\n",
       "Bahrain                                                 10243\n",
       "Lithuania                                               10037\n",
       "Republic of Moldova                                     10018\n",
       "New Caledonia                                            9934\n",
       "Ethiopia PDR                                             9830\n",
       "Singapore                                                9820\n",
       "Bosnia and Herzegovina                                   9696\n",
       "Gambia                                                   9656\n",
       "Comoros                                                  9540\n",
       "China, Hong Kong SAR                                     9392\n",
       "Saint Kitts and Nevis                                    9388\n",
       "Georgia                                                  9338\n",
       "Sao Tome and Principe                                    9276\n",
       "Tonga                                                    9136\n",
       "Samoa                                                    8837\n",
       "Latvia                                                   8788\n",
       "Belarus                                                  8689\n",
       "Martinique                                               8634\n",
       "Cook Islands                                             8577\n",
       "Seychelles                                               8359\n",
       "Tajikistan                                               8289\n",
       "Armenia                                                  8128\n",
       "Estonia                                                  8092\n",
       "Lesotho                                                  8005\n",
       "Djibouti                                                 8003\n",
       "Solomon Islands                                          7925\n",
       "French Guiana                                            7870\n",
       "Vanuatu                                                  7732\n",
       "Iceland                                                  7267\n",
       "Belgium                                                  7196\n",
       "Equatorial Guinea                                        7163\n",
       "Turkmenistan                                             6811\n",
       "Niue                                                     6191\n",
       "Micronesia                                               6089\n",
       "Luxembourg                                               5767\n",
       "Serbia                                                   5724\n",
       "Maldives                                                 5519\n",
       "Eritrea                                                  5509\n",
       "China, Macao SAR                                         4892\n",
       "Serbia and Montenegro                                    4292\n",
       "Kiribati                                                 4087\n",
       "Montenegro                                               3919\n",
       "Tuvalu                                                   3784\n",
       "Micronesia (Federated States of)                         3774\n",
       "Sudan                                                    3326\n",
       "Tokelau                                                  3184\n",
       "Nauru                                                    3065\n",
       "South Sudan                                              2940\n",
       "Faroe Islands                                            2415\n",
       "Marshall Islands                                          307\n",
       "Name: count, dtype: int64"
      ]
     },
     "execution_count": 65,
     "metadata": {},
     "output_type": "execute_result"
    }
   ],
   "source": [
    "#printeamos un listado con los valores de la culumna Area, para ver si solo incluye paises:\n",
    "\n",
    "pd.set_option(\"display.max_rows\", None)  # Muestra todas las filas, sin truncar\n",
    "df_clean_columns[\"Area\"].value_counts() # me enlista las categorias dentro de la columna \"area\""
   ]
  },
  {
   "cell_type": "markdown",
   "metadata": {},
   "source": [
    "obs: notamos que ademas de paises, hay categorias por zonas geograficas, por lo que para nuestro analisis a nivel paises, debemos quitar los registros correspondientes a zonas/areas para que quede solo informacion a nivel paises, individualmente."
   ]
  },
  {
   "cell_type": "code",
   "execution_count": 66,
   "metadata": {},
   "outputs": [
    {
     "data": {
      "text/plain": [
       "array(['Afghanistan', 'Albania', 'Algeria', 'Angola',\n",
       "       'Antigua and Barbuda', 'Argentina', 'Armenia', 'Australia',\n",
       "       'Austria', 'Azerbaijan', 'Bahamas', 'Bahrain', 'Bangladesh',\n",
       "       'Barbados', 'Belarus', 'Belgium', 'Belgium-Luxembourg', 'Belize',\n",
       "       'Benin', 'Bhutan', 'Bolivia (Plurinational State of)',\n",
       "       'Bosnia and Herzegovina', 'Botswana', 'Brazil',\n",
       "       'Brunei Darussalam', 'Bulgaria', 'Burkina Faso', 'Burundi',\n",
       "       'Cabo Verde', 'Cambodia', 'Cameroon', 'Canada',\n",
       "       'Central African Republic', 'Chad', 'Chile', 'China',\n",
       "       'China, Hong Kong SAR', 'China, Macao SAR', 'China, mainland',\n",
       "       'China, Taiwan Province of', 'Colombia', 'Comoros', 'Congo',\n",
       "       'Cook Islands', 'Costa Rica', \"Côte d'Ivoire\", 'Croatia', 'Cuba',\n",
       "       'Cyprus', 'Czechia', 'Czechoslovakia',\n",
       "       \"Democratic People's Republic of Korea\",\n",
       "       'Democratic Republic of the Congo', 'Denmark', 'Djibouti',\n",
       "       'Dominica', 'Dominican Republic', 'Ecuador', 'Egypt',\n",
       "       'El Salvador', 'Equatorial Guinea', 'Eritrea', 'Estonia',\n",
       "       'Eswatini', 'Ethiopia', 'Ethiopia PDR', 'Faroe Islands', 'Fiji',\n",
       "       'Finland', 'France', 'French Guiana', 'French Polynesia', 'Gabon',\n",
       "       'Gambia', 'Georgia', 'Germany', 'Ghana', 'Greece', 'Grenada',\n",
       "       'Guadeloupe', 'Guatemala', 'Guinea', 'Guinea-Bissau', 'Guyana',\n",
       "       'Haiti', 'Honduras', 'Hungary', 'Iceland', 'India', 'Indonesia',\n",
       "       'Iran (Islamic Republic of)', 'Iraq', 'Ireland', 'Israel', 'Italy',\n",
       "       'Jamaica', 'Japan', 'Jordan', 'Kazakhstan', 'Kenya', 'Kiribati',\n",
       "       'Kuwait', 'Kyrgyzstan', \"Lao People's Democratic Republic\",\n",
       "       'Latvia', 'Lebanon', 'Lesotho', 'Liberia', 'Libya', 'Lithuania',\n",
       "       'Luxembourg', 'Madagascar', 'Malawi', 'Malaysia', 'Maldives',\n",
       "       'Mali', 'Malta', 'Marshall Islands', 'Martinique', 'Mauritania',\n",
       "       'Mauritius', 'Mexico', 'Micronesia (Federated States of)',\n",
       "       'Mongolia', 'Montenegro', 'Morocco', 'Mozambique', 'Myanmar',\n",
       "       'Namibia', 'Nauru', 'Nepal', 'Netherlands (Kingdom of the)',\n",
       "       'New Caledonia', 'New Zealand', 'Nicaragua', 'Niger', 'Nigeria',\n",
       "       'Niue', 'North Macedonia', 'Norway', 'Oman', 'Pakistan',\n",
       "       'Palestine', 'Panama', 'Papua New Guinea', 'Paraguay', 'Peru',\n",
       "       'Philippines', 'Poland', 'Portugal', 'Puerto Rico', 'Qatar',\n",
       "       'Republic of Korea', 'Republic of Moldova', 'Réunion', 'Romania',\n",
       "       'Russian Federation', 'Rwanda', 'Saint Kitts and Nevis',\n",
       "       'Saint Lucia', 'Saint Vincent and the Grenadines', 'Samoa',\n",
       "       'Sao Tome and Principe', 'Saudi Arabia', 'Senegal', 'Serbia',\n",
       "       'Serbia and Montenegro', 'Seychelles', 'Sierra Leone', 'Singapore',\n",
       "       'Slovakia', 'Slovenia', 'Solomon Islands', 'Somalia',\n",
       "       'South Africa', 'South Sudan', 'Spain', 'Sri Lanka', 'Sudan',\n",
       "       'Sudan (former)', 'Suriname', 'Sweden', 'Switzerland',\n",
       "       'Syrian Arab Republic', 'Tajikistan', 'Thailand', 'Timor-Leste',\n",
       "       'Togo', 'Tokelau', 'Tonga', 'Trinidad and Tobago', 'Tunisia',\n",
       "       'Türkiye', 'Turkmenistan', 'Tuvalu', 'Uganda', 'Ukraine',\n",
       "       'United Arab Emirates',\n",
       "       'United Kingdom of Great Britain and Northern Ireland',\n",
       "       'United Republic of Tanzania', 'United States of America',\n",
       "       'Uruguay', 'USSR', 'Uzbekistan', 'Vanuatu',\n",
       "       'Venezuela (Bolivarian Republic of)', 'Viet Nam', 'Yemen',\n",
       "       'Yugoslav SFR', 'Zambia', 'Zimbabwe', 'World', 'Africa',\n",
       "       'Eastern Africa', 'Middle Africa', 'Northern Africa',\n",
       "       'Southern Africa', 'Western Africa', 'Americas',\n",
       "       'Northern America', 'Central America', 'Caribbean',\n",
       "       'South America', 'Asia', 'Central Asia', 'Eastern Asia',\n",
       "       'Southern Asia', 'South-eastern Asia', 'Western Asia', 'Europe',\n",
       "       'Eastern Europe', 'Northern Europe', 'Southern Europe',\n",
       "       'Western Europe', 'Oceania', 'Australia and New Zealand',\n",
       "       'Melanesia', 'Micronesia', 'Polynesia', 'European Union (27)',\n",
       "       'Least Developed Countries', 'Land Locked Developing Countries',\n",
       "       'Small Island Developing States',\n",
       "       'Low Income Food Deficit Countries',\n",
       "       'Net Food Importing Developing Countries'], dtype=object)"
      ]
     },
     "execution_count": 66,
     "metadata": {},
     "output_type": "execute_result"
    }
   ],
   "source": [
    "#printeamos una lista de nuevo,para verlas mejor, ya que la anterior me la trunca:\n",
    "\n",
    "pd.set_option(\"display.max_rows\", None)  # Muestra todas las filas\n",
    "df_clean_columns[\"Area\"].unique()"
   ]
  },
  {
   "cell_type": "markdown",
   "metadata": {},
   "source": [
    "obs: vamos a proceder a quitar del dataframe las areas que no nos interesan."
   ]
  },
  {
   "cell_type": "code",
   "execution_count": 67,
   "metadata": {},
   "outputs": [],
   "source": [
    "# Lista de valores que NO son países\n",
    "no_paises = [\n",
    "    \"World\", \"Africa\", \"Americas\", \"Asia\", \"Europe\", \"Oceania\",\n",
    "    \"Eastern Africa\", \"Middle Africa\", \"Northern Africa\", \"Southern Africa\", \"Western Africa\",\n",
    "    \"Northern America\", \"Central America\", \"Caribbean\", \"South America\",\n",
    "    \"Central Asia\", \"Eastern Asia\", \"Southern Asia\", \"South-eastern Asia\", \"Western Asia\",\n",
    "    \"Eastern Europe\", \"Northern Europe\", \"Southern Europe\", \"Western Europe\",\n",
    "    \"Australia and New Zealand\", \"Melanesia\", \"Micronesia\", \"Polynesia\",\n",
    "    \"European Union (27)\", \"Least Developed Countries\", \"Land Locked Developing Countries\",\n",
    "    \"Small Island Developing States\", \"Low Income Food Deficit Countries\",\n",
    "    \"Net Food Importing Developing Countries\", \"Belgium-Luxembourg\",\n",
    "    \"Czechoslovakia\", \"Ethiopia PDR\", \"Serbia and Montenegro\", \"Sudan (former)\",\n",
    "    \"USSR\", \"Yugoslav SFR\" , \"China\"\n",
    "]\n",
    "\n",
    "# Filtrar solo países actuales (NO por categorias de paises)\n",
    "df_paises = df_clean_columns[~df_clean_columns[\"Area\"].isin(no_paises)]\n"
   ]
  },
  {
   "cell_type": "code",
   "execution_count": 68,
   "metadata": {},
   "outputs": [
    {
     "data": {
      "text/plain": [
       "(3063690, 7)"
      ]
     },
     "execution_count": 68,
     "metadata": {},
     "output_type": "execute_result"
    }
   ],
   "source": [
    "# conteo de filas y columnas\n",
    "np.shape(df_paises)"
   ]
  },
  {
   "cell_type": "markdown",
   "metadata": {},
   "source": [
    "obs: podemos ver que el dataframe se redujo a 3M de regstros, al quitar aquellos que NO son paises.(exluimos a china, ya que queda representada como china mainland)"
   ]
  },
  {
   "cell_type": "code",
   "execution_count": 109,
   "metadata": {},
   "outputs": [
    {
     "data": {
      "text/plain": [
       "(1199364, 7)"
      ]
     },
     "execution_count": 109,
     "metadata": {},
     "output_type": "execute_result"
    }
   ],
   "source": [
    "# Filtrar solo los datos de producción (Element = \"Production\")\n",
    "df_production = df_paises[df_paises[\"Element\"] == \"Production\"]\n",
    "np.shape(df_production)"
   ]
  },
  {
   "cell_type": "code",
   "execution_count": 69,
   "metadata": {},
   "outputs": [],
   "source": [
    "# guardamos las modificaciones en un nuevo archivo, para seguir trabajando desde acá:\n",
    "df_paises.to_csv(\"datos_limpiados_paises.csv\", index=False)"
   ]
  },
  {
   "cell_type": "markdown",
   "metadata": {},
   "source": [
    "obs: como nos interesa para responder una de las preguntas, la produccion de cada pais, es que tuvimos que filtrar la columna Element. Notar que el dataframe se redujo considerablemente a aprox 1M de registros ahora."
   ]
  },
  {
   "cell_type": "code",
   "execution_count": 110,
   "metadata": {},
   "outputs": [
    {
     "data": {
      "text/plain": [
       "array(['Afghanistan', 'Albania', 'Algeria', 'Angola',\n",
       "       'Antigua and Barbuda', 'Argentina', 'Armenia', 'Australia',\n",
       "       'Austria', 'Azerbaijan', 'Bahamas', 'Bahrain', 'Bangladesh',\n",
       "       'Barbados', 'Belarus', 'Belgium', 'Belize', 'Benin', 'Bhutan',\n",
       "       'Bolivia (Plurinational State of)', 'Bosnia and Herzegovina',\n",
       "       'Botswana', 'Brazil', 'Brunei Darussalam', 'Bulgaria',\n",
       "       'Burkina Faso', 'Burundi', 'Cabo Verde', 'Cambodia', 'Cameroon',\n",
       "       'Canada', 'Central African Republic', 'Chad', 'Chile',\n",
       "       'China, Hong Kong SAR', 'China, Macao SAR', 'China, mainland',\n",
       "       'China, Taiwan Province of', 'Colombia', 'Comoros', 'Congo',\n",
       "       'Cook Islands', 'Costa Rica', \"Côte d'Ivoire\", 'Croatia', 'Cuba',\n",
       "       'Cyprus', 'Czechia', \"Democratic People's Republic of Korea\",\n",
       "       'Democratic Republic of the Congo', 'Denmark', 'Djibouti',\n",
       "       'Dominica', 'Dominican Republic', 'Ecuador', 'Egypt',\n",
       "       'El Salvador', 'Equatorial Guinea', 'Eritrea', 'Estonia',\n",
       "       'Eswatini', 'Ethiopia', 'Faroe Islands', 'Fiji', 'Finland',\n",
       "       'France', 'French Guiana', 'French Polynesia', 'Gabon', 'Gambia',\n",
       "       'Georgia', 'Germany', 'Ghana', 'Greece', 'Grenada', 'Guadeloupe',\n",
       "       'Guatemala', 'Guinea', 'Guinea-Bissau', 'Guyana', 'Haiti',\n",
       "       'Honduras', 'Hungary', 'Iceland', 'India', 'Indonesia',\n",
       "       'Iran (Islamic Republic of)', 'Iraq', 'Ireland', 'Israel', 'Italy',\n",
       "       'Jamaica', 'Japan', 'Jordan', 'Kazakhstan', 'Kenya', 'Kiribati',\n",
       "       'Kuwait', 'Kyrgyzstan', \"Lao People's Democratic Republic\",\n",
       "       'Latvia', 'Lebanon', 'Lesotho', 'Liberia', 'Libya', 'Lithuania',\n",
       "       'Luxembourg', 'Madagascar', 'Malawi', 'Malaysia', 'Maldives',\n",
       "       'Mali', 'Malta', 'Marshall Islands', 'Martinique', 'Mauritania',\n",
       "       'Mauritius', 'Mexico', 'Micronesia (Federated States of)',\n",
       "       'Mongolia', 'Montenegro', 'Morocco', 'Mozambique', 'Myanmar',\n",
       "       'Namibia', 'Nauru', 'Nepal', 'Netherlands (Kingdom of the)',\n",
       "       'New Caledonia', 'New Zealand', 'Nicaragua', 'Niger', 'Nigeria',\n",
       "       'Niue', 'North Macedonia', 'Norway', 'Oman', 'Pakistan',\n",
       "       'Palestine', 'Panama', 'Papua New Guinea', 'Paraguay', 'Peru',\n",
       "       'Philippines', 'Poland', 'Portugal', 'Puerto Rico', 'Qatar',\n",
       "       'Republic of Korea', 'Republic of Moldova', 'Réunion', 'Romania',\n",
       "       'Russian Federation', 'Rwanda', 'Saint Kitts and Nevis',\n",
       "       'Saint Lucia', 'Saint Vincent and the Grenadines', 'Samoa',\n",
       "       'Sao Tome and Principe', 'Saudi Arabia', 'Senegal', 'Serbia',\n",
       "       'Seychelles', 'Sierra Leone', 'Singapore', 'Slovakia', 'Slovenia',\n",
       "       'Solomon Islands', 'Somalia', 'South Africa', 'South Sudan',\n",
       "       'Spain', 'Sri Lanka', 'Sudan', 'Suriname', 'Sweden', 'Switzerland',\n",
       "       'Syrian Arab Republic', 'Tajikistan', 'Thailand', 'Timor-Leste',\n",
       "       'Togo', 'Tokelau', 'Tonga', 'Trinidad and Tobago', 'Tunisia',\n",
       "       'Türkiye', 'Turkmenistan', 'Tuvalu', 'Uganda', 'Ukraine',\n",
       "       'United Arab Emirates',\n",
       "       'United Kingdom of Great Britain and Northern Ireland',\n",
       "       'United Republic of Tanzania', 'United States of America',\n",
       "       'Uruguay', 'Uzbekistan', 'Vanuatu',\n",
       "       'Venezuela (Bolivarian Republic of)', 'Viet Nam', 'Yemen',\n",
       "       'Zambia', 'Zimbabwe'], dtype=object)"
      ]
     },
     "execution_count": 110,
     "metadata": {},
     "output_type": "execute_result"
    }
   ],
   "source": [
    "#chequear que ya no esten las areas que no son paises:\n",
    "df_production[\"Area\"].unique()"
   ]
  },
  {
   "cell_type": "code",
   "execution_count": 111,
   "metadata": {},
   "outputs": [],
   "source": [
    "# guardamos las modificaciones en un nuevo archivo, para seguir trabajando desde acá:\n",
    "df_production.to_csv(\"datos_limpiados_countryonly.csv\", index=False)"
   ]
  },
  {
   "cell_type": "markdown",
   "metadata": {},
   "source": [
    "## parte 2: trabajamos desde el dataframe mas limpio (columnas quitadas, solo paises y solo lo que producen) falta. filtrar 2023 y categoria alimentos"
   ]
  },
  {
   "cell_type": "code",
   "execution_count": 2,
   "metadata": {},
   "outputs": [],
   "source": [
    "# Cargar el archivo CSV:\n",
    "df_production2 = pd.read_csv(r\"C:\\Users\\franb\\Downloads\\proyectos_data\\FAO\\datos_limpiados_countryonly.csv\")"
   ]
  },
  {
   "cell_type": "code",
   "execution_count": 3,
   "metadata": {},
   "outputs": [
    {
     "name": "stdout",
     "output_type": "stream",
     "text": [
      "Area           0\n",
      "Item           0\n",
      "Element        0\n",
      "Year           0\n",
      "Unit           0\n",
      "Value      77721\n",
      "Flag           0\n",
      "dtype: int64\n"
     ]
    }
   ],
   "source": [
    "#anteriormente habiamos notado valores nulos. vamos a ver cuantos hay en cada columna:\n",
    "\n",
    "print(df_production2.isnull().sum()) #cuantos nulos tengo, en cada columna??\n"
   ]
  },
  {
   "cell_type": "markdown",
   "metadata": {},
   "source": [
    "obs: solo tenemos nulos en la columna value"
   ]
  },
  {
   "cell_type": "code",
   "execution_count": 4,
   "metadata": {},
   "outputs": [
    {
     "name": "stdout",
     "output_type": "stream",
     "text": [
      "Area       0.000000\n",
      "Item       0.000000\n",
      "Element    0.000000\n",
      "Year       0.000000\n",
      "Unit       0.000000\n",
      "Value      6.480184\n",
      "Flag       0.000000\n",
      "dtype: float64\n"
     ]
    }
   ],
   "source": [
    "#calculamos el impacto de estos nulos, midiendo el porcentaje en relacion al total de registros:\n",
    "porcentaje_nulos = (df_production2.isnull().sum() / len(df_production2)) * 100\n",
    "print(porcentaje_nulos)"
   ]
  },
  {
   "cell_type": "markdown",
   "metadata": {},
   "source": [
    "obs. podemos ver que solo hay un 6% de valores nulos, lo que significa un numero bajo para el dataframe que estamos manejando. por lo que se podrían dejar sin darles un tratamiento."
   ]
  },
  {
   "cell_type": "code",
   "execution_count": 5,
   "metadata": {},
   "outputs": [
    {
     "name": "stdout",
     "output_type": "stream",
     "text": [
      "Empty DataFrame\n",
      "Columns: [Area, Item, Element, Year, Unit, Value, Flag]\n",
      "Index: []\n"
     ]
    }
   ],
   "source": [
    "# Filtrar y mostrar solo las filas duplicadas\n",
    "df_duplicados = df_production2[df_production2.duplicated()]\n",
    "print(df_duplicados)\n"
   ]
  },
  {
   "cell_type": "code",
   "execution_count": 6,
   "metadata": {},
   "outputs": [
    {
     "name": "stdout",
     "output_type": "stream",
     "text": [
      "0\n"
     ]
    }
   ],
   "source": [
    "print(df_production2.duplicated().sum())\n"
   ]
  },
  {
   "cell_type": "markdown",
   "metadata": {},
   "source": [
    "obs: podemos notar que el cojunto de datos no contiene valores duplicados."
   ]
  },
  {
   "cell_type": "markdown",
   "metadata": {},
   "source": [
    "## evaluacion de nulos: los valores nulos estan en todos los paises o solo en algunos? estan en alimentos especificos o en todos? en años particulares o todos?"
   ]
  },
  {
   "cell_type": "code",
   "execution_count": 8,
   "metadata": {},
   "outputs": [
    {
     "name": "stdout",
     "output_type": "stream",
     "text": [
      "                 Area  Percentage_Null_Values\n",
      "138         Palestine               49.865101\n",
      "170       South Sudan               44.408163\n",
      "10            Bahamas               21.218433\n",
      "18             Bhutan               18.083152\n",
      "126             Nepal               17.716430\n",
      "..                ...                     ...\n",
      "103           Liberia                0.000000\n",
      "125             Nauru                0.000000\n",
      "113  Marshall Islands                0.000000\n",
      "87               Iraq                0.000000\n",
      "187            Tuvalu                0.000000\n",
      "\n",
      "[203 rows x 2 columns]\n"
     ]
    }
   ],
   "source": [
    "\n",
    "# Calcular el porcentaje de valores nulos por país\n",
    "null_by_country = df_production2.groupby(\"Area\")[\"Value\"].apply(lambda x: x.isnull().mean() * 100).reset_index()\n",
    "null_by_country.columns = [\"Area\", \"Percentage_Null_Values\"]\n",
    "\n",
    "# Mostrar los países más afectados\n",
    "print(null_by_country.sort_values(by=\"Percentage_Null_Values\", ascending=False))"
   ]
  },
  {
   "cell_type": "markdown",
   "metadata": {},
   "source": [
    "obs: podemos notar que no todos los paises tienen valores nulos y que palestina tiene casi el 50% de estos valores faltantes."
   ]
  },
  {
   "cell_type": "code",
   "execution_count": 10,
   "metadata": {},
   "outputs": [
    {
     "name": "stdout",
     "output_type": "stream",
     "text": [
      "    Year  Percentage_Null_Values\n",
      "0   1961                8.401272\n",
      "13  1974                8.371420\n",
      "12  1973                8.365635\n",
      "16  1977                8.359850\n",
      "15  1976                8.359850\n",
      "..   ...                     ...\n",
      "58  2019                3.540956\n",
      "62  2023                3.374585\n",
      "59  2020                3.371586\n",
      "60  2021                3.117461\n",
      "61  2022                2.981825\n",
      "\n",
      "[63 rows x 2 columns]\n"
     ]
    }
   ],
   "source": [
    "\n",
    "# Calcular el porcentaje de valores nulos por año\n",
    "null_by_year = df_production2.groupby(\"Year\")[\"Value\"].apply(lambda x: x.isnull().mean() * 100).reset_index()\n",
    "null_by_year.columns = [\"Year\", \"Percentage_Null_Values\"]\n",
    "\n",
    "# Mostrar los años más afectados\n",
    "print(null_by_year.sort_values(by=\"Percentage_Null_Values\", ascending=False))\n"
   ]
  },
  {
   "cell_type": "markdown",
   "metadata": {},
   "source": [
    "obs: ademas, vemos que esos valores nulos se han ido reduciendo con los años, quizas por mejoras en la captacion de los datos. teniendo aporx solo un 3% de nulos en el año 2023 que es el que vamos a evaluar."
   ]
  },
  {
   "cell_type": "markdown",
   "metadata": {},
   "source": [
    "para evaluar a palestina que es el pais con mayor cantidad de nulos, analizamos el comportamiento de estos a lo largo de los años:"
   ]
  },
  {
   "cell_type": "code",
   "execution_count": 12,
   "metadata": {},
   "outputs": [
    {
     "name": "stdout",
     "output_type": "stream",
     "text": [
      "Porcentaje de valores nulos por año en Palestina:\n",
      "    Year  Percentage_Null_Values\n",
      "62  2023                3.809524\n",
      "61  2022                3.603604\n",
      "60  2021                3.603604\n",
      "59  2020                3.669725\n",
      "58  2019                3.669725\n",
      "..   ...                     ...\n",
      "4   1965               98.913043\n",
      "3   1964               98.913043\n",
      "2   1963               98.913043\n",
      "1   1962               98.913043\n",
      "0   1961               98.913043\n",
      "\n",
      "[63 rows x 2 columns]\n"
     ]
    }
   ],
   "source": [
    "\n",
    "# Filtrar solo los datos de producción de alimentos\n",
    "df_production_p = df_production2[df_production2[\"Element\"] == \"Production\"]\n",
    "\n",
    "# Filtrar solo los datos de producción de alimentos para Palestina\n",
    "df_palestine_production = df_production2[df_production2[\"Area\"] == \"Palestine\"]\n",
    "\n",
    "# Calcular el porcentaje de valores nulos por año en Palestina\n",
    "null_by_year_palestine = df_palestine_production.groupby(\"Year\")[\"Value\"].apply(lambda x: x.isnull().mean() * 100).reset_index()\n",
    "null_by_year_palestine.columns = [\"Year\", \"Percentage_Null_Values\"]\n",
    "\n",
    "# Mostrar los años más afectados en Palestina\n",
    "print(\"Porcentaje de valores nulos por año en Palestina:\")\n",
    "print(null_by_year_palestine.sort_values(by=\"Year\", ascending=False))\n"
   ]
  },
  {
   "cell_type": "markdown",
   "metadata": {},
   "source": [
    "obs. podemos ver que palestina se comporta como lo anterior mencionado, ya que se encuentral la mayor cantidad de nulos en los primeros años y a medida que van pasando, se reduce drasticamente la cantidad de nulos o  faltantes."
   ]
  },
  {
   "cell_type": "code",
   "execution_count": 55,
   "metadata": {},
   "outputs": [
    {
     "data": {
      "text/plain": [
       "{'Promedio': np.float64(29416.10968027857),\n",
       " 'Mínimo': np.float64(0.0),\n",
       " 'Máximo': np.float64(810000.0)}"
      ]
     },
     "execution_count": 55,
     "metadata": {},
     "output_type": "execute_result"
    }
   ],
   "source": [
    "# Filtrar solo los datos de producción de alimentos para Palestina\n",
    "df_palestine_production = df_production[(df_production[\"Element\"] == \"Production\") & (df_production[\"Area\"] == \"Palestine\")]\n",
    "\n",
    "# Calcular estadísticas descriptivas de la columna \"Value\"\n",
    "palestine_value_stats = {\n",
    "    \"Promedio\": df_palestine_production[\"Value\"].mean(),\n",
    "    \"Mínimo\": df_palestine_production[\"Value\"].min(),\n",
    "    \"Máximo\": df_palestine_production[\"Value\"].max()\n",
    "}\n",
    "\n",
    "palestine_value_stats"
   ]
  },
  {
   "cell_type": "code",
   "execution_count": 13,
   "metadata": {},
   "outputs": [
    {
     "name": "stdout",
     "output_type": "stream",
     "text": [
      "                              Item  Percentage_Null_Values\n",
      "28             Butter of goat milk              100.000000\n",
      "36                  Cassava leaves               99.375000\n",
      "18                     Blueberries               39.525463\n",
      "67                     Cranberries               39.082058\n",
      "19           Brazil nuts, in shell               38.083538\n",
      "..                             ...                     ...\n",
      "236    Skim Milk & Buttermilk, Dry                0.000000\n",
      "25   Butter and ghee of sheep milk                0.000000\n",
      "24                 Butter and Ghee                0.000000\n",
      "256               Tallowtree seeds                0.000000\n",
      "249            Sugar Crops Primary                0.000000\n",
      "\n",
      "[281 rows x 2 columns]\n"
     ]
    }
   ],
   "source": [
    "# Calcular el porcentaje de valores nulos por categoría de alimento (Item)\n",
    "null_by_item = df_production2.groupby(\"Item\")[\"Value\"].apply(lambda x: x.isnull().mean() * 100).reset_index()\n",
    "null_by_item.columns = [\"Item\", \"Percentage_Null_Values\"]\n",
    "\n",
    "# Mostrar las categorías más afectadas\n",
    "print(null_by_item.sort_values(by=\"Percentage_Null_Values\", ascending=False))\n"
   ]
  },
  {
   "cell_type": "markdown",
   "metadata": {},
   "source": [
    "obs: podemos ver que hay alimentos que no tienen nulos y otros que tienen muchos, y hay 2 con valores muy altos de nulos(butter of goat milk y cassava leaves)"
   ]
  },
  {
   "cell_type": "code",
   "execution_count": 14,
   "metadata": {},
   "outputs": [
    {
     "name": "stdout",
     "output_type": "stream",
     "text": [
      "Países afectados: 197 de 203\n"
     ]
    }
   ],
   "source": [
    "# Contar cuántos países tienen al menos un valor nulo\n",
    "countries_with_nulls = df_production2[df_production2[\"Value\"].isnull()][\"Area\"].nunique()\n",
    "total_countries = df_production2[\"Area\"].nunique()\n",
    "\n",
    "# Mostrar el número de países afectados\n",
    "print(f\"Países afectados: {countries_with_nulls} de {total_countries}\")\n"
   ]
  },
  {
   "cell_type": "code",
   "execution_count": 15,
   "metadata": {},
   "outputs": [
    {
     "data": {
      "image/png": "[encoded data removed]",
      "text/plain": [
       "<Figure size 1000x500 with 1 Axes>"
      ]
     },
     "metadata": {},
     "output_type": "display_data"
    },
    {
     "data": {
      "image/png": "[encoded data removed]",
      "text/plain": [
       "<Figure size 1000x500 with 1 Axes>"
      ]
     },
     "metadata": {},
     "output_type": "display_data"
    }
   ],
   "source": [
    "\n",
    "# Gráfica de países más afectados\n",
    "top_countries_null = null_by_country.sort_values(by=\"Percentage_Null_Values\", ascending=False).head(10)\n",
    "plt.figure(figsize=(10, 5))\n",
    "plt.barh(top_countries_null[\"Area\"], top_countries_null[\"Percentage_Null_Values\"])\n",
    "plt.xlabel(\"Porcentaje de Valores Nulos\")\n",
    "plt.ylabel(\"País\")\n",
    "plt.title(\"Top 10 Países con Mayor Proporción de Valores Nulos\")\n",
    "plt.gca().invert_yaxis()  # Invierte el eje para mejor visualización\n",
    "plt.show()\n",
    "\n",
    "# Gráfica de categorías más afectadas\n",
    "top_items_null = null_by_item.sort_values(by=\"Percentage_Null_Values\", ascending=False).head(10)\n",
    "plt.figure(figsize=(10, 5))\n",
    "plt.barh(top_items_null[\"Item\"], top_items_null[\"Percentage_Null_Values\"])\n",
    "plt.xlabel(\"Porcentaje de Valores Nulos\")\n",
    "plt.ylabel(\"Categoría de Producto\")\n",
    "plt.title(\"Top 10 Categorías con Mayor Proporción de Valores Nulos\")\n",
    "plt.gca().invert_yaxis()\n",
    "plt.show()\n"
   ]
  },
  {
   "cell_type": "markdown",
   "metadata": {},
   "source": [
    "## aplicar filtros de año 2023, quitar categorias de alimentos y unidades de produccion no validas:"
   ]
  },
  {
   "cell_type": "code",
   "execution_count": 26,
   "metadata": {},
   "outputs": [
    {
     "data": {
      "application/vnd.microsoft.datawrangler.viewer.v0+json": {
       "columns": [
        {
         "name": "index",
         "rawType": "int64",
         "type": "integer"
        },
        {
         "name": "Area",
         "rawType": "object",
         "type": "string"
        },
        {
         "name": "Item",
         "rawType": "object",
         "type": "string"
        },
        {
         "name": "Element",
         "rawType": "object",
         "type": "string"
        },
        {
         "name": "Year",
         "rawType": "int64",
         "type": "integer"
        },
        {
         "name": "Unit",
         "rawType": "object",
         "type": "string"
        },
        {
         "name": "Value",
         "rawType": "float64",
         "type": "float"
        },
        {
         "name": "Flag",
         "rawType": "object",
         "type": "string"
        }
       ],
       "conversionMethod": "pd.DataFrame",
       "ref": "88a7bf30-9219-415f-b573-9cf7c1304dd1",
       "rows": [
        [
         "0",
         "Afghanistan",
         "Almonds, in shell",
         "Production",
         "1961",
         "t",
         "0.0",
         "Official figure"
        ],
        [
         "1",
         "Afghanistan",
         "Almonds, in shell",
         "Production",
         "1962",
         "t",
         "0.0",
         "Official figure"
        ],
        [
         "2",
         "Afghanistan",
         "Almonds, in shell",
         "Production",
         "1963",
         "t",
         "0.0",
         "Official figure"
        ],
        [
         "3",
         "Afghanistan",
         "Almonds, in shell",
         "Production",
         "1964",
         "t",
         "0.0",
         "Official figure"
        ],
        [
         "4",
         "Afghanistan",
         "Almonds, in shell",
         "Production",
         "1965",
         "t",
         "0.0",
         "Official figure"
        ]
       ],
       "shape": {
        "columns": 7,
        "rows": 5
       }
      },
      "text/html": [
       "<div>\n",
       "<style scoped>\n",
       "    .dataframe tbody tr th:only-of-type {\n",
       "        vertical-align: middle;\n",
       "    }\n",
       "\n",
       "    .dataframe tbody tr th {\n",
       "        vertical-align: top;\n",
       "    }\n",
       "\n",
       "    .dataframe thead th {\n",
       "        text-align: right;\n",
       "    }\n",
       "</style>\n",
       "<table border=\"1\" class=\"dataframe\">\n",
       "  <thead>\n",
       "    <tr style=\"text-align: right;\">\n",
       "      <th></th>\n",
       "      <th>Area</th>\n",
       "      <th>Item</th>\n",
       "      <th>Element</th>\n",
       "      <th>Year</th>\n",
       "      <th>Unit</th>\n",
       "      <th>Value</th>\n",
       "      <th>Flag</th>\n",
       "    </tr>\n",
       "  </thead>\n",
       "  <tbody>\n",
       "    <tr>\n",
       "      <th>0</th>\n",
       "      <td>Afghanistan</td>\n",
       "      <td>Almonds, in shell</td>\n",
       "      <td>Production</td>\n",
       "      <td>1961</td>\n",
       "      <td>t</td>\n",
       "      <td>0.0</td>\n",
       "      <td>Official figure</td>\n",
       "    </tr>\n",
       "    <tr>\n",
       "      <th>1</th>\n",
       "      <td>Afghanistan</td>\n",
       "      <td>Almonds, in shell</td>\n",
       "      <td>Production</td>\n",
       "      <td>1962</td>\n",
       "      <td>t</td>\n",
       "      <td>0.0</td>\n",
       "      <td>Official figure</td>\n",
       "    </tr>\n",
       "    <tr>\n",
       "      <th>2</th>\n",
       "      <td>Afghanistan</td>\n",
       "      <td>Almonds, in shell</td>\n",
       "      <td>Production</td>\n",
       "      <td>1963</td>\n",
       "      <td>t</td>\n",
       "      <td>0.0</td>\n",
       "      <td>Official figure</td>\n",
       "    </tr>\n",
       "    <tr>\n",
       "      <th>3</th>\n",
       "      <td>Afghanistan</td>\n",
       "      <td>Almonds, in shell</td>\n",
       "      <td>Production</td>\n",
       "      <td>1964</td>\n",
       "      <td>t</td>\n",
       "      <td>0.0</td>\n",
       "      <td>Official figure</td>\n",
       "    </tr>\n",
       "    <tr>\n",
       "      <th>4</th>\n",
       "      <td>Afghanistan</td>\n",
       "      <td>Almonds, in shell</td>\n",
       "      <td>Production</td>\n",
       "      <td>1965</td>\n",
       "      <td>t</td>\n",
       "      <td>0.0</td>\n",
       "      <td>Official figure</td>\n",
       "    </tr>\n",
       "  </tbody>\n",
       "</table>\n",
       "</div>"
      ],
      "text/plain": [
       "          Area               Item     Element  Year Unit  Value  \\\n",
       "0  Afghanistan  Almonds, in shell  Production  1961    t    0.0   \n",
       "1  Afghanistan  Almonds, in shell  Production  1962    t    0.0   \n",
       "2  Afghanistan  Almonds, in shell  Production  1963    t    0.0   \n",
       "3  Afghanistan  Almonds, in shell  Production  1964    t    0.0   \n",
       "4  Afghanistan  Almonds, in shell  Production  1965    t    0.0   \n",
       "\n",
       "              Flag  \n",
       "0  Official figure  \n",
       "1  Official figure  \n",
       "2  Official figure  \n",
       "3  Official figure  \n",
       "4  Official figure  "
      ]
     },
     "execution_count": 26,
     "metadata": {},
     "output_type": "execute_result"
    }
   ],
   "source": [
    "df_production2.head(5)"
   ]
  },
  {
   "cell_type": "code",
   "execution_count": 34,
   "metadata": {},
   "outputs": [
    {
     "name": "stdout",
     "output_type": "stream",
     "text": [
      "Unidades de medida en el dataframe:\n",
      "['t' '1000 No']\n"
     ]
    }
   ],
   "source": [
    "# Ver los valores únicos en la columna \"Unit\"\n",
    "unidades_unicas = df_production2[\"Unit\"].unique()\n",
    "\n",
    "# Mostrar resultados\n",
    "print(\"Unidades de medida en el dataframe:\")\n",
    "print(unidades_unicas)\n"
   ]
  },
  {
   "cell_type": "markdown",
   "metadata": {},
   "source": [
    "obs: vemos que la columna unit posee una unidad que no nos sirve en nuestro analisis. la eliminaremos"
   ]
  },
  {
   "cell_type": "code",
   "execution_count": 36,
   "metadata": {},
   "outputs": [],
   "source": [
    "#eliminar del dataframe los registros que tengan como Unit = 1000 no (para normalizar las unidades al comparar):\n",
    "\n",
    "# Filtrar el dataframe eliminando los registros donde \"Unit\" es \"1000 No\"\n",
    "df_filtrado = df_production2[df_production2[\"Unit\"] != \"1000 No\"]\n",
    "\n",
    "# Mostrar las primeras filas para verificar\n",
    "df_filtrado.head()\n",
    "\n",
    "# Opcional: Guardar el dataframe filtrado en un nuevo archivo CSV\n",
    "df_filtrado.to_csv(\"datos_filtrados_3.csv\", index=False)\n"
   ]
  },
  {
   "cell_type": "code",
   "execution_count": 29,
   "metadata": {},
   "outputs": [
    {
     "data": {
      "application/vnd.microsoft.datawrangler.viewer.v0+json": {
       "columns": [
        {
         "name": "index",
         "rawType": "int64",
         "type": "integer"
        },
        {
         "name": "Area",
         "rawType": "object",
         "type": "string"
        },
        {
         "name": "Item",
         "rawType": "object",
         "type": "string"
        },
        {
         "name": "Element",
         "rawType": "object",
         "type": "string"
        },
        {
         "name": "Year",
         "rawType": "int64",
         "type": "integer"
        },
        {
         "name": "Unit",
         "rawType": "object",
         "type": "string"
        },
        {
         "name": "Value",
         "rawType": "float64",
         "type": "float"
        },
        {
         "name": "Flag",
         "rawType": "object",
         "type": "string"
        }
       ],
       "conversionMethod": "pd.DataFrame",
       "ref": "e3473523-66c7-495d-a406-7167d5886ea6",
       "rows": [
        [
         "0",
         "Afghanistan",
         "Almonds, in shell",
         "Production",
         "1961",
         "t",
         "0.0",
         "Official figure"
        ],
        [
         "1",
         "Afghanistan",
         "Almonds, in shell",
         "Production",
         "1962",
         "t",
         "0.0",
         "Official figure"
        ],
        [
         "2",
         "Afghanistan",
         "Almonds, in shell",
         "Production",
         "1963",
         "t",
         "0.0",
         "Official figure"
        ],
        [
         "3",
         "Afghanistan",
         "Almonds, in shell",
         "Production",
         "1964",
         "t",
         "0.0",
         "Official figure"
        ],
        [
         "4",
         "Afghanistan",
         "Almonds, in shell",
         "Production",
         "1965",
         "t",
         "0.0",
         "Official figure"
        ],
        [
         "5",
         "Afghanistan",
         "Almonds, in shell",
         "Production",
         "1966",
         "t",
         "0.0",
         "Official figure"
        ],
        [
         "6",
         "Afghanistan",
         "Almonds, in shell",
         "Production",
         "1967",
         "t",
         "0.0",
         "Official figure"
        ],
        [
         "7",
         "Afghanistan",
         "Almonds, in shell",
         "Production",
         "1968",
         "t",
         "0.0",
         "Official figure"
        ],
        [
         "8",
         "Afghanistan",
         "Almonds, in shell",
         "Production",
         "1969",
         "t",
         "0.0",
         "Official figure"
        ],
        [
         "9",
         "Afghanistan",
         "Almonds, in shell",
         "Production",
         "1970",
         "t",
         "0.0",
         "Official figure"
        ],
        [
         "10",
         "Afghanistan",
         "Almonds, in shell",
         "Production",
         "1971",
         "t",
         "0.0",
         "Official figure"
        ],
        [
         "11",
         "Afghanistan",
         "Almonds, in shell",
         "Production",
         "1972",
         "t",
         "0.0",
         "Official figure"
        ],
        [
         "12",
         "Afghanistan",
         "Almonds, in shell",
         "Production",
         "1973",
         "t",
         "0.0",
         "Official figure"
        ],
        [
         "13",
         "Afghanistan",
         "Almonds, in shell",
         "Production",
         "1974",
         "t",
         "0.0",
         "Official figure"
        ],
        [
         "14",
         "Afghanistan",
         "Almonds, in shell",
         "Production",
         "1975",
         "t",
         "0.0",
         "Estimated value"
        ],
        [
         "15",
         "Afghanistan",
         "Almonds, in shell",
         "Production",
         "1976",
         "t",
         "9800.0",
         "Estimated value"
        ],
        [
         "16",
         "Afghanistan",
         "Almonds, in shell",
         "Production",
         "1977",
         "t",
         "9000.0",
         "Estimated value"
        ],
        [
         "17",
         "Afghanistan",
         "Almonds, in shell",
         "Production",
         "1978",
         "t",
         "12000.0",
         "Estimated value"
        ],
        [
         "18",
         "Afghanistan",
         "Almonds, in shell",
         "Production",
         "1979",
         "t",
         "10500.0",
         "Estimated value"
        ],
        [
         "19",
         "Afghanistan",
         "Almonds, in shell",
         "Production",
         "1980",
         "t",
         "9900.0",
         "Estimated value"
        ],
        [
         "20",
         "Afghanistan",
         "Almonds, in shell",
         "Production",
         "1981",
         "t",
         "8000.0",
         "Estimated value"
        ],
        [
         "21",
         "Afghanistan",
         "Almonds, in shell",
         "Production",
         "1982",
         "t",
         "11000.0",
         "Estimated value"
        ],
        [
         "22",
         "Afghanistan",
         "Almonds, in shell",
         "Production",
         "1983",
         "t",
         "9700.0",
         "Estimated value"
        ],
        [
         "23",
         "Afghanistan",
         "Almonds, in shell",
         "Production",
         "1984",
         "t",
         "10500.0",
         "Estimated value"
        ],
        [
         "24",
         "Afghanistan",
         "Almonds, in shell",
         "Production",
         "1985",
         "t",
         "9000.0",
         "Estimated value"
        ],
        [
         "25",
         "Afghanistan",
         "Almonds, in shell",
         "Production",
         "1986",
         "t",
         "10000.0",
         "Estimated value"
        ],
        [
         "26",
         "Afghanistan",
         "Almonds, in shell",
         "Production",
         "1987",
         "t",
         "9000.0",
         "Estimated value"
        ],
        [
         "27",
         "Afghanistan",
         "Almonds, in shell",
         "Production",
         "1988",
         "t",
         "9000.0",
         "Estimated value"
        ],
        [
         "28",
         "Afghanistan",
         "Almonds, in shell",
         "Production",
         "1989",
         "t",
         "8800.0",
         "Estimated value"
        ],
        [
         "29",
         "Afghanistan",
         "Almonds, in shell",
         "Production",
         "1990",
         "t",
         "9500.0",
         "Estimated value"
        ],
        [
         "30",
         "Afghanistan",
         "Almonds, in shell",
         "Production",
         "1991",
         "t",
         "9000.0",
         "Official figure"
        ],
        [
         "31",
         "Afghanistan",
         "Almonds, in shell",
         "Production",
         "1992",
         "t",
         "9900.0",
         "Official figure"
        ],
        [
         "32",
         "Afghanistan",
         "Almonds, in shell",
         "Production",
         "1993",
         "t",
         "9000.0",
         "Official figure"
        ],
        [
         "33",
         "Afghanistan",
         "Almonds, in shell",
         "Production",
         "1994",
         "t",
         "9000.0",
         "Official figure"
        ],
        [
         "34",
         "Afghanistan",
         "Almonds, in shell",
         "Production",
         "1995",
         "t",
         "9000.0",
         "Official figure"
        ],
        [
         "35",
         "Afghanistan",
         "Almonds, in shell",
         "Production",
         "1996",
         "t",
         "9000.0",
         "Official figure"
        ],
        [
         "36",
         "Afghanistan",
         "Almonds, in shell",
         "Production",
         "1997",
         "t",
         "9000.0",
         "Official figure"
        ],
        [
         "37",
         "Afghanistan",
         "Almonds, in shell",
         "Production",
         "1998",
         "t",
         "9000.0",
         "Official figure"
        ],
        [
         "38",
         "Afghanistan",
         "Almonds, in shell",
         "Production",
         "1999",
         "t",
         "11000.0",
         "Estimated value"
        ],
        [
         "39",
         "Afghanistan",
         "Almonds, in shell",
         "Production",
         "2000",
         "t",
         "12000.0",
         "Estimated value"
        ],
        [
         "40",
         "Afghanistan",
         "Almonds, in shell",
         "Production",
         "2001",
         "t",
         "15000.0",
         "Estimated value"
        ],
        [
         "41",
         "Afghanistan",
         "Almonds, in shell",
         "Production",
         "2002",
         "t",
         "11773.99",
         "Imputed value"
        ],
        [
         "42",
         "Afghanistan",
         "Almonds, in shell",
         "Production",
         "2003",
         "t",
         "14000.0",
         "Figure from international organizations"
        ],
        [
         "43",
         "Afghanistan",
         "Almonds, in shell",
         "Production",
         "2004",
         "t",
         "14700.0",
         "Figure from international organizations"
        ],
        [
         "44",
         "Afghanistan",
         "Almonds, in shell",
         "Production",
         "2005",
         "t",
         "15630.0",
         "Figure from international organizations"
        ],
        [
         "45",
         "Afghanistan",
         "Almonds, in shell",
         "Production",
         "2006",
         "t",
         "20000.0",
         "Official figure"
        ],
        [
         "46",
         "Afghanistan",
         "Almonds, in shell",
         "Production",
         "2007",
         "t",
         "31481.0",
         "Official figure"
        ],
        [
         "47",
         "Afghanistan",
         "Almonds, in shell",
         "Production",
         "2008",
         "t",
         "42000.0",
         "Official figure"
        ],
        [
         "48",
         "Afghanistan",
         "Almonds, in shell",
         "Production",
         "2009",
         "t",
         "43183.0",
         "Figure from international organizations"
        ],
        [
         "49",
         "Afghanistan",
         "Almonds, in shell",
         "Production",
         "2010",
         "t",
         "56000.0",
         "Official figure"
        ]
       ],
       "shape": {
        "columns": 7,
        "rows": 1185368
       }
      },
      "text/html": [
       "<div>\n",
       "<style scoped>\n",
       "    .dataframe tbody tr th:only-of-type {\n",
       "        vertical-align: middle;\n",
       "    }\n",
       "\n",
       "    .dataframe tbody tr th {\n",
       "        vertical-align: top;\n",
       "    }\n",
       "\n",
       "    .dataframe thead th {\n",
       "        text-align: right;\n",
       "    }\n",
       "</style>\n",
       "<table border=\"1\" class=\"dataframe\">\n",
       "  <thead>\n",
       "    <tr style=\"text-align: right;\">\n",
       "      <th></th>\n",
       "      <th>Area</th>\n",
       "      <th>Item</th>\n",
       "      <th>Element</th>\n",
       "      <th>Year</th>\n",
       "      <th>Unit</th>\n",
       "      <th>Value</th>\n",
       "      <th>Flag</th>\n",
       "    </tr>\n",
       "  </thead>\n",
       "  <tbody>\n",
       "    <tr>\n",
       "      <th>0</th>\n",
       "      <td>Afghanistan</td>\n",
       "      <td>Almonds, in shell</td>\n",
       "      <td>Production</td>\n",
       "      <td>1961</td>\n",
       "      <td>t</td>\n",
       "      <td>0.00</td>\n",
       "      <td>Official figure</td>\n",
       "    </tr>\n",
       "    <tr>\n",
       "      <th>1</th>\n",
       "      <td>Afghanistan</td>\n",
       "      <td>Almonds, in shell</td>\n",
       "      <td>Production</td>\n",
       "      <td>1962</td>\n",
       "      <td>t</td>\n",
       "      <td>0.00</td>\n",
       "      <td>Official figure</td>\n",
       "    </tr>\n",
       "    <tr>\n",
       "      <th>2</th>\n",
       "      <td>Afghanistan</td>\n",
       "      <td>Almonds, in shell</td>\n",
       "      <td>Production</td>\n",
       "      <td>1963</td>\n",
       "      <td>t</td>\n",
       "      <td>0.00</td>\n",
       "      <td>Official figure</td>\n",
       "    </tr>\n",
       "    <tr>\n",
       "      <th>3</th>\n",
       "      <td>Afghanistan</td>\n",
       "      <td>Almonds, in shell</td>\n",
       "      <td>Production</td>\n",
       "      <td>1964</td>\n",
       "      <td>t</td>\n",
       "      <td>0.00</td>\n",
       "      <td>Official figure</td>\n",
       "    </tr>\n",
       "    <tr>\n",
       "      <th>4</th>\n",
       "      <td>Afghanistan</td>\n",
       "      <td>Almonds, in shell</td>\n",
       "      <td>Production</td>\n",
       "      <td>1965</td>\n",
       "      <td>t</td>\n",
       "      <td>0.00</td>\n",
       "      <td>Official figure</td>\n",
       "    </tr>\n",
       "    <tr>\n",
       "      <th>...</th>\n",
       "      <td>...</td>\n",
       "      <td>...</td>\n",
       "      <td>...</td>\n",
       "      <td>...</td>\n",
       "      <td>...</td>\n",
       "      <td>...</td>\n",
       "      <td>...</td>\n",
       "    </tr>\n",
       "    <tr>\n",
       "      <th>1199359</th>\n",
       "      <td>Zimbabwe</td>\n",
       "      <td>Vegetables Primary</td>\n",
       "      <td>Production</td>\n",
       "      <td>2019</td>\n",
       "      <td>t</td>\n",
       "      <td>1778903.05</td>\n",
       "      <td>Estimated value</td>\n",
       "    </tr>\n",
       "    <tr>\n",
       "      <th>1199360</th>\n",
       "      <td>Zimbabwe</td>\n",
       "      <td>Vegetables Primary</td>\n",
       "      <td>Production</td>\n",
       "      <td>2020</td>\n",
       "      <td>t</td>\n",
       "      <td>2671142.52</td>\n",
       "      <td>Estimated value</td>\n",
       "    </tr>\n",
       "    <tr>\n",
       "      <th>1199361</th>\n",
       "      <td>Zimbabwe</td>\n",
       "      <td>Vegetables Primary</td>\n",
       "      <td>Production</td>\n",
       "      <td>2021</td>\n",
       "      <td>t</td>\n",
       "      <td>2008796.79</td>\n",
       "      <td>Estimated value</td>\n",
       "    </tr>\n",
       "    <tr>\n",
       "      <th>1199362</th>\n",
       "      <td>Zimbabwe</td>\n",
       "      <td>Vegetables Primary</td>\n",
       "      <td>Production</td>\n",
       "      <td>2022</td>\n",
       "      <td>t</td>\n",
       "      <td>1855383.25</td>\n",
       "      <td>Estimated value</td>\n",
       "    </tr>\n",
       "    <tr>\n",
       "      <th>1199363</th>\n",
       "      <td>Zimbabwe</td>\n",
       "      <td>Vegetables Primary</td>\n",
       "      <td>Production</td>\n",
       "      <td>2023</td>\n",
       "      <td>t</td>\n",
       "      <td>2164373.09</td>\n",
       "      <td>Estimated value</td>\n",
       "    </tr>\n",
       "  </tbody>\n",
       "</table>\n",
       "<p>1185368 rows × 7 columns</p>\n",
       "</div>"
      ],
      "text/plain": [
       "                Area                Item     Element  Year Unit       Value  \\\n",
       "0        Afghanistan   Almonds, in shell  Production  1961    t        0.00   \n",
       "1        Afghanistan   Almonds, in shell  Production  1962    t        0.00   \n",
       "2        Afghanistan   Almonds, in shell  Production  1963    t        0.00   \n",
       "3        Afghanistan   Almonds, in shell  Production  1964    t        0.00   \n",
       "4        Afghanistan   Almonds, in shell  Production  1965    t        0.00   \n",
       "...              ...                 ...         ...   ...  ...         ...   \n",
       "1199359     Zimbabwe  Vegetables Primary  Production  2019    t  1778903.05   \n",
       "1199360     Zimbabwe  Vegetables Primary  Production  2020    t  2671142.52   \n",
       "1199361     Zimbabwe  Vegetables Primary  Production  2021    t  2008796.79   \n",
       "1199362     Zimbabwe  Vegetables Primary  Production  2022    t  1855383.25   \n",
       "1199363     Zimbabwe  Vegetables Primary  Production  2023    t  2164373.09   \n",
       "\n",
       "                    Flag  \n",
       "0        Official figure  \n",
       "1        Official figure  \n",
       "2        Official figure  \n",
       "3        Official figure  \n",
       "4        Official figure  \n",
       "...                  ...  \n",
       "1199359  Estimated value  \n",
       "1199360  Estimated value  \n",
       "1199361  Estimated value  \n",
       "1199362  Estimated value  \n",
       "1199363  Estimated value  \n",
       "\n",
       "[1185368 rows x 7 columns]"
      ]
     },
     "execution_count": 29,
     "metadata": {},
     "output_type": "execute_result"
    }
   ],
   "source": [
    "df_filtrado"
   ]
  },
  {
   "cell_type": "code",
   "execution_count": 39,
   "metadata": {},
   "outputs": [
    {
     "data": {
      "application/vnd.microsoft.datawrangler.viewer.v0+json": {
       "columns": [
        {
         "name": "index",
         "rawType": "int64",
         "type": "integer"
        },
        {
         "name": "Area",
         "rawType": "object",
         "type": "string"
        },
        {
         "name": "Item",
         "rawType": "object",
         "type": "string"
        },
        {
         "name": "Element",
         "rawType": "object",
         "type": "string"
        },
        {
         "name": "Year",
         "rawType": "int64",
         "type": "integer"
        },
        {
         "name": "Unit",
         "rawType": "object",
         "type": "string"
        },
        {
         "name": "Value",
         "rawType": "float64",
         "type": "float"
        },
        {
         "name": "Flag",
         "rawType": "object",
         "type": "string"
        }
       ],
       "conversionMethod": "pd.DataFrame",
       "ref": "d5667b2b-8483-48c5-a6fc-d58c22ae7bbe",
       "rows": [
        [
         "62",
         "Afghanistan",
         "Almonds, in shell",
         "Production",
         "2023",
         "t",
         "67000.0",
         "Official figure"
        ],
        [
         "125",
         "Afghanistan",
         "Anise, badian, coriander, cumin, caraway, fennel and juniper berries, raw",
         "Production",
         "2023",
         "t",
         "17908.59",
         "Estimated value"
        ],
        [
         "188",
         "Afghanistan",
         "Apples",
         "Production",
         "2023",
         "t",
         "324000.0",
         "Official figure"
        ],
        [
         "251",
         "Afghanistan",
         "Apricots",
         "Production",
         "2023",
         "t",
         "155429.38",
         "Imputed value"
        ],
        [
         "314",
         "Afghanistan",
         "Barley",
         "Production",
         "2023",
         "t",
         "110000.0",
         "Figure from international organizations"
        ]
       ],
       "shape": {
        "columns": 7,
        "rows": 5
       }
      },
      "text/html": [
       "<div>\n",
       "<style scoped>\n",
       "    .dataframe tbody tr th:only-of-type {\n",
       "        vertical-align: middle;\n",
       "    }\n",
       "\n",
       "    .dataframe tbody tr th {\n",
       "        vertical-align: top;\n",
       "    }\n",
       "\n",
       "    .dataframe thead th {\n",
       "        text-align: right;\n",
       "    }\n",
       "</style>\n",
       "<table border=\"1\" class=\"dataframe\">\n",
       "  <thead>\n",
       "    <tr style=\"text-align: right;\">\n",
       "      <th></th>\n",
       "      <th>Area</th>\n",
       "      <th>Item</th>\n",
       "      <th>Element</th>\n",
       "      <th>Year</th>\n",
       "      <th>Unit</th>\n",
       "      <th>Value</th>\n",
       "      <th>Flag</th>\n",
       "    </tr>\n",
       "  </thead>\n",
       "  <tbody>\n",
       "    <tr>\n",
       "      <th>62</th>\n",
       "      <td>Afghanistan</td>\n",
       "      <td>Almonds, in shell</td>\n",
       "      <td>Production</td>\n",
       "      <td>2023</td>\n",
       "      <td>t</td>\n",
       "      <td>67000.00</td>\n",
       "      <td>Official figure</td>\n",
       "    </tr>\n",
       "    <tr>\n",
       "      <th>125</th>\n",
       "      <td>Afghanistan</td>\n",
       "      <td>Anise, badian, coriander, cumin, caraway, fenn...</td>\n",
       "      <td>Production</td>\n",
       "      <td>2023</td>\n",
       "      <td>t</td>\n",
       "      <td>17908.59</td>\n",
       "      <td>Estimated value</td>\n",
       "    </tr>\n",
       "    <tr>\n",
       "      <th>188</th>\n",
       "      <td>Afghanistan</td>\n",
       "      <td>Apples</td>\n",
       "      <td>Production</td>\n",
       "      <td>2023</td>\n",
       "      <td>t</td>\n",
       "      <td>324000.00</td>\n",
       "      <td>Official figure</td>\n",
       "    </tr>\n",
       "    <tr>\n",
       "      <th>251</th>\n",
       "      <td>Afghanistan</td>\n",
       "      <td>Apricots</td>\n",
       "      <td>Production</td>\n",
       "      <td>2023</td>\n",
       "      <td>t</td>\n",
       "      <td>155429.38</td>\n",
       "      <td>Imputed value</td>\n",
       "    </tr>\n",
       "    <tr>\n",
       "      <th>314</th>\n",
       "      <td>Afghanistan</td>\n",
       "      <td>Barley</td>\n",
       "      <td>Production</td>\n",
       "      <td>2023</td>\n",
       "      <td>t</td>\n",
       "      <td>110000.00</td>\n",
       "      <td>Figure from international organizations</td>\n",
       "    </tr>\n",
       "  </tbody>\n",
       "</table>\n",
       "</div>"
      ],
      "text/plain": [
       "            Area                                               Item  \\\n",
       "62   Afghanistan                                  Almonds, in shell   \n",
       "125  Afghanistan  Anise, badian, coriander, cumin, caraway, fenn...   \n",
       "188  Afghanistan                                             Apples   \n",
       "251  Afghanistan                                           Apricots   \n",
       "314  Afghanistan                                             Barley   \n",
       "\n",
       "        Element  Year Unit      Value                                     Flag  \n",
       "62   Production  2023    t   67000.00                          Official figure  \n",
       "125  Production  2023    t   17908.59                          Estimated value  \n",
       "188  Production  2023    t  324000.00                          Official figure  \n",
       "251  Production  2023    t  155429.38                            Imputed value  \n",
       "314  Production  2023    t  110000.00  Figure from international organizations  "
      ]
     },
     "execution_count": 39,
     "metadata": {},
     "output_type": "execute_result"
    }
   ],
   "source": [
    "# Filtrar el dataframe para año 2023:\n",
    "df_filtrado_2023 = df_filtrado[df_filtrado[\"Year\"] == 2023]\n",
    "\n",
    "# Mostrar las primeras filas para verificar\n",
    "df_filtrado_2023.head(5)\n",
    "\n"
   ]
  },
  {
   "cell_type": "code",
   "execution_count": 40,
   "metadata": {},
   "outputs": [],
   "source": [
    "# Opcional: Guardar el dataframe filtrado en un nuevo archivo CSV\n",
    "df_filtrado_2023.to_csv(\"datos_filtrados_year2023.csv\", index=False)"
   ]
  },
  {
   "cell_type": "markdown",
   "metadata": {},
   "source": [
    "siguiente paso: luego de filtrar por año 2023 y eliminar del df registros que no nos servian (medida de cantidad de huevos en miles), vamos a proceder a realizar la exclusion de las categorias de alimentos que no nos sirven para nuestra analisis ya que solo queremos comparar alimentos, no categorias de ellos."
   ]
  },
  {
   "cell_type": "code",
   "execution_count": 41,
   "metadata": {},
   "outputs": [],
   "source": [
    "# Lista de categorías a excluir\n",
    "categorias_a_excluir = [\n",
    "    \"Cereals, primary\", \"Cereals n.e.c.\", \"Beef and Buffalo Meat, primary\", \"Meat, Poultry\", \"Sheep and Goat Meat\", \"Skim Milk & Buttermilk, Dry\",\n",
    "    \"Whole milk powder\", \"Whole milk, condensed\", \"Whole milk, evaporated\", \"Evaporated & Condensed Milk\",\n",
    "    \"Oilcrops, Cake Equivalent\", \"Oilcrops, Oil Equivalent\", \"Sugar Crops Primary\",\n",
    "    \"Other sugar crops n.e.c.\", \"Raw milk of cattle\",\n",
    "    \"Edible roots and tubers with high starch or inulin content, n.e.c., fresh\",\n",
    "    \"Fruit Primary\", \"Vegetables Primary\", \"Citrus Fruit, Total\", \"Other fruits, n.e.c.\",\n",
    "    \"Other vegetables, fresh n.e.c.\", \"Other pulses n.e.c.\", \"Treenuts, Total\",\n",
    "    \"Fibre Crops, Fibre Equivalent\", \"Other oil seeds, n.e.c.\", \"Other stimulant, spice and aromatic crops, n.e.c.\",\n",
    "      \"Meat of pig with the bone, fresh or chilled\", \"Roots and Tubers, Total\", \"Skim milk of cows\",\n",
    "]\n",
    "\n",
    "# Filtrar el dataframe eliminando las categorías generales\n",
    "df_filtrado_2023_cat = df_filtrado_2023[df_filtrado_2023[\"Item\"].isin(categorias_a_excluir) == False]\n",
    "\n"
   ]
  },
  {
   "cell_type": "code",
   "execution_count": 45,
   "metadata": {},
   "outputs": [],
   "source": [
    "#Guardar el dataframe filtrado en un nuevo archivo CSV\n",
    "df_filtrado_2023_cat.to_csv(\"datos_filtrados_year2023_cat.csv\", index=False)"
   ]
  },
  {
   "cell_type": "code",
   "execution_count": 46,
   "metadata": {},
   "outputs": [
    {
     "data": {
      "text/plain": [
       "(13924, 7)"
      ]
     },
     "execution_count": 46,
     "metadata": {},
     "output_type": "execute_result"
    }
   ],
   "source": [
    "# conteo de filas y columnas\n",
    "np.shape(df_filtrado_2023_cat)"
   ]
  },
  {
   "cell_type": "code",
   "execution_count": 47,
   "metadata": {},
   "outputs": [
    {
     "data": {
      "text/plain": [
       "array(['Almonds, in shell',\n",
       "       'Anise, badian, coriander, cumin, caraway, fennel and juniper berries, raw',\n",
       "       'Apples', 'Apricots', 'Barley', 'Cantaloupes and other melons',\n",
       "       'Cattle fat, unrendered',\n",
       "       'Edible offal of cattle, fresh, chilled or frozen',\n",
       "       'Edible offal of goat, fresh, chilled or frozen',\n",
       "       'Edible offal of sheep, fresh, chilled or frozen',\n",
       "       'Edible offals of camels and other camelids, fresh, chilled or frozen',\n",
       "       'Fat of camels', 'Figs', 'Game meat, fresh, chilled or frozen',\n",
       "       'Goat fat, unrendered', 'Grapes', 'Hen eggs in shell, fresh',\n",
       "       'Linseed', 'Maize (corn)', 'Meat of camels, fresh or chilled',\n",
       "       'Meat of cattle with the bone, fresh or chilled',\n",
       "       'Meat of chickens, fresh or chilled',\n",
       "       'Meat of goat, fresh or chilled',\n",
       "       'Meat of sheep, fresh or chilled', 'Millet', 'Mustard seed',\n",
       "       'Natural honey', 'Olives',\n",
       "       'Onions and shallots, dry (excluding dehydrated)', 'Oranges',\n",
       "       'Other berries and fruits of the genus vaccinium n.e.c.',\n",
       "       'Other citrus fruit, n.e.c.',\n",
       "       'Other nuts (excluding wild edible nuts and groundnuts), in shell, n.e.c.',\n",
       "       'Other stone fruits', 'Peaches and nectarines', 'Pears',\n",
       "       'Pistachios, in shell', 'Plums and sloes', 'Potatoes',\n",
       "       'Raw hides and skins of cattle',\n",
       "       'Raw hides and skins of goats or kids',\n",
       "       'Raw hides and skins of sheep or lambs', 'Raw milk of camel',\n",
       "       'Raw milk of goats', 'Raw milk of sheep', 'Rice',\n",
       "       'Seed cotton, unginned', 'Sesame seed', 'Sheep fat, unrendered',\n",
       "       'Shorn wool, greasy, including fleece-washed shorn wool',\n",
       "       'Silk-worm cocoons suitable for reeling', 'Soya beans',\n",
       "       'Sugar beet', 'Sugar cane', 'Sunflower seed', 'Walnuts, in shell',\n",
       "       'Watermelons', 'Wheat', 'Eggs Primary', 'Meat, Total',\n",
       "       'Milk, Total', 'Pulses, Total', 'Beans, dry',\n",
       "       'Broad beans and horse beans, dry',\n",
       "       'Broad beans and horse beans, green', 'Cabbages',\n",
       "       'Carrots and turnips', 'Cauliflowers and broccoli', 'Cherries',\n",
       "       'Chestnuts, in shell',\n",
       "       'Chillies and peppers, green (Capsicum spp. and Pimenta spp.)',\n",
       "       'Cucumbers and gherkins', 'Dates',\n",
       "       'Edible offal of pigs, fresh, chilled or frozen',\n",
       "       'Eggplants (aubergines)',\n",
       "       'Eggs from other birds in shell, fresh, n.e.c.', 'Fat of pigs',\n",
       "       'Green garlic', 'Hop cones',\n",
       "       'Leeks and other alliaceous vegetables', 'Lemons and limes',\n",
       "       'Lettuce and chicory', 'Meat of turkeys, fresh or chilled',\n",
       "       'Mushrooms and truffles', 'Oats', 'Okra',\n",
       "       'Onions and shallots, green', 'Other beans, green',\n",
       "       'Other meat of mammals, fresh or chilled', 'Peas, green',\n",
       "       'Pumpkins, squash and gourds', 'Quinces', 'Rye', 'Sorghum',\n",
       "       'Sour cherries', 'Spinach', 'Strawberries',\n",
       "       'Tangerines, mandarins, clementines', 'Tomatoes',\n",
       "       'Unmanufactured tobacco', 'Vetches', 'Artichokes', 'Bananas',\n",
       "       'Chick peas, dry',\n",
       "       'Chillies and peppers, dry (Capsicum spp., Pimenta spp.), raw',\n",
       "       'Edible offals of horses and other equines,  fresh, chilled or frozen',\n",
       "       'Groundnuts, excluding shelled', 'Horse meat, fresh or chilled',\n",
       "       'Lentils, dry', 'Locust beans (carobs)',\n",
       "       'Meat of rabbits and hares, fresh or chilled',\n",
       "       'Other tropical fruits, n.e.c.', 'Peas, dry',\n",
       "       'Pomelos and grapefruits', 'Rape or colza seed', 'Triticale',\n",
       "       'Avocados', 'Beeswax', 'Cashew nuts, in shell', 'Cassava, fresh',\n",
       "       'Castor oil seeds', 'Cocoa beans', 'Coffee, green',\n",
       "       'Kenaf, and other textile bast fibres, raw or retted',\n",
       "       'Mangoes, guavas and mangosteens', 'Oil palm fruit', 'Pineapples',\n",
       "       'Sisal, raw', 'Sweet potatoes', 'Green corn (maize)', 'Taro',\n",
       "       'Yams', 'Asparagus', 'Canary seed', 'Flax, raw or retted',\n",
       "       'Lupins', 'Maté leaves', 'Meat of asses, fresh or chilled',\n",
       "       'Meat of ducks, fresh or chilled',\n",
       "       'Meat of geese, fresh or chilled',\n",
       "       'Meat of mules, fresh or chilled',\n",
       "       'Other fibre crops, raw, n.e.c.', 'Papayas',\n",
       "       'Peppermint, spearmint', 'Safflower seed', 'String beans',\n",
       "       'Tea leaves', 'Tung nuts', 'Hazelnuts, in shell', 'Blueberries',\n",
       "       'Cow peas, dry', 'Currants', 'Ginger, raw', 'Hempseed',\n",
       "       'Kiwi fruit', 'Persimmons', 'Raspberries',\n",
       "       'True hemp, raw or retted', 'Mixed grain', 'Raw milk of buffalo',\n",
       "       'Cranberries', 'Coconuts, in shell', 'Pigeon peas, dry',\n",
       "       'Plantains and cooking bananas', 'Areca nuts',\n",
       "       'Buffalo fat, unrendered', 'Coir, raw',\n",
       "       'Edible offal of buffalo, fresh, chilled or frozen',\n",
       "       'Jute, raw or retted', 'Meat of buffalo, fresh or chilled',\n",
       "       'Natural rubber in primary forms',\n",
       "       'Raw hides and skins of buffaloes', 'Buckwheat',\n",
       "       'Other pome fruits', 'Yautia', 'Fonio', 'Karite nuts (sheanuts)',\n",
       "       'Kola nuts', 'Melonseed', 'Pepper (Piper spp.), raw',\n",
       "       'Nutmeg, mace, cardamoms, raw', 'Quinoa', 'Brazil nuts, in shell',\n",
       "       'Meat of other domestic camelids, fresh or chilled',\n",
       "       'Meat of other domestic rodents, fresh or chilled',\n",
       "       'Pyrethrum, dried flowers', 'Chicory roots', 'Cashewapple',\n",
       "       'Ramie, raw or retted', 'Cassava leaves', 'Bambara beans, dry',\n",
       "       'Cinnamon and cinnamon-tree flowers, raw',\n",
       "       'Meat of pigeons and other birds n.e.c., fresh, chilled or frozen',\n",
       "       'Cloves (whole stems), raw', 'Tallowtree seeds', 'Vanilla, raw',\n",
       "       'Agave fibres, raw, n.e.c.', 'Abaca, manila hemp, raw',\n",
       "       'Snails, fresh, chilled, frozen, dried, salted or in brine, except sea snails',\n",
       "       'Poppy seed', 'Kapok fruit', 'Gooseberries', 'Jojoba seeds'],\n",
       "      dtype=object)"
      ]
     },
     "execution_count": 47,
     "metadata": {},
     "output_type": "execute_result"
    }
   ],
   "source": [
    "#chequear que ya no esten las areas que no son categorias:\n",
    "df_filtrado_2023_cat[\"Item\"].unique()"
   ]
  },
  {
   "cell_type": "markdown",
   "metadata": {},
   "source": [
    "## respuesta a la 1er pregunta: cual es el alimento mayormente producido a nivel munidal?"
   ]
  },
  {
   "cell_type": "code",
   "execution_count": 88,
   "metadata": {},
   "outputs": [
    {
     "data": {
      "image/png": "[encoded data removed]",
      "text/plain": [
       "<Figure size 800x500 with 1 Axes>"
      ]
     },
     "metadata": {},
     "output_type": "display_data"
    }
   ],
   "source": [
    "\n",
    "\n",
    "# Seleccionar los 3 alimentos más producidos\n",
    "top_3_alimentos = df_filtrado_2023_cat.groupby(\"Item\")[\"Value\"].sum().nlargest(5).reset_index()\n",
    "\n",
    "# Crear el gráfico de barras\n",
    "plt.figure(figsize=(8, 5))\n",
    "plt.bar(top_3_alimentos[\"Item\"], top_3_alimentos[\"Value\"])\n",
    "plt.xlabel(\"Alimento\")\n",
    "plt.ylabel(\"Cantidad Producida (Tn)\")\n",
    "plt.title(\"Top 5 Alimentos Más Producidos en 2023\")\n",
    "plt.xticks(rotation=30)\n",
    "plt.show()\n"
   ]
  },
  {
   "cell_type": "markdown",
   "metadata": {},
   "source": [
    "podemos ver que es la caña de azucar (si lo consideramos como alimento)"
   ]
  },
  {
   "cell_type": "markdown",
   "metadata": {},
   "source": [
    "## respuesta a la 2da pregunta: cual son los top 10 paises que lideraron la prduccion de ese alimento?"
   ]
  },
  {
   "cell_type": "code",
   "execution_count": 87,
   "metadata": {},
   "outputs": [
    {
     "data": {
      "image/png": "[encoded data removed]",
      "text/plain": [
       "<Figure size 1500x600 with 1 Axes>"
      ]
     },
     "metadata": {},
     "output_type": "display_data"
    },
    {
     "data": {
      "image/png": "[encoded data removed]",
      "text/plain": [
       "<Figure size 1500x600 with 1 Axes>"
      ]
     },
     "metadata": {},
     "output_type": "display_data"
    },
    {
     "data": {
      "image/png": "[encoded data removed]",
      "text/plain": [
       "<Figure size 1500x600 with 1 Axes>"
      ]
     },
     "metadata": {},
     "output_type": "display_data"
    },
    {
     "data": {
      "image/png": "[encoded data removed]",
      "text/plain": [
       "<Figure size 1500x600 with 1 Axes>"
      ]
     },
     "metadata": {},
     "output_type": "display_data"
    },
    {
     "data": {
      "image/png": "[encoded data removed]",
      "text/plain": [
       "<Figure size 1500x600 with 1 Axes>"
      ]
     },
     "metadata": {},
     "output_type": "display_data"
    }
   ],
   "source": [
    "# Iterar sobre los 3 alimentos más producidos y graficar los 3 principales productores de cada uno\n",
    "for alimento in top_3_alimentos[\"Item\"]:\n",
    "    # Filtrar el dataframe por ese alimento\n",
    "    df_top_paises = df_filtrado_2023_cat[df_filtrado_2023_cat[\"Item\"] == alimento]\n",
    "\n",
    "    # Obtener los 3 países que más producen este alimento\n",
    "    top_3_paises = df_top_paises.groupby(\"Area\")[\"Value\"].sum().nlargest(10).reset_index()\n",
    "\n",
    "    # Crear el gráfico de barras\n",
    "    plt.figure(figsize=(15, 6))\n",
    "    plt.bar(top_3_paises[\"Area\"], top_3_paises[\"Value\"])\n",
    "    plt.xlabel(\"País\")\n",
    "    plt.ylabel(\"Cantidad Producida (Tn)\")\n",
    "    plt.title(f\"Top 10 Países Productores de {alimento} en 2023\")\n",
    "    plt.xticks(rotation=30)\n",
    "    plt.show()\n"
   ]
  },
  {
   "cell_type": "markdown",
   "metadata": {},
   "source": [
    "# respiesta a 3er pregunta. cuantas has destinaron a ese cultivo?"
   ]
  },
  {
   "cell_type": "code",
   "execution_count": 72,
   "metadata": {},
   "outputs": [
    {
     "data": {
      "text/plain": [
       "(650127, 7)"
      ]
     },
     "execution_count": 72,
     "metadata": {},
     "output_type": "execute_result"
    }
   ],
   "source": [
    "# Filtrar solo los datos de producción (Element = \"area harvested\")\n",
    "df_area_harvested = df_paises[df_paises[\"Element\"] == \"Area harvested\"]\n",
    "np.shape(df_area_harvested)"
   ]
  },
  {
   "cell_type": "code",
   "execution_count": null,
   "metadata": {},
   "outputs": [],
   "source": [
    "df_area_harvested"
   ]
  },
  {
   "cell_type": "code",
   "execution_count": 75,
   "metadata": {},
   "outputs": [
    {
     "name": "stdout",
     "output_type": "stream",
     "text": [
      "Cantidad de registros después del filtrado: (10, 7)\n"
     ]
    }
   ],
   "source": [
    "# Filtrar por año 2023 y por el producto \"Sugar cane\"\n",
    "df_sugar_cane_2023 = df_area_harvested[\n",
    "    (df_area_harvested[\"Year\"] == 2023) & \n",
    "    (df_area_harvested[\"Item\"] == \"Sugar cane\")\n",
    "]\n",
    "\n",
    "# Lista de países de interés\n",
    "paises_interes = [\n",
    "    \"Brazil\", \"India\", \"China, mainland\", \"Thailand\", \"Pakistan\",\n",
    "    \"Mexico\", \"Indonesia\", \"Australia\", \"Colombia\", \"United States of America\"\n",
    "]\n",
    "\n",
    "# Filtrar solo los datos de estos países\n",
    "df_sugar_cane_2023_paises = df_sugar_cane_2023[df_sugar_cane_2023[\"Area\"].isin(paises_interes)]\n",
    "\n",
    "# Mostrar la cantidad de registros filtrados y las primeras filas\n",
    "print(f\"Cantidad de registros después del filtrado: {df_sugar_cane_2023_paises.shape}\")\n",
    "df_sugar_cane_2023_paises.head(5)\n",
    "\n",
    "# Opcional: Guardar el resultado en un nuevo CSV\n",
    "df_sugar_cane_2023_paises.to_csv(\"sugar_cane_area_harvested_2023.csv\", index=False)\n"
   ]
  },
  {
   "cell_type": "code",
   "execution_count": 86,
   "metadata": {},
   "outputs": [
    {
     "data": {
      "image/png": "[encoded data removed]",
      "text/plain": [
       "<Figure size 1500x600 with 1 Axes>"
      ]
     },
     "metadata": {},
     "output_type": "display_data"
    }
   ],
   "source": [
    "\n",
    "\n",
    "\n",
    "# Verificar que el dataframe no esté vacío\n",
    "if not df_sugar_cane_2023_paises.empty:\n",
    "    # Ordenar los países por área cosechada en orden descendente\n",
    "    df_sugar_cane_2023_paises = df_sugar_cane_2023_paises.sort_values(by=\"Value\", ascending=False)\n",
    "\n",
    "    # Crear el gráfico de barras\n",
    "    plt.figure(figsize=(15, 6))\n",
    "    plt.bar(df_sugar_cane_2023_paises[\"Area\"], df_sugar_cane_2023_paises[\"Value\"])\n",
    "    plt.xlabel(\"País\")\n",
    "    plt.ylabel(\"Área Cosechada (ha)\")\n",
    "    plt.title(\"Área Cosechada de Caña de Azúcar en 2023 por País\")\n",
    "    plt.xticks(rotation=45)  # Rotar los nombres de los países para mejor visualización\n",
    "\n",
    "    # Mostrar el gráfico\n",
    "    plt.show()\n",
    "else:\n",
    "    print(\"No hay datos disponibles para graficar.\")\n",
    "\n"
   ]
  },
  {
   "cell_type": "markdown",
   "metadata": {},
   "source": [
    "## otros analisis"
   ]
  },
  {
   "cell_type": "code",
   "execution_count": 31,
   "metadata": {},
   "outputs": [
    {
     "name": "stdout",
     "output_type": "stream",
     "text": [
      "Ranking original de producción:\n",
      "                         Area         Value\n",
      "37            China, mainland  4.234356e+09\n",
      "82                      India  3.132779e+09\n",
      "22                     Brazil  2.558663e+09\n",
      "190  United States of America  1.817637e+09\n",
      "83                  Indonesia  7.018618e+08\n",
      "148        Russian Federation  6.249927e+08\n",
      "134                  Pakistan  4.943570e+08\n",
      "129                   Nigeria  4.499870e+08\n",
      "175                  Thailand  3.984972e+08\n",
      "114                    Mexico  3.512018e+08\n"
     ]
    }
   ],
   "source": [
    "# Agrupar por país y sumar la producción total, ignorando valores nulos\n",
    "top_producers = df_filtrado_2023.groupby(\"Area\")[\"Value\"].sum().reset_index()\n",
    "\n",
    "# Ordenar de mayor a menor producción\n",
    "top_producers = top_producers.sort_values(by=\"Value\", ascending=False)\n",
    "\n",
    "# Seleccionar los 10 países con mayor producción\n",
    "top_10_producers = top_producers.head(10)\n",
    "\n",
    "# Mostrar el ranking original\n",
    "print(\"Ranking original de producción:\")\n",
    "print(top_10_producers)\n"
   ]
  },
  {
   "cell_type": "code",
   "execution_count": 60,
   "metadata": {},
   "outputs": [
    {
     "name": "stdout",
     "output_type": "stream",
     "text": [
      "Producción total de Palestina: 92925490.48\n",
      "Producción del 10° país en el ranking: 110093603804.72\n"
     ]
    }
   ],
   "source": [
    "# Sumar la producción de Palestina\n",
    "palestine_production = df_production[df_production[\"Area\"] == \"Palestine\"][\"Value\"].sum()\n",
    "\n",
    "# Producción del 10° país en el ranking\n",
    "tenth_place_production = top_10_producers.iloc[-1][\"Value\"]\n",
    "\n",
    "# Comparación de Palestina con el 10° país del ranking\n",
    "print(f\"Producción total de Palestina: {palestine_production}\")\n",
    "print(f\"Producción del 10° país en el ranking: {tenth_place_production}\")\n"
   ]
  },
  {
   "cell_type": "code",
   "execution_count": 61,
   "metadata": {},
   "outputs": [
    {
     "name": "stdout",
     "output_type": "stream",
     "text": [
      "Palestina tiene 3142 valores nulos en producción.\n",
      "Es poco probable que Palestina afecte el ranking, a menos que sus valores nulos sean significativos.\n"
     ]
    }
   ],
   "source": [
    "# Contar cuántos valores nulos tiene Palestina en producción\n",
    "palestine_nulls = df_production[(df_production[\"Area\"] == \"Palestine\") & (df_production[\"Value\"].isnull())].shape[0]\n",
    "\n",
    "# Estimar impacto si esos valores fueran datos reales\n",
    "print(f\"Palestina tiene {palestine_nulls} valores nulos en producción.\")\n",
    "\n",
    "# Si Palestina tiene valores nulos y su producción es cercana a la del 10° país en el ranking, podría afectar la clasificación.\n",
    "if palestine_production + palestine_nulls > tenth_place_production:\n",
    "    print(\"Palestina podría entrar en el ranking si sus valores nulos contienen datos de alta producción.\")\n",
    "else:\n",
    "    print(\"Es poco probable que Palestina afecte el ranking, a menos que sus valores nulos sean significativos.\")\n"
   ]
  },
  {
   "cell_type": "code",
   "execution_count": 26,
   "metadata": {},
   "outputs": [
    {
     "name": "stdout",
     "output_type": "stream",
     "text": [
      "Item\n",
      "Sugar cane                  7.202834e+10\n",
      "Hen eggs in shell, fresh    5.105906e+10\n",
      "Maize (corn)                3.665757e+10\n",
      "Milk, Total                 3.271601e+10\n",
      "Rice                        3.256199e+10\n",
      "Wheat                       3.049585e+10\n",
      "Potatoes                    1.635693e+10\n",
      "Sugar beet                  1.314942e+10\n",
      "Meat, Total                 1.204979e+10\n",
      "Cassava, fresh              1.101127e+10\n",
      "Name: Value, dtype: float64\n"
     ]
    }
   ],
   "source": [
    "top_foods = df_filtrado_alimentos.groupby(\"Item\")[\"Value\"].sum().nlargest(10)  # Seleccionamos 6 para compensar la eliminación\n",
    "print(top_foods)"
   ]
  },
  {
   "cell_type": "code",
   "execution_count": 27,
   "metadata": {},
   "outputs": [
    {
     "data": {
      "image/png": "[encoded data removed]",
      "text/plain": [
       "<Figure size 1000x600 with 1 Axes>"
      ]
     },
     "metadata": {},
     "output_type": "display_data"
    }
   ],
   "source": [
    "# Gráfico de los 5 alimentos más producidos\n",
    "plt.figure(figsize=(10, 6))\n",
    "top_foods.plot(kind=\"bar\")\n",
    "plt.xlabel(\"Alimentos\")\n",
    "plt.ylabel(\"Producción Total\")\n",
    "plt.title(\"Top 5 Alimentos más producidos en el mundo\")\n",
    "plt.xticks(rotation=45)\n",
    "plt.show()"
   ]
  },
  {
   "cell_type": "code",
   "execution_count": 103,
   "metadata": {},
   "outputs": [
    {
     "name": "stdout",
     "output_type": "stream",
     "text": [
      "Area\n",
      "World                  9.166918e+11\n",
      "Asia                   3.915242e+11\n",
      "Americas               2.460207e+11\n",
      "Europe                 1.919660e+11\n",
      "Eastern Asia           1.724970e+11\n",
      "China                  1.571777e+11\n",
      "China, mainland        1.548287e+11\n",
      "Southern Asia          1.274918e+11\n",
      "European Union (27)    1.126112e+11\n",
      "South America          1.100936e+11\n",
      "Name: Value, dtype: float64\n"
     ]
    }
   ],
   "source": [
    "# Agrupar por país y sumar la producción total\n",
    "top_countries_production = df_production.groupby(\"Area\")[\"Value\"].sum().nlargest(10)\n",
    "# Mostrar los valores finales filtrados\n",
    "print(top_countries_production)\n"
   ]
  },
  {
   "cell_type": "code",
   "execution_count": 66,
   "metadata": {},
   "outputs": [
    {
     "ename": "KeyboardInterrupt",
     "evalue": "",
     "output_type": "error",
     "traceback": [
      "\u001b[1;31m---------------------------------------------------------------------------\u001b[0m",
      "\u001b[1;31mKeyboardInterrupt\u001b[0m                         Traceback (most recent call last)",
      "Cell \u001b[1;32mIn[66], line 1\u001b[0m\n\u001b[1;32m----> 1\u001b[0m \u001b[38;5;28mprint\u001b[39m(df[\u001b[43mdf\u001b[49m\u001b[43m[\u001b[49m\u001b[38;5;124;43m\"\u001b[39;49m\u001b[38;5;124;43mArea\u001b[39;49m\u001b[38;5;124;43m\"\u001b[39;49m\u001b[43m]\u001b[49m\u001b[38;5;241;43m.\u001b[39;49m\u001b[43mstr\u001b[49m\u001b[38;5;241;43m.\u001b[39;49m\u001b[43mcontains\u001b[49m\u001b[43m(\u001b[49m\u001b[38;5;124;43m\"\u001b[39;49m\u001b[38;5;124;43mChina\u001b[39;49m\u001b[38;5;124;43m\"\u001b[39;49m\u001b[43m,\u001b[49m\u001b[43m \u001b[49m\u001b[43mcase\u001b[49m\u001b[38;5;241;43m=\u001b[39;49m\u001b[38;5;28;43;01mFalse\u001b[39;49;00m\u001b[43m)\u001b[49m])\n",
      "File \u001b[1;32mc:\\Users\\franb\\AppData\\Local\\Programs\\Python\\Python312\\Lib\\site-packages\\pandas\\core\\strings\\accessor.py:137\u001b[0m, in \u001b[0;36mforbid_nonstring_types.<locals>._forbid_nonstring_types.<locals>.wrapper\u001b[1;34m(self, *args, **kwargs)\u001b[0m\n\u001b[0;32m    132\u001b[0m     msg \u001b[38;5;241m=\u001b[39m (\n\u001b[0;32m    133\u001b[0m         \u001b[38;5;124mf\u001b[39m\u001b[38;5;124m\"\u001b[39m\u001b[38;5;124mCannot use .str.\u001b[39m\u001b[38;5;132;01m{\u001b[39;00mfunc_name\u001b[38;5;132;01m}\u001b[39;00m\u001b[38;5;124m with values of \u001b[39m\u001b[38;5;124m\"\u001b[39m\n\u001b[0;32m    134\u001b[0m         \u001b[38;5;124mf\u001b[39m\u001b[38;5;124m\"\u001b[39m\u001b[38;5;124minferred dtype \u001b[39m\u001b[38;5;124m'\u001b[39m\u001b[38;5;132;01m{\u001b[39;00m\u001b[38;5;28mself\u001b[39m\u001b[38;5;241m.\u001b[39m_inferred_dtype\u001b[38;5;132;01m}\u001b[39;00m\u001b[38;5;124m'\u001b[39m\u001b[38;5;124m.\u001b[39m\u001b[38;5;124m\"\u001b[39m\n\u001b[0;32m    135\u001b[0m     )\n\u001b[0;32m    136\u001b[0m     \u001b[38;5;28;01mraise\u001b[39;00m \u001b[38;5;167;01mTypeError\u001b[39;00m(msg)\n\u001b[1;32m--> 137\u001b[0m \u001b[38;5;28;01mreturn\u001b[39;00m \u001b[43mfunc\u001b[49m\u001b[43m(\u001b[49m\u001b[38;5;28;43mself\u001b[39;49m\u001b[43m,\u001b[49m\u001b[43m \u001b[49m\u001b[38;5;241;43m*\u001b[39;49m\u001b[43margs\u001b[49m\u001b[43m,\u001b[49m\u001b[43m \u001b[49m\u001b[38;5;241;43m*\u001b[39;49m\u001b[38;5;241;43m*\u001b[39;49m\u001b[43mkwargs\u001b[49m\u001b[43m)\u001b[49m\n",
      "File \u001b[1;32mc:\\Users\\franb\\AppData\\Local\\Programs\\Python\\Python312\\Lib\\site-packages\\pandas\\core\\strings\\accessor.py:1335\u001b[0m, in \u001b[0;36mStringMethods.contains\u001b[1;34m(self, pat, case, flags, na, regex)\u001b[0m\n\u001b[0;32m   1327\u001b[0m \u001b[38;5;28;01mif\u001b[39;00m regex \u001b[38;5;129;01mand\u001b[39;00m re\u001b[38;5;241m.\u001b[39mcompile(pat)\u001b[38;5;241m.\u001b[39mgroups:\n\u001b[0;32m   1328\u001b[0m     warnings\u001b[38;5;241m.\u001b[39mwarn(\n\u001b[0;32m   1329\u001b[0m         \u001b[38;5;124m\"\u001b[39m\u001b[38;5;124mThis pattern is interpreted as a regular expression, and has \u001b[39m\u001b[38;5;124m\"\u001b[39m\n\u001b[0;32m   1330\u001b[0m         \u001b[38;5;124m\"\u001b[39m\u001b[38;5;124mmatch groups. To actually get the groups, use str.extract.\u001b[39m\u001b[38;5;124m\"\u001b[39m,\n\u001b[0;32m   1331\u001b[0m         \u001b[38;5;167;01mUserWarning\u001b[39;00m,\n\u001b[0;32m   1332\u001b[0m         stacklevel\u001b[38;5;241m=\u001b[39mfind_stack_level(),\n\u001b[0;32m   1333\u001b[0m     )\n\u001b[1;32m-> 1335\u001b[0m result \u001b[38;5;241m=\u001b[39m \u001b[38;5;28;43mself\u001b[39;49m\u001b[38;5;241;43m.\u001b[39;49m\u001b[43m_data\u001b[49m\u001b[38;5;241;43m.\u001b[39;49m\u001b[43marray\u001b[49m\u001b[38;5;241;43m.\u001b[39;49m\u001b[43m_str_contains\u001b[49m\u001b[43m(\u001b[49m\u001b[43mpat\u001b[49m\u001b[43m,\u001b[49m\u001b[43m \u001b[49m\u001b[43mcase\u001b[49m\u001b[43m,\u001b[49m\u001b[43m \u001b[49m\u001b[43mflags\u001b[49m\u001b[43m,\u001b[49m\u001b[43m \u001b[49m\u001b[43mna\u001b[49m\u001b[43m,\u001b[49m\u001b[43m \u001b[49m\u001b[43mregex\u001b[49m\u001b[43m)\u001b[49m\n\u001b[0;32m   1336\u001b[0m \u001b[38;5;28;01mreturn\u001b[39;00m \u001b[38;5;28mself\u001b[39m\u001b[38;5;241m.\u001b[39m_wrap_result(result, fill_value\u001b[38;5;241m=\u001b[39mna, returns_string\u001b[38;5;241m=\u001b[39m\u001b[38;5;28;01mFalse\u001b[39;00m)\n",
      "File \u001b[1;32mc:\\Users\\franb\\AppData\\Local\\Programs\\Python\\Python312\\Lib\\site-packages\\pandas\\core\\strings\\object_array.py:145\u001b[0m, in \u001b[0;36mObjectStringArrayMixin._str_contains\u001b[1;34m(self, pat, case, flags, na, regex)\u001b[0m\n\u001b[0;32m    143\u001b[0m         upper_pat \u001b[38;5;241m=\u001b[39m pat\u001b[38;5;241m.\u001b[39mupper()\n\u001b[0;32m    144\u001b[0m         f \u001b[38;5;241m=\u001b[39m \u001b[38;5;28;01mlambda\u001b[39;00m x: upper_pat \u001b[38;5;129;01min\u001b[39;00m x\u001b[38;5;241m.\u001b[39mupper()\n\u001b[1;32m--> 145\u001b[0m \u001b[38;5;28;01mreturn\u001b[39;00m \u001b[38;5;28;43mself\u001b[39;49m\u001b[38;5;241;43m.\u001b[39;49m\u001b[43m_str_map\u001b[49m\u001b[43m(\u001b[49m\u001b[43mf\u001b[49m\u001b[43m,\u001b[49m\u001b[43m \u001b[49m\u001b[43mna\u001b[49m\u001b[43m,\u001b[49m\u001b[43m \u001b[49m\u001b[43mdtype\u001b[49m\u001b[38;5;241;43m=\u001b[39;49m\u001b[43mnp\u001b[49m\u001b[38;5;241;43m.\u001b[39;49m\u001b[43mdtype\u001b[49m\u001b[43m(\u001b[49m\u001b[38;5;124;43m\"\u001b[39;49m\u001b[38;5;124;43mbool\u001b[39;49m\u001b[38;5;124;43m\"\u001b[39;49m\u001b[43m)\u001b[49m\u001b[43m)\u001b[49m\n",
      "File \u001b[1;32mc:\\Users\\franb\\AppData\\Local\\Programs\\Python\\Python312\\Lib\\site-packages\\pandas\\core\\strings\\object_array.py:78\u001b[0m, in \u001b[0;36mObjectStringArrayMixin._str_map\u001b[1;34m(self, f, na_value, dtype, convert)\u001b[0m\n\u001b[0;32m     76\u001b[0m map_convert \u001b[38;5;241m=\u001b[39m convert \u001b[38;5;129;01mand\u001b[39;00m \u001b[38;5;129;01mnot\u001b[39;00m np\u001b[38;5;241m.\u001b[39mall(mask)\n\u001b[0;32m     77\u001b[0m \u001b[38;5;28;01mtry\u001b[39;00m:\n\u001b[1;32m---> 78\u001b[0m     result \u001b[38;5;241m=\u001b[39m \u001b[43mlib\u001b[49m\u001b[38;5;241;43m.\u001b[39;49m\u001b[43mmap_infer_mask\u001b[49m\u001b[43m(\u001b[49m\u001b[43marr\u001b[49m\u001b[43m,\u001b[49m\u001b[43m \u001b[49m\u001b[43mf\u001b[49m\u001b[43m,\u001b[49m\u001b[43m \u001b[49m\u001b[43mmask\u001b[49m\u001b[38;5;241;43m.\u001b[39;49m\u001b[43mview\u001b[49m\u001b[43m(\u001b[49m\u001b[43mnp\u001b[49m\u001b[38;5;241;43m.\u001b[39;49m\u001b[43muint8\u001b[49m\u001b[43m)\u001b[49m\u001b[43m,\u001b[49m\u001b[43m \u001b[49m\u001b[43mmap_convert\u001b[49m\u001b[43m)\u001b[49m\n\u001b[0;32m     79\u001b[0m \u001b[38;5;28;01mexcept\u001b[39;00m (\u001b[38;5;167;01mTypeError\u001b[39;00m, \u001b[38;5;167;01mAttributeError\u001b[39;00m) \u001b[38;5;28;01mas\u001b[39;00m err:\n\u001b[0;32m     80\u001b[0m     \u001b[38;5;66;03m# Reraise the exception if callable `f` got wrong number of args.\u001b[39;00m\n\u001b[0;32m     81\u001b[0m     \u001b[38;5;66;03m# The user may want to be warned by this, instead of getting NaN\u001b[39;00m\n\u001b[0;32m     82\u001b[0m     p_err \u001b[38;5;241m=\u001b[39m (\n\u001b[0;32m     83\u001b[0m         \u001b[38;5;124mr\u001b[39m\u001b[38;5;124m\"\u001b[39m\u001b[38;5;124m((takes)|(missing)) (?(2)from \u001b[39m\u001b[38;5;124m\\\u001b[39m\u001b[38;5;124md+ to )?\u001b[39m\u001b[38;5;124m\\\u001b[39m\u001b[38;5;124md+ \u001b[39m\u001b[38;5;124m\"\u001b[39m\n\u001b[0;32m     84\u001b[0m         \u001b[38;5;124mr\u001b[39m\u001b[38;5;124m\"\u001b[39m\u001b[38;5;124m(?(3)required )positional arguments?\u001b[39m\u001b[38;5;124m\"\u001b[39m\n\u001b[0;32m     85\u001b[0m     )\n",
      "File \u001b[1;32mlib.pyx:2895\u001b[0m, in \u001b[0;36mpandas._libs.lib.map_infer_mask\u001b[1;34m()\u001b[0m\n",
      "File \u001b[1;32mlib.pyx:2932\u001b[0m, in \u001b[0;36mpandas._libs.lib._map_infer_mask\u001b[1;34m()\u001b[0m\n",
      "File \u001b[1;32mc:\\Users\\franb\\AppData\\Local\\Programs\\Python\\Python312\\Lib\\site-packages\\pandas\\core\\strings\\object_array.py:138\u001b[0m, in \u001b[0;36mObjectStringArrayMixin._str_contains.<locals>.<lambda>\u001b[1;34m(x)\u001b[0m\n\u001b[0;32m    134\u001b[0m         flags \u001b[38;5;241m|\u001b[39m\u001b[38;5;241m=\u001b[39m re\u001b[38;5;241m.\u001b[39mIGNORECASE\n\u001b[0;32m    136\u001b[0m     pat \u001b[38;5;241m=\u001b[39m re\u001b[38;5;241m.\u001b[39mcompile(pat, flags\u001b[38;5;241m=\u001b[39mflags)\n\u001b[1;32m--> 138\u001b[0m     f \u001b[38;5;241m=\u001b[39m \u001b[38;5;28;01mlambda\u001b[39;00m x: \u001b[43mpat\u001b[49m\u001b[38;5;241;43m.\u001b[39;49m\u001b[43msearch\u001b[49m\u001b[43m(\u001b[49m\u001b[43mx\u001b[49m\u001b[43m)\u001b[49m \u001b[38;5;129;01mis\u001b[39;00m \u001b[38;5;129;01mnot\u001b[39;00m \u001b[38;5;28;01mNone\u001b[39;00m\n\u001b[0;32m    139\u001b[0m \u001b[38;5;28;01melse\u001b[39;00m:\n\u001b[0;32m    140\u001b[0m     \u001b[38;5;28;01mif\u001b[39;00m case:\n",
      "\u001b[1;31mKeyboardInterrupt\u001b[0m: "
     ]
    }
   ],
   "source": [
    "print(df[df[\"Area\"].str.contains(\"China\", case=False)])\n",
    "\n"
   ]
  },
  {
   "cell_type": "code",
   "execution_count": null,
   "metadata": {},
   "outputs": [
    {
     "data": {
      "image/png": "[encoded data removed]",
      "text/plain": [
       "<Figure size 1200x600 with 1 Axes>"
      ]
     },
     "metadata": {},
     "output_type": "display_data"
    }
   ],
   "source": [
    "# Gráfico de los 10 países que más producen\n",
    "plt.figure(figsize=(12, 6))\n",
    "top_countries_production.plot(kind=\"bar\")\n",
    "plt.xlabel(\"Países\")\n",
    "plt.ylabel(\"Producción Total\")\n",
    "plt.title(\"Top 10 Países que más producen alimentos\")\n",
    "plt.xticks(rotation=45)\n",
    "plt.show()"
   ]
  },
  {
   "cell_type": "code",
   "execution_count": null,
   "metadata": {},
   "outputs": [],
   "source": [
    "# Filtrar solo los datos de área cosechada (Element = \"Area harvested\")\n",
    "df_area = df_paises[df_paises[\"Element\"] == \"Area harvested\"]"
   ]
  },
  {
   "cell_type": "code",
   "execution_count": null,
   "metadata": {},
   "outputs": [],
   "source": [
    "# Agrupar por país y sumar el total de hectáreas cultivadas\n",
    "top_countries_area = df_area.groupby(\"Area\")[\"Value\"].sum().nlargest(10)"
   ]
  },
  {
   "cell_type": "code",
   "execution_count": null,
   "metadata": {},
   "outputs": [
    {
     "data": {
      "image/png": "[encoded data removed]",
      "text/plain": [
       "<Figure size 1200x600 with 1 Axes>"
      ]
     },
     "metadata": {},
     "output_type": "display_data"
    }
   ],
   "source": [
    "# Gráfico de los 10 países que más hectáreas dedican al cultivo\n",
    "plt.figure(figsize=(12, 6))\n",
    "top_countries_area.plot(kind=\"bar\")\n",
    "plt.xlabel(\"Países\")\n",
    "plt.ylabel(\"Hectáreas cultivadas\")\n",
    "plt.title(\"Top 10 Países con mayor área sembrada\")\n",
    "plt.xticks(rotation=45)\n",
    "plt.show()"
   ]
  },
  {
   "cell_type": "code",
   "execution_count": null,
   "metadata": {},
   "outputs": [
    {
     "data": {
      "text/html": [
       "<div>\n",
       "<style scoped>\n",
       "    .dataframe tbody tr th:only-of-type {\n",
       "        vertical-align: middle;\n",
       "    }\n",
       "\n",
       "    .dataframe tbody tr th {\n",
       "        vertical-align: top;\n",
       "    }\n",
       "\n",
       "    .dataframe thead th {\n",
       "        text-align: right;\n",
       "    }\n",
       "</style>\n",
       "<table border=\"1\" class=\"dataframe\">\n",
       "  <thead>\n",
       "    <tr style=\"text-align: right;\">\n",
       "      <th></th>\n",
       "      <th>Area Code</th>\n",
       "      <th>Area Code (M49)</th>\n",
       "      <th>Area</th>\n",
       "      <th>Item Code</th>\n",
       "      <th>Item Code (CPC)</th>\n",
       "      <th>Item</th>\n",
       "      <th>Element Code</th>\n",
       "      <th>Element</th>\n",
       "      <th>Year Code</th>\n",
       "      <th>Year</th>\n",
       "      <th>Unit</th>\n",
       "      <th>Value</th>\n",
       "      <th>Flag</th>\n",
       "      <th>Note</th>\n",
       "    </tr>\n",
       "  </thead>\n",
       "  <tbody>\n",
       "    <tr>\n",
       "      <th>275</th>\n",
       "      <td>2</td>\n",
       "      <td>'004</td>\n",
       "      <td>Afghanistan</td>\n",
       "      <td>711</td>\n",
       "      <td>'01654</td>\n",
       "      <td>Anise, badian, coriander, cumin, caraway, fenn...</td>\n",
       "      <td>5510</td>\n",
       "      <td>Production</td>\n",
       "      <td>1961</td>\n",
       "      <td>1961</td>\n",
       "      <td>t</td>\n",
       "      <td>NaN</td>\n",
       "      <td>M</td>\n",
       "      <td>NaN</td>\n",
       "    </tr>\n",
       "    <tr>\n",
       "      <th>276</th>\n",
       "      <td>2</td>\n",
       "      <td>'004</td>\n",
       "      <td>Afghanistan</td>\n",
       "      <td>711</td>\n",
       "      <td>'01654</td>\n",
       "      <td>Anise, badian, coriander, cumin, caraway, fenn...</td>\n",
       "      <td>5510</td>\n",
       "      <td>Production</td>\n",
       "      <td>1962</td>\n",
       "      <td>1962</td>\n",
       "      <td>t</td>\n",
       "      <td>NaN</td>\n",
       "      <td>M</td>\n",
       "      <td>NaN</td>\n",
       "    </tr>\n",
       "    <tr>\n",
       "      <th>277</th>\n",
       "      <td>2</td>\n",
       "      <td>'004</td>\n",
       "      <td>Afghanistan</td>\n",
       "      <td>711</td>\n",
       "      <td>'01654</td>\n",
       "      <td>Anise, badian, coriander, cumin, caraway, fenn...</td>\n",
       "      <td>5510</td>\n",
       "      <td>Production</td>\n",
       "      <td>1963</td>\n",
       "      <td>1963</td>\n",
       "      <td>t</td>\n",
       "      <td>NaN</td>\n",
       "      <td>M</td>\n",
       "      <td>NaN</td>\n",
       "    </tr>\n",
       "    <tr>\n",
       "      <th>278</th>\n",
       "      <td>2</td>\n",
       "      <td>'004</td>\n",
       "      <td>Afghanistan</td>\n",
       "      <td>711</td>\n",
       "      <td>'01654</td>\n",
       "      <td>Anise, badian, coriander, cumin, caraway, fenn...</td>\n",
       "      <td>5510</td>\n",
       "      <td>Production</td>\n",
       "      <td>1964</td>\n",
       "      <td>1964</td>\n",
       "      <td>t</td>\n",
       "      <td>NaN</td>\n",
       "      <td>M</td>\n",
       "      <td>NaN</td>\n",
       "    </tr>\n",
       "    <tr>\n",
       "      <th>279</th>\n",
       "      <td>2</td>\n",
       "      <td>'004</td>\n",
       "      <td>Afghanistan</td>\n",
       "      <td>711</td>\n",
       "      <td>'01654</td>\n",
       "      <td>Anise, badian, coriander, cumin, caraway, fenn...</td>\n",
       "      <td>5510</td>\n",
       "      <td>Production</td>\n",
       "      <td>1965</td>\n",
       "      <td>1965</td>\n",
       "      <td>t</td>\n",
       "      <td>NaN</td>\n",
       "      <td>M</td>\n",
       "      <td>NaN</td>\n",
       "    </tr>\n",
       "  </tbody>\n",
       "</table>\n",
       "</div>"
      ],
      "text/plain": [
       "     Area Code Area Code (M49)         Area  Item Code Item Code (CPC)  \\\n",
       "275          2            '004  Afghanistan        711          '01654   \n",
       "276          2            '004  Afghanistan        711          '01654   \n",
       "277          2            '004  Afghanistan        711          '01654   \n",
       "278          2            '004  Afghanistan        711          '01654   \n",
       "279          2            '004  Afghanistan        711          '01654   \n",
       "\n",
       "                                                  Item  Element Code  \\\n",
       "275  Anise, badian, coriander, cumin, caraway, fenn...          5510   \n",
       "276  Anise, badian, coriander, cumin, caraway, fenn...          5510   \n",
       "277  Anise, badian, coriander, cumin, caraway, fenn...          5510   \n",
       "278  Anise, badian, coriander, cumin, caraway, fenn...          5510   \n",
       "279  Anise, badian, coriander, cumin, caraway, fenn...          5510   \n",
       "\n",
       "        Element  Year Code  Year Unit  Value Flag Note  \n",
       "275  Production       1961  1961    t    NaN    M  NaN  \n",
       "276  Production       1962  1962    t    NaN    M  NaN  \n",
       "277  Production       1963  1963    t    NaN    M  NaN  \n",
       "278  Production       1964  1964    t    NaN    M  NaN  \n",
       "279  Production       1965  1965    t    NaN    M  NaN  "
      ]
     },
     "execution_count": 47,
     "metadata": {},
     "output_type": "execute_result"
    }
   ],
   "source": [
    "df_nulos = df_production[df_production[\"Value\"].isna()]\n",
    "df_nulos.head(5)\n"
   ]
  },
  {
   "cell_type": "code",
   "execution_count": null,
   "metadata": {},
   "outputs": [
    {
     "data": {
      "text/html": [
       "<div>\n",
       "<style scoped>\n",
       "    .dataframe tbody tr th:only-of-type {\n",
       "        vertical-align: middle;\n",
       "    }\n",
       "\n",
       "    .dataframe tbody tr th {\n",
       "        vertical-align: top;\n",
       "    }\n",
       "\n",
       "    .dataframe thead th {\n",
       "        text-align: right;\n",
       "    }\n",
       "</style>\n",
       "<table border=\"1\" class=\"dataframe\">\n",
       "  <thead>\n",
       "    <tr style=\"text-align: right;\">\n",
       "      <th></th>\n",
       "      <th>Area Code</th>\n",
       "      <th>Area Code (M49)</th>\n",
       "      <th>Area</th>\n",
       "      <th>Item Code</th>\n",
       "      <th>Item Code (CPC)</th>\n",
       "      <th>Item</th>\n",
       "      <th>Element Code</th>\n",
       "      <th>Element</th>\n",
       "      <th>Year Code</th>\n",
       "      <th>Year</th>\n",
       "      <th>Unit</th>\n",
       "      <th>Value</th>\n",
       "      <th>Flag</th>\n",
       "      <th>Note</th>\n",
       "    </tr>\n",
       "  </thead>\n",
       "  <tbody>\n",
       "    <tr>\n",
       "      <th>25210</th>\n",
       "      <td>3</td>\n",
       "      <td>'008</td>\n",
       "      <td>Albania</td>\n",
       "      <td>541</td>\n",
       "      <td>'01349.20</td>\n",
       "      <td>Other stone fruits</td>\n",
       "      <td>5510</td>\n",
       "      <td>Production</td>\n",
       "      <td>2023</td>\n",
       "      <td>2023</td>\n",
       "      <td>t</td>\n",
       "      <td>NaN</td>\n",
       "      <td>M</td>\n",
       "      <td>NaN</td>\n",
       "    </tr>\n",
       "    <tr>\n",
       "      <th>28131</th>\n",
       "      <td>3</td>\n",
       "      <td>'008</td>\n",
       "      <td>Albania</td>\n",
       "      <td>27</td>\n",
       "      <td>'0113</td>\n",
       "      <td>Rice</td>\n",
       "      <td>5510</td>\n",
       "      <td>Production</td>\n",
       "      <td>2023</td>\n",
       "      <td>2023</td>\n",
       "      <td>t</td>\n",
       "      <td>NaN</td>\n",
       "      <td>M</td>\n",
       "      <td>NaN</td>\n",
       "    </tr>\n",
       "    <tr>\n",
       "      <th>28981</th>\n",
       "      <td>3</td>\n",
       "      <td>'008</td>\n",
       "      <td>Albania</td>\n",
       "      <td>83</td>\n",
       "      <td>'0114</td>\n",
       "      <td>Sorghum</td>\n",
       "      <td>5510</td>\n",
       "      <td>Production</td>\n",
       "      <td>2023</td>\n",
       "      <td>2023</td>\n",
       "      <td>t</td>\n",
       "      <td>NaN</td>\n",
       "      <td>M</td>\n",
       "      <td>NaN</td>\n",
       "    </tr>\n",
       "    <tr>\n",
       "      <th>45927</th>\n",
       "      <td>4</td>\n",
       "      <td>'012</td>\n",
       "      <td>Algeria</td>\n",
       "      <td>603</td>\n",
       "      <td>'01319</td>\n",
       "      <td>Other tropical fruits, n.e.c.</td>\n",
       "      <td>5510</td>\n",
       "      <td>Production</td>\n",
       "      <td>2023</td>\n",
       "      <td>2023</td>\n",
       "      <td>t</td>\n",
       "      <td>NaN</td>\n",
       "      <td>M</td>\n",
       "      <td>NaN</td>\n",
       "    </tr>\n",
       "    <tr>\n",
       "      <th>50476</th>\n",
       "      <td>4</td>\n",
       "      <td>'012</td>\n",
       "      <td>Algeria</td>\n",
       "      <td>544</td>\n",
       "      <td>'01354</td>\n",
       "      <td>Strawberries</td>\n",
       "      <td>5510</td>\n",
       "      <td>Production</td>\n",
       "      <td>2023</td>\n",
       "      <td>2023</td>\n",
       "      <td>t</td>\n",
       "      <td>NaN</td>\n",
       "      <td>M</td>\n",
       "      <td>NaN</td>\n",
       "    </tr>\n",
       "  </tbody>\n",
       "</table>\n",
       "</div>"
      ],
      "text/plain": [
       "       Area Code Area Code (M49)     Area  Item Code Item Code (CPC)  \\\n",
       "25210          3            '008  Albania        541       '01349.20   \n",
       "28131          3            '008  Albania         27           '0113   \n",
       "28981          3            '008  Albania         83           '0114   \n",
       "45927          4            '012  Algeria        603          '01319   \n",
       "50476          4            '012  Algeria        544          '01354   \n",
       "\n",
       "                                Item  Element Code     Element  Year Code  \\\n",
       "25210             Other stone fruits          5510  Production       2023   \n",
       "28131                           Rice          5510  Production       2023   \n",
       "28981                        Sorghum          5510  Production       2023   \n",
       "45927  Other tropical fruits, n.e.c.          5510  Production       2023   \n",
       "50476                   Strawberries          5510  Production       2023   \n",
       "\n",
       "       Year Unit  Value Flag Note  \n",
       "25210  2023    t    NaN    M  NaN  \n",
       "28131  2023    t    NaN    M  NaN  \n",
       "28981  2023    t    NaN    M  NaN  \n",
       "45927  2023    t    NaN    M  NaN  \n",
       "50476  2023    t    NaN    M  NaN  "
      ]
     },
     "execution_count": 48,
     "metadata": {},
     "output_type": "execute_result"
    }
   ],
   "source": [
    "df_nulos_2023 = df_nulos[df_nulos[\"Year\"] == 2023]\n",
    "df_nulos_2023.head()"
   ]
  },
  {
   "cell_type": "code",
   "execution_count": null,
   "metadata": {},
   "outputs": [],
   "source": [
    "df_nulos_2023.to_csv(\"df_nulos_2023.csv\", index=False)"
   ]
  },
  {
   "cell_type": "code",
   "execution_count": null,
   "metadata": {},
   "outputs": [
    {
     "data": {
      "text/plain": [
       "array(['Almonds, in shell',\n",
       "       'Anise, badian, coriander, cumin, caraway, fennel and juniper berries, raw',\n",
       "       'Apples', 'Apricots', 'Barley', 'Butter and ghee of sheep milk',\n",
       "       'Butter of cow milk', 'Buttermilk, dry',\n",
       "       'Cantaloupes and other melons', 'Cattle fat, unrendered',\n",
       "       'Cheese from milk of goats, fresh or processed',\n",
       "       'Cheese from milk of sheep, fresh or processed',\n",
       "       'Cotton lint, ginned', 'Cotton seed', 'Cottonseed oil',\n",
       "       'Edible offal of cattle, fresh, chilled or frozen',\n",
       "       'Edible offal of goat, fresh, chilled or frozen',\n",
       "       'Edible offal of sheep, fresh, chilled or frozen',\n",
       "       'Edible offals of camels and other camelids, fresh, chilled or frozen',\n",
       "       'Fat of camels', 'Figs', 'Game meat, fresh, chilled or frozen',\n",
       "       'Goat fat, unrendered', 'Grapes', 'Hen eggs in shell, fresh',\n",
       "       'Linseed', 'Maize (corn)', 'Meat of camels, fresh or chilled',\n",
       "       'Meat of cattle with the bone, fresh or chilled',\n",
       "       'Meat of chickens, fresh or chilled',\n",
       "       'Meat of goat, fresh or chilled',\n",
       "       'Meat of sheep, fresh or chilled', 'Millet', 'Molasses',\n",
       "       'Mustard seed', 'Natural honey', 'Oil of linseed',\n",
       "       'Oil of sesame seed', 'Olive oil', 'Olives',\n",
       "       'Onions and shallots, dry (excluding dehydrated)', 'Oranges',\n",
       "       'Other berries and fruits of the genus vaccinium n.e.c.',\n",
       "       'Other citrus fruit, n.e.c.', 'Other fruits, n.e.c.',\n",
       "       'Other nuts (excluding wild edible nuts and groundnuts), in shell, n.e.c.',\n",
       "       'Other pulses n.e.c.',\n",
       "       'Other stimulant, spice and aromatic crops, n.e.c.',\n",
       "       'Other stone fruits', 'Other vegetables, fresh n.e.c.',\n",
       "       'Peaches and nectarines', 'Pears', 'Pistachios, in shell',\n",
       "       'Plums and sloes', 'Potatoes',\n",
       "       'Raw cane or beet sugar (centrifugal only)',\n",
       "       'Raw hides and skins of cattle',\n",
       "       'Raw hides and skins of goats or kids',\n",
       "       'Raw hides and skins of sheep or lambs', 'Raw milk of camel',\n",
       "       'Raw milk of cattle', 'Raw milk of goats', 'Raw milk of sheep',\n",
       "       'Raw silk (not thrown)', 'Rice', 'Seed cotton, unginned',\n",
       "       'Sesame seed', 'Sheep fat, unrendered',\n",
       "       'Shorn wool, greasy, including fleece-washed shorn wool',\n",
       "       'Silk-worm cocoons suitable for reeling', 'Skim milk of cows',\n",
       "       'Soya beans', 'Sugar beet', 'Sugar cane', 'Sunflower seed',\n",
       "       'Sunflower-seed oil, crude', 'Walnuts, in shell', 'Watermelons',\n",
       "       'Wheat', 'Beef and Buffalo Meat, primary', 'Butter and Ghee',\n",
       "       'Cereals, primary', 'Cheese (All Kinds)', 'Citrus Fruit, Total',\n",
       "       'Eggs Primary', 'Fibre Crops, Fibre Equivalent', 'Fruit Primary',\n",
       "       'Meat, Poultry', 'Meat, Total', 'Milk, Total',\n",
       "       'Oilcrops, Cake Equivalent', 'Oilcrops, Oil Equivalent',\n",
       "       'Pulses, Total', 'Roots and Tubers, Total', 'Sheep and Goat Meat',\n",
       "       'Skim Milk & Buttermilk, Dry', 'Sugar Crops Primary',\n",
       "       'Treenuts, Total', 'Vegetables Primary', 'Beans, dry',\n",
       "       'Beer of barley, malted', 'Broad beans and horse beans, dry',\n",
       "       'Broad beans and horse beans, green', 'Cabbages',\n",
       "       'Carrots and turnips', 'Cauliflowers and broccoli',\n",
       "       'Cheese from whole cow milk', 'Cherries', 'Chestnuts, in shell',\n",
       "       'Chillies and peppers, green (Capsicum spp. and Pimenta spp.)',\n",
       "       'Cucumbers and gherkins', 'Dates',\n",
       "       'Edible offal of pigs, fresh, chilled or frozen',\n",
       "       'Eggplants (aubergines)',\n",
       "       'Eggs from other birds in shell, fresh, n.e.c.', 'Fat of pigs',\n",
       "       'Green garlic',\n",
       "       'Green tea (not fermented), black tea (fermented) and partly fermented tea, in immediate packings of a content not exceeding 3 kg',\n",
       "       'Groundnut oil', 'Hop cones',\n",
       "       'Leeks and other alliaceous vegetables', 'Lemons and limes',\n",
       "       'Lettuce and chicory', 'Margarine and shortening',\n",
       "       'Meat of pig with the bone, fresh or chilled',\n",
       "       'Meat of turkeys, fresh or chilled', 'Mushrooms and truffles',\n",
       "       'Oats', 'Okra', 'Onions and shallots, green', 'Other beans, green',\n",
       "       'Other meat of mammals, fresh or chilled', 'Palm oil',\n",
       "       'Peas, green', 'Pumpkins, squash and gourds', 'Quinces',\n",
       "       'Raw milk of buffalo', 'Rye', 'Sorghum', 'Sour cherries',\n",
       "       'Soya bean oil', 'Spinach', 'Strawberries',\n",
       "       'Tangerines, mandarins, clementines', 'Tomatoes',\n",
       "       'Unmanufactured tobacco', 'Vetches', 'Wine', 'Artichokes',\n",
       "       'Bananas', 'Cheese from skimmed cow milk', 'Chick peas, dry',\n",
       "       'Chillies and peppers, dry (Capsicum spp., Pimenta spp.), raw',\n",
       "       'Edible offals of horses and other equines,  fresh, chilled or frozen',\n",
       "       'Groundnuts, excluding shelled', 'Horse meat, fresh or chilled',\n",
       "       'Lentils, dry', 'Locust beans (carobs)',\n",
       "       'Meat of rabbits and hares, fresh or chilled',\n",
       "       'Other tropical fruits, n.e.c.', 'Peas, dry',\n",
       "       'Pomelos and grapefruits', 'Rape or colza seed',\n",
       "       'Rapeseed or canola oil, crude', 'Safflower-seed oil, crude',\n",
       "       'Triticale', 'Avocados', 'Beeswax', 'Cashew nuts, in shell',\n",
       "       'Cassava, fresh', 'Castor oil seeds', 'Cocoa beans',\n",
       "       'Coffee, green',\n",
       "       'Kenaf, and other textile bast fibres, raw or retted',\n",
       "       'Mangoes, guavas and mangosteens', 'Oil of palm kernel',\n",
       "       'Oil palm fruit', 'Palm kernels', 'Pig fat, rendered',\n",
       "       'Pineapples', 'Sisal, raw', 'Sweet potatoes', 'Green corn (maize)',\n",
       "       'Taro', 'Yams', 'Asparagus', 'Canary seed', 'Cereals n.e.c.',\n",
       "       'Cream, fresh', 'Flax, raw or retted', 'Ghee from cow milk',\n",
       "       'Lupins', 'Maté leaves', 'Meat of asses, fresh or chilled',\n",
       "       'Meat of ducks, fresh or chilled',\n",
       "       'Meat of geese, fresh or chilled',\n",
       "       'Meat of mules, fresh or chilled', 'Oil of maize',\n",
       "       'Other fibre crops, raw, n.e.c.', 'Other oil seeds, n.e.c.',\n",
       "       'Papayas', 'Peppermint, spearmint', 'Safflower seed',\n",
       "       'Skim milk and whey powder', 'String beans', 'Tallow',\n",
       "       'Tea leaves', 'Tung nuts', 'Whey, dry', 'Whole milk powder',\n",
       "       'Whole milk, condensed', 'Whole milk, evaporated',\n",
       "       'Evaporated & Condensed Milk', 'Hazelnuts, in shell',\n",
       "       'Blueberries', 'Coconut oil', 'Cow peas, dry', 'Currants',\n",
       "       'Ginger, raw', 'Hempseed', 'Kiwi fruit', 'Persimmons',\n",
       "       'Raspberries', 'Skim milk, condensed', 'True hemp, raw or retted',\n",
       "       'Buckwheat', 'Cheese from milk of buffalo, fresh or processed',\n",
       "       'Gooseberries', 'Mixed grain', 'Poppy seed', 'Whey, condensed',\n",
       "       'Yoghurt', 'Cranberries', 'Coconuts, in shell', 'Pigeon peas, dry',\n",
       "       'Plantains and cooking bananas', 'Areca nuts',\n",
       "       'Buffalo fat, unrendered', 'Butter of buffalo milk', 'Coir, raw',\n",
       "       'Edible offal of buffalo, fresh, chilled or frozen',\n",
       "       'Ghee from buffalo milk', 'Jute, raw or retted',\n",
       "       'Meat of buffalo, fresh or chilled',\n",
       "       'Natural rubber in primary forms', 'Other sugar crops n.e.c.',\n",
       "       'Raw hides and skins of buffaloes', 'Other pome fruits',\n",
       "       'Chicory roots', 'Vanilla, raw',\n",
       "       'Edible roots and tubers with high starch or inulin content, n.e.c., fresh',\n",
       "       'Yautia', 'Fonio', 'Karite nuts (sheanuts)', 'Kola nuts',\n",
       "       'Melonseed', 'Pepper (Piper spp.), raw',\n",
       "       'Nutmeg, mace, cardamoms, raw', 'Quinoa', 'Brazil nuts, in shell',\n",
       "       'Meat of other domestic camelids, fresh or chilled',\n",
       "       'Meat of other domestic rodents, fresh or chilled',\n",
       "       'Pyrethrum, dried flowers',\n",
       "       'Balata, gutta-percha, guayule, chicle and similar natural gums in primary forms or in plates, sheets or strip',\n",
       "       'Cashewapple', 'Ramie, raw or retted', 'Cassava leaves',\n",
       "       'Meat of pigeons and other birds n.e.c., fresh, chilled or frozen',\n",
       "       'Bambara beans, dry', 'Skim milk, evaporated',\n",
       "       'Cinnamon and cinnamon-tree flowers, raw',\n",
       "       'Cloves (whole stems), raw', 'Tallowtree seeds',\n",
       "       'Agave fibres, raw, n.e.c.', 'Abaca, manila hemp, raw',\n",
       "       'Snails, fresh, chilled, frozen, dried, salted or in brine, except sea snails',\n",
       "       'Kapok fibre, raw', 'Kapok fruit', 'Kapokseed in shell',\n",
       "       'Jojoba seeds', 'Butter of goat milk'], dtype=object)"
      ]
     },
     "execution_count": 50,
     "metadata": {},
     "output_type": "execute_result"
    }
   ],
   "source": [
    "df_production[\"Item\"].unique()\n"
   ]
  },
  {
   "cell_type": "code",
   "execution_count": null,
   "metadata": {},
   "outputs": [
    {
     "ename": "KeyboardInterrupt",
     "evalue": "",
     "output_type": "error",
     "traceback": [
      "\u001b[1;31m---------------------------------------------------------------------------\u001b[0m",
      "\u001b[1;31mKeyboardInterrupt\u001b[0m                         Traceback (most recent call last)",
      "Cell \u001b[1;32mIn[51], line 15\u001b[0m\n\u001b[0;32m     12\u001b[0m df_filtrado_alimentosonly \u001b[38;5;241m=\u001b[39m df[\u001b[38;5;241m~\u001b[39mdf[\u001b[38;5;124m\"\u001b[39m\u001b[38;5;124mItem\u001b[39m\u001b[38;5;124m\"\u001b[39m]\u001b[38;5;241m.\u001b[39misin(categorias_a_excluir_item)]\n\u001b[0;32m     14\u001b[0m \u001b[38;5;66;03m# Guardar el nuevo dataset limpio\u001b[39;00m\n\u001b[1;32m---> 15\u001b[0m \u001b[43mdf_filtrado_alimentosonly\u001b[49m\u001b[38;5;241;43m.\u001b[39;49m\u001b[43mto_csv\u001b[49m\u001b[43m(\u001b[49m\u001b[38;5;124;43m\"\u001b[39;49m\u001b[38;5;124;43mdatos_filtrados.csv\u001b[39;49m\u001b[38;5;124;43m\"\u001b[39;49m\u001b[43m,\u001b[49m\u001b[43m \u001b[49m\u001b[43mindex\u001b[49m\u001b[38;5;241;43m=\u001b[39;49m\u001b[38;5;28;43;01mFalse\u001b[39;49;00m\u001b[43m)\u001b[49m\n\u001b[0;32m     17\u001b[0m \u001b[38;5;66;03m# Mostrar los primeros registros para verificar\u001b[39;00m\n\u001b[0;32m     18\u001b[0m df_filtrado_alimentosonly\u001b[38;5;241m.\u001b[39mhead()\n",
      "File \u001b[1;32mc:\\Users\\franb\\AppData\\Local\\Programs\\Python\\Python312\\Lib\\site-packages\\pandas\\util\\_decorators.py:333\u001b[0m, in \u001b[0;36mdeprecate_nonkeyword_arguments.<locals>.decorate.<locals>.wrapper\u001b[1;34m(*args, **kwargs)\u001b[0m\n\u001b[0;32m    327\u001b[0m \u001b[38;5;28;01mif\u001b[39;00m \u001b[38;5;28mlen\u001b[39m(args) \u001b[38;5;241m>\u001b[39m num_allow_args:\n\u001b[0;32m    328\u001b[0m     warnings\u001b[38;5;241m.\u001b[39mwarn(\n\u001b[0;32m    329\u001b[0m         msg\u001b[38;5;241m.\u001b[39mformat(arguments\u001b[38;5;241m=\u001b[39m_format_argument_list(allow_args)),\n\u001b[0;32m    330\u001b[0m         \u001b[38;5;167;01mFutureWarning\u001b[39;00m,\n\u001b[0;32m    331\u001b[0m         stacklevel\u001b[38;5;241m=\u001b[39mfind_stack_level(),\n\u001b[0;32m    332\u001b[0m     )\n\u001b[1;32m--> 333\u001b[0m \u001b[38;5;28;01mreturn\u001b[39;00m \u001b[43mfunc\u001b[49m\u001b[43m(\u001b[49m\u001b[38;5;241;43m*\u001b[39;49m\u001b[43margs\u001b[49m\u001b[43m,\u001b[49m\u001b[43m \u001b[49m\u001b[38;5;241;43m*\u001b[39;49m\u001b[38;5;241;43m*\u001b[39;49m\u001b[43mkwargs\u001b[49m\u001b[43m)\u001b[49m\n",
      "File \u001b[1;32mc:\\Users\\franb\\AppData\\Local\\Programs\\Python\\Python312\\Lib\\site-packages\\pandas\\core\\generic.py:3967\u001b[0m, in \u001b[0;36mNDFrame.to_csv\u001b[1;34m(self, path_or_buf, sep, na_rep, float_format, columns, header, index, index_label, mode, encoding, compression, quoting, quotechar, lineterminator, chunksize, date_format, doublequote, escapechar, decimal, errors, storage_options)\u001b[0m\n\u001b[0;32m   3956\u001b[0m df \u001b[38;5;241m=\u001b[39m \u001b[38;5;28mself\u001b[39m \u001b[38;5;28;01mif\u001b[39;00m \u001b[38;5;28misinstance\u001b[39m(\u001b[38;5;28mself\u001b[39m, ABCDataFrame) \u001b[38;5;28;01melse\u001b[39;00m \u001b[38;5;28mself\u001b[39m\u001b[38;5;241m.\u001b[39mto_frame()\n\u001b[0;32m   3958\u001b[0m formatter \u001b[38;5;241m=\u001b[39m DataFrameFormatter(\n\u001b[0;32m   3959\u001b[0m     frame\u001b[38;5;241m=\u001b[39mdf,\n\u001b[0;32m   3960\u001b[0m     header\u001b[38;5;241m=\u001b[39mheader,\n\u001b[1;32m   (...)\u001b[0m\n\u001b[0;32m   3964\u001b[0m     decimal\u001b[38;5;241m=\u001b[39mdecimal,\n\u001b[0;32m   3965\u001b[0m )\n\u001b[1;32m-> 3967\u001b[0m \u001b[38;5;28;01mreturn\u001b[39;00m \u001b[43mDataFrameRenderer\u001b[49m\u001b[43m(\u001b[49m\u001b[43mformatter\u001b[49m\u001b[43m)\u001b[49m\u001b[38;5;241;43m.\u001b[39;49m\u001b[43mto_csv\u001b[49m\u001b[43m(\u001b[49m\n\u001b[0;32m   3968\u001b[0m \u001b[43m    \u001b[49m\u001b[43mpath_or_buf\u001b[49m\u001b[43m,\u001b[49m\n\u001b[0;32m   3969\u001b[0m \u001b[43m    \u001b[49m\u001b[43mlineterminator\u001b[49m\u001b[38;5;241;43m=\u001b[39;49m\u001b[43mlineterminator\u001b[49m\u001b[43m,\u001b[49m\n\u001b[0;32m   3970\u001b[0m \u001b[43m    \u001b[49m\u001b[43msep\u001b[49m\u001b[38;5;241;43m=\u001b[39;49m\u001b[43msep\u001b[49m\u001b[43m,\u001b[49m\n\u001b[0;32m   3971\u001b[0m \u001b[43m    \u001b[49m\u001b[43mencoding\u001b[49m\u001b[38;5;241;43m=\u001b[39;49m\u001b[43mencoding\u001b[49m\u001b[43m,\u001b[49m\n\u001b[0;32m   3972\u001b[0m \u001b[43m    \u001b[49m\u001b[43merrors\u001b[49m\u001b[38;5;241;43m=\u001b[39;49m\u001b[43merrors\u001b[49m\u001b[43m,\u001b[49m\n\u001b[0;32m   3973\u001b[0m \u001b[43m    \u001b[49m\u001b[43mcompression\u001b[49m\u001b[38;5;241;43m=\u001b[39;49m\u001b[43mcompression\u001b[49m\u001b[43m,\u001b[49m\n\u001b[0;32m   3974\u001b[0m \u001b[43m    \u001b[49m\u001b[43mquoting\u001b[49m\u001b[38;5;241;43m=\u001b[39;49m\u001b[43mquoting\u001b[49m\u001b[43m,\u001b[49m\n\u001b[0;32m   3975\u001b[0m \u001b[43m    \u001b[49m\u001b[43mcolumns\u001b[49m\u001b[38;5;241;43m=\u001b[39;49m\u001b[43mcolumns\u001b[49m\u001b[43m,\u001b[49m\n\u001b[0;32m   3976\u001b[0m \u001b[43m    \u001b[49m\u001b[43mindex_label\u001b[49m\u001b[38;5;241;43m=\u001b[39;49m\u001b[43mindex_label\u001b[49m\u001b[43m,\u001b[49m\n\u001b[0;32m   3977\u001b[0m \u001b[43m    \u001b[49m\u001b[43mmode\u001b[49m\u001b[38;5;241;43m=\u001b[39;49m\u001b[43mmode\u001b[49m\u001b[43m,\u001b[49m\n\u001b[0;32m   3978\u001b[0m \u001b[43m    \u001b[49m\u001b[43mchunksize\u001b[49m\u001b[38;5;241;43m=\u001b[39;49m\u001b[43mchunksize\u001b[49m\u001b[43m,\u001b[49m\n\u001b[0;32m   3979\u001b[0m \u001b[43m    \u001b[49m\u001b[43mquotechar\u001b[49m\u001b[38;5;241;43m=\u001b[39;49m\u001b[43mquotechar\u001b[49m\u001b[43m,\u001b[49m\n\u001b[0;32m   3980\u001b[0m \u001b[43m    \u001b[49m\u001b[43mdate_format\u001b[49m\u001b[38;5;241;43m=\u001b[39;49m\u001b[43mdate_format\u001b[49m\u001b[43m,\u001b[49m\n\u001b[0;32m   3981\u001b[0m \u001b[43m    \u001b[49m\u001b[43mdoublequote\u001b[49m\u001b[38;5;241;43m=\u001b[39;49m\u001b[43mdoublequote\u001b[49m\u001b[43m,\u001b[49m\n\u001b[0;32m   3982\u001b[0m \u001b[43m    \u001b[49m\u001b[43mescapechar\u001b[49m\u001b[38;5;241;43m=\u001b[39;49m\u001b[43mescapechar\u001b[49m\u001b[43m,\u001b[49m\n\u001b[0;32m   3983\u001b[0m \u001b[43m    \u001b[49m\u001b[43mstorage_options\u001b[49m\u001b[38;5;241;43m=\u001b[39;49m\u001b[43mstorage_options\u001b[49m\u001b[43m,\u001b[49m\n\u001b[0;32m   3984\u001b[0m \u001b[43m\u001b[49m\u001b[43m)\u001b[49m\n",
      "File \u001b[1;32mc:\\Users\\franb\\AppData\\Local\\Programs\\Python\\Python312\\Lib\\site-packages\\pandas\\io\\formats\\format.py:1014\u001b[0m, in \u001b[0;36mDataFrameRenderer.to_csv\u001b[1;34m(self, path_or_buf, encoding, sep, columns, index_label, mode, compression, quoting, quotechar, lineterminator, chunksize, date_format, doublequote, escapechar, errors, storage_options)\u001b[0m\n\u001b[0;32m    993\u001b[0m     created_buffer \u001b[38;5;241m=\u001b[39m \u001b[38;5;28;01mFalse\u001b[39;00m\n\u001b[0;32m    995\u001b[0m csv_formatter \u001b[38;5;241m=\u001b[39m CSVFormatter(\n\u001b[0;32m    996\u001b[0m     path_or_buf\u001b[38;5;241m=\u001b[39mpath_or_buf,\n\u001b[0;32m    997\u001b[0m     lineterminator\u001b[38;5;241m=\u001b[39mlineterminator,\n\u001b[1;32m   (...)\u001b[0m\n\u001b[0;32m   1012\u001b[0m     formatter\u001b[38;5;241m=\u001b[39m\u001b[38;5;28mself\u001b[39m\u001b[38;5;241m.\u001b[39mfmt,\n\u001b[0;32m   1013\u001b[0m )\n\u001b[1;32m-> 1014\u001b[0m \u001b[43mcsv_formatter\u001b[49m\u001b[38;5;241;43m.\u001b[39;49m\u001b[43msave\u001b[49m\u001b[43m(\u001b[49m\u001b[43m)\u001b[49m\n\u001b[0;32m   1016\u001b[0m \u001b[38;5;28;01mif\u001b[39;00m created_buffer:\n\u001b[0;32m   1017\u001b[0m     \u001b[38;5;28;01massert\u001b[39;00m \u001b[38;5;28misinstance\u001b[39m(path_or_buf, StringIO)\n",
      "File \u001b[1;32mc:\\Users\\franb\\AppData\\Local\\Programs\\Python\\Python312\\Lib\\site-packages\\pandas\\io\\formats\\csvs.py:270\u001b[0m, in \u001b[0;36mCSVFormatter.save\u001b[1;34m(self)\u001b[0m\n\u001b[0;32m    251\u001b[0m \u001b[38;5;28;01mwith\u001b[39;00m get_handle(\n\u001b[0;32m    252\u001b[0m     \u001b[38;5;28mself\u001b[39m\u001b[38;5;241m.\u001b[39mfilepath_or_buffer,\n\u001b[0;32m    253\u001b[0m     \u001b[38;5;28mself\u001b[39m\u001b[38;5;241m.\u001b[39mmode,\n\u001b[1;32m   (...)\u001b[0m\n\u001b[0;32m    258\u001b[0m ) \u001b[38;5;28;01mas\u001b[39;00m handles:\n\u001b[0;32m    259\u001b[0m     \u001b[38;5;66;03m# Note: self.encoding is irrelevant here\u001b[39;00m\n\u001b[0;32m    260\u001b[0m     \u001b[38;5;28mself\u001b[39m\u001b[38;5;241m.\u001b[39mwriter \u001b[38;5;241m=\u001b[39m csvlib\u001b[38;5;241m.\u001b[39mwriter(\n\u001b[0;32m    261\u001b[0m         handles\u001b[38;5;241m.\u001b[39mhandle,\n\u001b[0;32m    262\u001b[0m         lineterminator\u001b[38;5;241m=\u001b[39m\u001b[38;5;28mself\u001b[39m\u001b[38;5;241m.\u001b[39mlineterminator,\n\u001b[1;32m   (...)\u001b[0m\n\u001b[0;32m    267\u001b[0m         quotechar\u001b[38;5;241m=\u001b[39m\u001b[38;5;28mself\u001b[39m\u001b[38;5;241m.\u001b[39mquotechar,\n\u001b[0;32m    268\u001b[0m     )\n\u001b[1;32m--> 270\u001b[0m     \u001b[38;5;28;43mself\u001b[39;49m\u001b[38;5;241;43m.\u001b[39;49m\u001b[43m_save\u001b[49m\u001b[43m(\u001b[49m\u001b[43m)\u001b[49m\n",
      "File \u001b[1;32mc:\\Users\\franb\\AppData\\Local\\Programs\\Python\\Python312\\Lib\\site-packages\\pandas\\io\\formats\\csvs.py:275\u001b[0m, in \u001b[0;36mCSVFormatter._save\u001b[1;34m(self)\u001b[0m\n\u001b[0;32m    273\u001b[0m \u001b[38;5;28;01mif\u001b[39;00m \u001b[38;5;28mself\u001b[39m\u001b[38;5;241m.\u001b[39m_need_to_save_header:\n\u001b[0;32m    274\u001b[0m     \u001b[38;5;28mself\u001b[39m\u001b[38;5;241m.\u001b[39m_save_header()\n\u001b[1;32m--> 275\u001b[0m \u001b[38;5;28;43mself\u001b[39;49m\u001b[38;5;241;43m.\u001b[39;49m\u001b[43m_save_body\u001b[49m\u001b[43m(\u001b[49m\u001b[43m)\u001b[49m\n",
      "File \u001b[1;32mc:\\Users\\franb\\AppData\\Local\\Programs\\Python\\Python312\\Lib\\site-packages\\pandas\\io\\formats\\csvs.py:313\u001b[0m, in \u001b[0;36mCSVFormatter._save_body\u001b[1;34m(self)\u001b[0m\n\u001b[0;32m    311\u001b[0m \u001b[38;5;28;01mif\u001b[39;00m start_i \u001b[38;5;241m>\u001b[39m\u001b[38;5;241m=\u001b[39m end_i:\n\u001b[0;32m    312\u001b[0m     \u001b[38;5;28;01mbreak\u001b[39;00m\n\u001b[1;32m--> 313\u001b[0m \u001b[38;5;28;43mself\u001b[39;49m\u001b[38;5;241;43m.\u001b[39;49m\u001b[43m_save_chunk\u001b[49m\u001b[43m(\u001b[49m\u001b[43mstart_i\u001b[49m\u001b[43m,\u001b[49m\u001b[43m \u001b[49m\u001b[43mend_i\u001b[49m\u001b[43m)\u001b[49m\n",
      "File \u001b[1;32mc:\\Users\\franb\\AppData\\Local\\Programs\\Python\\Python312\\Lib\\site-packages\\pandas\\io\\formats\\csvs.py:324\u001b[0m, in \u001b[0;36mCSVFormatter._save_chunk\u001b[1;34m(self, start_i, end_i)\u001b[0m\n\u001b[0;32m    321\u001b[0m data \u001b[38;5;241m=\u001b[39m \u001b[38;5;28mlist\u001b[39m(res\u001b[38;5;241m.\u001b[39m_iter_column_arrays())\n\u001b[0;32m    323\u001b[0m ix \u001b[38;5;241m=\u001b[39m \u001b[38;5;28mself\u001b[39m\u001b[38;5;241m.\u001b[39mdata_index[slicer]\u001b[38;5;241m.\u001b[39m_get_values_for_csv(\u001b[38;5;241m*\u001b[39m\u001b[38;5;241m*\u001b[39m\u001b[38;5;28mself\u001b[39m\u001b[38;5;241m.\u001b[39m_number_format)\n\u001b[1;32m--> 324\u001b[0m \u001b[43mlibwriters\u001b[49m\u001b[38;5;241;43m.\u001b[39;49m\u001b[43mwrite_csv_rows\u001b[49m\u001b[43m(\u001b[49m\n\u001b[0;32m    325\u001b[0m \u001b[43m    \u001b[49m\u001b[43mdata\u001b[49m\u001b[43m,\u001b[49m\n\u001b[0;32m    326\u001b[0m \u001b[43m    \u001b[49m\u001b[43mix\u001b[49m\u001b[43m,\u001b[49m\n\u001b[0;32m    327\u001b[0m \u001b[43m    \u001b[49m\u001b[38;5;28;43mself\u001b[39;49m\u001b[38;5;241;43m.\u001b[39;49m\u001b[43mnlevels\u001b[49m\u001b[43m,\u001b[49m\n\u001b[0;32m    328\u001b[0m \u001b[43m    \u001b[49m\u001b[38;5;28;43mself\u001b[39;49m\u001b[38;5;241;43m.\u001b[39;49m\u001b[43mcols\u001b[49m\u001b[43m,\u001b[49m\n\u001b[0;32m    329\u001b[0m \u001b[43m    \u001b[49m\u001b[38;5;28;43mself\u001b[39;49m\u001b[38;5;241;43m.\u001b[39;49m\u001b[43mwriter\u001b[49m\u001b[43m,\u001b[49m\n\u001b[0;32m    330\u001b[0m \u001b[43m\u001b[49m\u001b[43m)\u001b[49m\n",
      "File \u001b[1;32mwriters.pyx:73\u001b[0m, in \u001b[0;36mpandas._libs.writers.write_csv_rows\u001b[1;34m()\u001b[0m\n",
      "\u001b[1;31mKeyboardInterrupt\u001b[0m: "
     ]
    }
   ],
   "source": [
    "# Lista de nombres que representan categorías generales y que deben ser excluidos\n",
    "categorias_a_excluir_item = [\n",
    "    \"Cereals, primary\", \"Sugar Crops Primary\", \"Eggs Primary\", \"Fruit Primary\",\n",
    "    \"Vegetables Primary\", \"Meat, Total\", \"Milk, Total\", \"Roots and Tubers, Total\",\n",
    "    \"Oilcrops, Oil Equivalent\", \"Oilcrops, Cake Equivalent\", \"Sheep and Goat Meat\",\n",
    "    \"Meat, Poultry\", \"Treenuts, Total\", \"Pulses, Total\", \"Citrus Fruit, Total\",\n",
    "    \"Fibre Crops, Fibre Equivalent\", \"Beef and Buffalo Meat, primary\",\n",
    "    \"Skim Milk & Buttermilk, Dry\"\n",
    "]\n",
    "\n",
    "# Filtrar el dataframe eliminando las categorías generales\n",
    "df_filtrado_alimentosonly = df[~df[\"Item\"].isin(categorias_a_excluir_item)]\n",
    "\n",
    "# Guardar el nuevo dataset limpio\n",
    "df_filtrado_alimentosonly.to_csv(\"datos_filtrados.csv\", index=False)\n",
    "\n",
    "# Mostrar los primeros registros para verificar\n",
    "df_filtrado_alimentosonly.head()"
   ]
  },
  {
   "cell_type": "code",
   "execution_count": null,
   "metadata": {},
   "outputs": [
    {
     "data": {
      "text/plain": [
       "(3599906, 14)"
      ]
     },
     "execution_count": 23,
     "metadata": {},
     "output_type": "execute_result"
    }
   ],
   "source": [
    "# conteo de filas y columnas\n",
    "np.shape(df_filtrado_alimentosonly)"
   ]
  },
  {
   "cell_type": "code",
   "execution_count": null,
   "metadata": {},
   "outputs": [
    {
     "data": {
      "text/html": [
       "<div>\n",
       "<style scoped>\n",
       "    .dataframe tbody tr th:only-of-type {\n",
       "        vertical-align: middle;\n",
       "    }\n",
       "\n",
       "    .dataframe tbody tr th {\n",
       "        vertical-align: top;\n",
       "    }\n",
       "\n",
       "    .dataframe thead th {\n",
       "        text-align: right;\n",
       "    }\n",
       "</style>\n",
       "<table border=\"1\" class=\"dataframe\">\n",
       "  <thead>\n",
       "    <tr style=\"text-align: right;\">\n",
       "      <th></th>\n",
       "      <th>Area Code</th>\n",
       "      <th>Area Code (M49)</th>\n",
       "      <th>Area</th>\n",
       "      <th>Item Code</th>\n",
       "      <th>Item Code (CPC)</th>\n",
       "      <th>Item</th>\n",
       "      <th>Element Code</th>\n",
       "      <th>Element</th>\n",
       "      <th>Year Code</th>\n",
       "      <th>Year</th>\n",
       "      <th>Unit</th>\n",
       "      <th>Value</th>\n",
       "      <th>Flag</th>\n",
       "      <th>Note</th>\n",
       "    </tr>\n",
       "  </thead>\n",
       "  <tbody>\n",
       "    <tr>\n",
       "      <th>111</th>\n",
       "      <td>2</td>\n",
       "      <td>'004</td>\n",
       "      <td>Afghanistan</td>\n",
       "      <td>221</td>\n",
       "      <td>'01371</td>\n",
       "      <td>Almonds, in shell</td>\n",
       "      <td>5510</td>\n",
       "      <td>Production</td>\n",
       "      <td>1961</td>\n",
       "      <td>1961</td>\n",
       "      <td>t</td>\n",
       "      <td>0.0</td>\n",
       "      <td>A</td>\n",
       "      <td>NaN</td>\n",
       "    </tr>\n",
       "    <tr>\n",
       "      <th>112</th>\n",
       "      <td>2</td>\n",
       "      <td>'004</td>\n",
       "      <td>Afghanistan</td>\n",
       "      <td>221</td>\n",
       "      <td>'01371</td>\n",
       "      <td>Almonds, in shell</td>\n",
       "      <td>5510</td>\n",
       "      <td>Production</td>\n",
       "      <td>1962</td>\n",
       "      <td>1962</td>\n",
       "      <td>t</td>\n",
       "      <td>0.0</td>\n",
       "      <td>A</td>\n",
       "      <td>NaN</td>\n",
       "    </tr>\n",
       "    <tr>\n",
       "      <th>113</th>\n",
       "      <td>2</td>\n",
       "      <td>'004</td>\n",
       "      <td>Afghanistan</td>\n",
       "      <td>221</td>\n",
       "      <td>'01371</td>\n",
       "      <td>Almonds, in shell</td>\n",
       "      <td>5510</td>\n",
       "      <td>Production</td>\n",
       "      <td>1963</td>\n",
       "      <td>1963</td>\n",
       "      <td>t</td>\n",
       "      <td>0.0</td>\n",
       "      <td>A</td>\n",
       "      <td>NaN</td>\n",
       "    </tr>\n",
       "    <tr>\n",
       "      <th>114</th>\n",
       "      <td>2</td>\n",
       "      <td>'004</td>\n",
       "      <td>Afghanistan</td>\n",
       "      <td>221</td>\n",
       "      <td>'01371</td>\n",
       "      <td>Almonds, in shell</td>\n",
       "      <td>5510</td>\n",
       "      <td>Production</td>\n",
       "      <td>1964</td>\n",
       "      <td>1964</td>\n",
       "      <td>t</td>\n",
       "      <td>0.0</td>\n",
       "      <td>A</td>\n",
       "      <td>NaN</td>\n",
       "    </tr>\n",
       "    <tr>\n",
       "      <th>115</th>\n",
       "      <td>2</td>\n",
       "      <td>'004</td>\n",
       "      <td>Afghanistan</td>\n",
       "      <td>221</td>\n",
       "      <td>'01371</td>\n",
       "      <td>Almonds, in shell</td>\n",
       "      <td>5510</td>\n",
       "      <td>Production</td>\n",
       "      <td>1965</td>\n",
       "      <td>1965</td>\n",
       "      <td>t</td>\n",
       "      <td>0.0</td>\n",
       "      <td>A</td>\n",
       "      <td>NaN</td>\n",
       "    </tr>\n",
       "  </tbody>\n",
       "</table>\n",
       "</div>"
      ],
      "text/plain": [
       "     Area Code Area Code (M49)         Area  Item Code Item Code (CPC)  \\\n",
       "111          2            '004  Afghanistan        221          '01371   \n",
       "112          2            '004  Afghanistan        221          '01371   \n",
       "113          2            '004  Afghanistan        221          '01371   \n",
       "114          2            '004  Afghanistan        221          '01371   \n",
       "115          2            '004  Afghanistan        221          '01371   \n",
       "\n",
       "                  Item  Element Code     Element  Year Code  Year Unit  Value  \\\n",
       "111  Almonds, in shell          5510  Production       1961  1961    t    0.0   \n",
       "112  Almonds, in shell          5510  Production       1962  1962    t    0.0   \n",
       "113  Almonds, in shell          5510  Production       1963  1963    t    0.0   \n",
       "114  Almonds, in shell          5510  Production       1964  1964    t    0.0   \n",
       "115  Almonds, in shell          5510  Production       1965  1965    t    0.0   \n",
       "\n",
       "    Flag Note  \n",
       "111    A  NaN  \n",
       "112    A  NaN  \n",
       "113    A  NaN  \n",
       "114    A  NaN  \n",
       "115    A  NaN  "
      ]
     },
     "execution_count": 24,
     "metadata": {},
     "output_type": "execute_result"
    }
   ],
   "source": [
    "# Filtrar el dataframe para quedarnos solo con registros donde \"Element\" sea \"Production\"\n",
    "df_filtrado_alimentosonly_produccion = df_filtrado_alimentosonly[df_filtrado_alimentosonly[\"Element\"] == \"Production\"]\n",
    "\n",
    "# Guardar el nuevo dataset limpio con solo producción\n",
    "df_filtrado_alimentosonly_produccion.to_csv(\"datos_produccion.csv\", index=False)\n",
    "\n",
    "# Mostrar los primeros registros para verificar\n",
    "df_filtrado_alimentosonly_produccion.head()\n"
   ]
  },
  {
   "cell_type": "code",
   "execution_count": 104,
   "metadata": {},
   "outputs": [
    {
     "data": {
      "text/plain": [
       "array(['Afghanistan', 'Albania', 'Algeria', 'Angola',\n",
       "       'Antigua and Barbuda', 'Argentina', 'Armenia', 'Australia',\n",
       "       'Austria', 'Azerbaijan', 'Bahamas', 'Bahrain', 'Bangladesh',\n",
       "       'Barbados', 'Belarus', 'Belgium', 'Belgium-Luxembourg', 'Belize',\n",
       "       'Benin', 'Bhutan', 'Bolivia (Plurinational State of)',\n",
       "       'Bosnia and Herzegovina', 'Botswana', 'Brazil',\n",
       "       'Brunei Darussalam', 'Bulgaria', 'Burkina Faso', 'Burundi',\n",
       "       'Cabo Verde', 'Cambodia', 'Cameroon', 'Canada',\n",
       "       'Central African Republic', 'Chad', 'Chile', 'China',\n",
       "       'China, Hong Kong SAR', 'China, Macao SAR', 'China, mainland',\n",
       "       'China, Taiwan Province of', 'Colombia', 'Comoros', 'Congo',\n",
       "       'Cook Islands', 'Costa Rica', \"Côte d'Ivoire\", 'Croatia', 'Cuba',\n",
       "       'Cyprus', 'Czechia', 'Czechoslovakia',\n",
       "       \"Democratic People's Republic of Korea\",\n",
       "       'Democratic Republic of the Congo', 'Denmark', 'Djibouti',\n",
       "       'Dominica', 'Dominican Republic', 'Ecuador', 'Egypt',\n",
       "       'El Salvador', 'Equatorial Guinea', 'Eritrea', 'Estonia',\n",
       "       'Eswatini', 'Ethiopia', 'Ethiopia PDR', 'Faroe Islands', 'Fiji',\n",
       "       'Finland', 'France', 'French Guiana', 'French Polynesia', 'Gabon',\n",
       "       'Gambia', 'Georgia', 'Germany', 'Ghana', 'Greece', 'Grenada',\n",
       "       'Guadeloupe', 'Guatemala', 'Guinea', 'Guinea-Bissau', 'Guyana',\n",
       "       'Haiti', 'Honduras', 'Hungary', 'Iceland', 'India', 'Indonesia',\n",
       "       'Iran (Islamic Republic of)', 'Iraq', 'Ireland', 'Israel', 'Italy',\n",
       "       'Jamaica', 'Japan', 'Jordan', 'Kazakhstan', 'Kenya', 'Kiribati',\n",
       "       'Kuwait', 'Kyrgyzstan', \"Lao People's Democratic Republic\",\n",
       "       'Latvia', 'Lebanon', 'Lesotho', 'Liberia', 'Libya', 'Lithuania',\n",
       "       'Luxembourg', 'Madagascar', 'Malawi', 'Malaysia', 'Maldives',\n",
       "       'Mali', 'Malta', 'Marshall Islands', 'Martinique', 'Mauritania',\n",
       "       'Mauritius', 'Mexico', 'Micronesia (Federated States of)',\n",
       "       'Mongolia', 'Montenegro', 'Morocco', 'Mozambique', 'Myanmar',\n",
       "       'Namibia', 'Nauru', 'Nepal', 'Netherlands (Kingdom of the)',\n",
       "       'New Caledonia', 'New Zealand', 'Nicaragua', 'Niger', 'Nigeria',\n",
       "       'Niue', 'North Macedonia', 'Norway', 'Oman', 'Pakistan',\n",
       "       'Palestine', 'Panama', 'Papua New Guinea', 'Paraguay', 'Peru',\n",
       "       'Philippines', 'Poland', 'Portugal', 'Puerto Rico', 'Qatar',\n",
       "       'Republic of Korea', 'Republic of Moldova', 'Réunion', 'Romania',\n",
       "       'Russian Federation', 'Rwanda', 'Saint Kitts and Nevis',\n",
       "       'Saint Lucia', 'Saint Vincent and the Grenadines', 'Samoa',\n",
       "       'Sao Tome and Principe', 'Saudi Arabia', 'Senegal', 'Serbia',\n",
       "       'Serbia and Montenegro', 'Seychelles', 'Sierra Leone', 'Singapore',\n",
       "       'Slovakia', 'Slovenia', 'Solomon Islands', 'Somalia',\n",
       "       'South Africa', 'South Sudan', 'Spain', 'Sri Lanka', 'Sudan',\n",
       "       'Sudan (former)', 'Suriname', 'Sweden', 'Switzerland',\n",
       "       'Syrian Arab Republic', 'Tajikistan', 'Thailand', 'Timor-Leste',\n",
       "       'Togo', 'Tokelau', 'Tonga', 'Trinidad and Tobago', 'Tunisia',\n",
       "       'Türkiye', 'Turkmenistan', 'Tuvalu', 'Uganda', 'Ukraine',\n",
       "       'United Arab Emirates',\n",
       "       'United Kingdom of Great Britain and Northern Ireland',\n",
       "       'United Republic of Tanzania', 'United States of America',\n",
       "       'Uruguay', 'USSR', 'Uzbekistan', 'Vanuatu',\n",
       "       'Venezuela (Bolivarian Republic of)', 'Viet Nam', 'Yemen',\n",
       "       'Yugoslav SFR', 'Zambia', 'Zimbabwe', 'World', 'Africa',\n",
       "       'Eastern Africa', 'Middle Africa', 'Northern Africa',\n",
       "       'Southern Africa', 'Western Africa', 'Americas',\n",
       "       'Northern America', 'Central America', 'Caribbean',\n",
       "       'South America', 'Asia', 'Central Asia', 'Eastern Asia',\n",
       "       'Southern Asia', 'South-eastern Asia', 'Western Asia', 'Europe',\n",
       "       'Eastern Europe', 'Northern Europe', 'Southern Europe',\n",
       "       'Western Europe', 'Oceania', 'Australia and New Zealand',\n",
       "       'Melanesia', 'Micronesia', 'Polynesia', 'European Union (27)',\n",
       "       'Least Developed Countries', 'Land Locked Developing Countries',\n",
       "       'Small Island Developing States',\n",
       "       'Low Income Food Deficit Countries',\n",
       "       'Net Food Importing Developing Countries'], dtype=object)"
      ]
     },
     "execution_count": 104,
     "metadata": {},
     "output_type": "execute_result"
    }
   ],
   "source": [
    "df_production[\"Area\"].unique()"
   ]
  },
  {
   "cell_type": "code",
   "execution_count": 105,
   "metadata": {},
   "outputs": [
    {
     "data": {
      "text/plain": [
       "Area\n",
       "World                                                   17509\n",
       "Asia                                                    16453\n",
       "Net Food Importing Developing Countries                 16191\n",
       "Africa                                                  15522\n",
       "Americas                                                15446\n",
       "Low Income Food Deficit Countries                       15250\n",
       "Land Locked Developing Countries                        14772\n",
       "Eastern Asia                                            14314\n",
       "Europe                                                  14175\n",
       "Least Developed Countries                               14147\n",
       "South America                                           14143\n",
       "China                                                   13836\n",
       "European Union (27)                                     13804\n",
       "Western Asia                                            13711\n",
       "Southern Europe                                         13640\n",
       "China, mainland                                         13511\n",
       "Southern Asia                                           13264\n",
       "Eastern Africa                                          12750\n",
       "Northern Africa                                         12583\n",
       "Oceania                                                 12505\n",
       "Central America                                         12320\n",
       "Eastern Europe                                          12164\n",
       "Mexico                                                  12074\n",
       "Spain                                                   12073\n",
       "South-eastern Asia                                      12057\n",
       "Türkiye                                                 12021\n",
       "Italy                                                   11443\n",
       "Western Europe                                          11316\n",
       "Northern America                                        11074\n",
       "Small Island Developing States                          11049\n",
       "United States of America                                11018\n",
       "Morocco                                                 10979\n",
       "Greece                                                  10906\n",
       "France                                                  10901\n",
       "Iran (Islamic Republic of)                              10818\n",
       "Australia and New Zealand                               10784\n",
       "Bulgaria                                                10701\n",
       "Peru                                                    10547\n",
       "India                                                   10375\n",
       "Australia                                               10300\n",
       "Portugal                                                10284\n",
       "Hungary                                                 10159\n",
       "Kenya                                                   10075\n",
       "Western Africa                                          10048\n",
       "Japan                                                    9918\n",
       "Egypt                                                    9835\n",
       "Argentina                                                9825\n",
       "Brazil                                                   9754\n",
       "Middle Africa                                            9733\n",
       "Southern Africa                                          9630\n",
       "Caribbean                                                9530\n",
       "Romania                                                  9471\n",
       "Israel                                                   9464\n",
       "Syrian Arab Republic                                     9462\n",
       "South Africa                                             9339\n",
       "Tunisia                                                  9275\n",
       "Germany                                                  9183\n",
       "Thailand                                                 9176\n",
       "Colombia                                                 9150\n",
       "Ecuador                                                  9146\n",
       "Pakistan                                                 9131\n",
       "Northern Europe                                          9011\n",
       "Poland                                                   8970\n",
       "Zimbabwe                                                 8926\n",
       "China, Taiwan Province of                                8924\n",
       "Austria                                                  8789\n",
       "Chile                                                    8773\n",
       "Madagascar                                               8704\n",
       "Philippines                                              8691\n",
       "Indonesia                                                8528\n",
       "Bolivia (Plurinational State of)                         8514\n",
       "New Zealand                                              8505\n",
       "United Republic of Tanzania                              8427\n",
       "Switzerland                                              8372\n",
       "Republic of Korea                                        8268\n",
       "Iraq                                                     8237\n",
       "Canada                                                   8133\n",
       "Venezuela (Bolivarian Republic of)                       8120\n",
       "Cyprus                                                   8090\n",
       "Netherlands (Kingdom of the)                             8030\n",
       "Algeria                                                  8029\n",
       "Albania                                                  7845\n",
       "Bangladesh                                               7824\n",
       "Cameroon                                                 7802\n",
       "Guatemala                                                7788\n",
       "Lebanon                                                  7738\n",
       "Costa Rica                                               7651\n",
       "Nepal                                                    7462\n",
       "United Kingdom of Great Britain and Northern Ireland     7245\n",
       "Denmark                                                  7234\n",
       "Jordan                                                   7210\n",
       "Honduras                                                 7202\n",
       "Uruguay                                                  7193\n",
       "Malaysia                                                 7110\n",
       "Paraguay                                                 7085\n",
       "Côte d'Ivoire                                            7030\n",
       "Yemen                                                    6978\n",
       "Myanmar                                                  6972\n",
       "Sri Lanka                                                6955\n",
       "Dominican Republic                                       6851\n",
       "Mali                                                     6830\n",
       "Senegal                                                  6636\n",
       "Nigeria                                                  6628\n",
       "Niger                                                    6623\n",
       "Sweden                                                   6583\n",
       "Norway                                                   6528\n",
       "El Salvador                                              6513\n",
       "Jamaica                                                  6503\n",
       "Melanesia                                                6487\n",
       "Cuba                                                     6467\n",
       "Democratic Republic of the Congo                         6455\n",
       "Ireland                                                  6424\n",
       "Viet Nam                                                 6411\n",
       "Palestine                                                6301\n",
       "Finland                                                  6242\n",
       "Ghana                                                    6217\n",
       "Malawi                                                   6140\n",
       "Haiti                                                    6075\n",
       "Afghanistan                                              6005\n",
       "Bhutan                                                   5989\n",
       "Mozambique                                               5984\n",
       "Rwanda                                                   5931\n",
       "Nicaragua                                                5922\n",
       "Burkina Faso                                             5918\n",
       "Malta                                                    5915\n",
       "Benin                                                    5812\n",
       "Libya                                                    5681\n",
       "Sudan (former)                                           5640\n",
       "Uganda                                                   5640\n",
       "Trinidad and Tobago                                      5624\n",
       "Zambia                                                   5621\n",
       "Togo                                                     5536\n",
       "Angola                                                   5518\n",
       "Guinea                                                   5474\n",
       "Guyana                                                   5447\n",
       "Central Asia                                             5438\n",
       "Panama                                                   5437\n",
       "Congo                                                    5404\n",
       "Grenada                                                  5337\n",
       "Polynesia                                                5310\n",
       "Papua New Guinea                                         5287\n",
       "Mauritius                                                5275\n",
       "Fiji                                                     5164\n",
       "Ukraine                                                  5163\n",
       "Central African Republic                                 5163\n",
       "Belize                                                   5100\n",
       "Democratic People's Republic of Korea                    5056\n",
       "Chad                                                     5051\n",
       "Saudi Arabia                                             5050\n",
       "Burundi                                                  5029\n",
       "Lao People's Democratic Republic                         5027\n",
       "Sierra Leone                                             4934\n",
       "USSR                                                     4927\n",
       "Puerto Rico                                              4906\n",
       "Russian Federation                                       4884\n",
       "Cambodia                                                 4878\n",
       "Suriname                                                 4864\n",
       "Eswatini                                                 4698\n",
       "Uzbekistan                                               4698\n",
       "Kazakhstan                                               4688\n",
       "Guinea-Bissau                                            4686\n",
       "Somalia                                                  4671\n",
       "Timor-Leste                                              4638\n",
       "Belgium-Luxembourg                                       4629\n",
       "Kyrgyzstan                                               4607\n",
       "Saint Lucia                                              4605\n",
       "Dominica                                                 4599\n",
       "Namibia                                                  4591\n",
       "Slovakia                                                 4577\n",
       "United Arab Emirates                                     4573\n",
       "Saint Vincent and the Grenadines                         4551\n",
       "Kuwait                                                   4527\n",
       "Réunion                                                  4527\n",
       "Barbados                                                 4512\n",
       "Yugoslav SFR                                             4494\n",
       "Oman                                                     4388\n",
       "Czechoslovakia                                           4382\n",
       "Croatia                                                  4372\n",
       "Czechia                                                  4362\n",
       "Botswana                                                 4345\n",
       "Ethiopia                                                 4312\n",
       "Liberia                                                  4296\n",
       "Slovenia                                                 4294\n",
       "French Polynesia                                         4266\n",
       "Mongolia                                                 4258\n",
       "Brunei Darussalam                                        4235\n",
       "Mauritania                                               4168\n",
       "Gabon                                                    4129\n",
       "Lithuania                                                4111\n",
       "Singapore                                                4050\n",
       "Republic of Moldova                                      4035\n",
       "Antigua and Barbuda                                      3999\n",
       "Guadeloupe                                               3990\n",
       "Azerbaijan                                               3981\n",
       "North Macedonia                                          3968\n",
       "Cabo Verde                                               3940\n",
       "Qatar                                                    3935\n",
       "Ethiopia PDR                                             3934\n",
       "Bahamas                                                  3841\n",
       "Bosnia and Herzegovina                                   3749\n",
       "Gambia                                                   3716\n",
       "Saint Kitts and Nevis                                    3699\n",
       "Latvia                                                   3668\n",
       "Bahrain                                                  3643\n",
       "Georgia                                                  3626\n",
       "Belarus                                                  3620\n",
       "China, Hong Kong SAR                                     3584\n",
       "New Caledonia                                            3525\n",
       "Estonia                                                  3476\n",
       "Comoros                                                  3432\n",
       "Djibouti                                                 3337\n",
       "Iceland                                                  3304\n",
       "Sao Tome and Principe                                    3239\n",
       "Tonga                                                    3211\n",
       "Tajikistan                                               3191\n",
       "Armenia                                                  3110\n",
       "Samoa                                                    3098\n",
       "Martinique                                               3092\n",
       "Seychelles                                               3029\n",
       "Belgium                                                  3012\n",
       "Cook Islands                                             2959\n",
       "Solomon Islands                                          2852\n",
       "Lesotho                                                  2821\n",
       "French Guiana                                            2812\n",
       "Turkmenistan                                             2756\n",
       "Vanuatu                                                  2715\n",
       "Equatorial Guinea                                        2583\n",
       "Luxembourg                                               2375\n",
       "Serbia                                                   2285\n",
       "Niue                                                     2205\n",
       "Micronesia                                               2128\n",
       "Eritrea                                                  2068\n",
       "Maldives                                                 2046\n",
       "China, Macao SAR                                         1999\n",
       "Serbia and Montenegro                                    1680\n",
       "Kiribati                                                 1478\n",
       "Montenegro                                               1457\n",
       "Micronesia (Federated States of)                         1345\n",
       "Tuvalu                                                   1326\n",
       "Sudan                                                    1262\n",
       "South Sudan                                              1225\n",
       "Tokelau                                                  1195\n",
       "Nauru                                                    1093\n",
       "Faroe Islands                                             893\n",
       "Marshall Islands                                          109\n",
       "Name: count, dtype: int64"
      ]
     },
     "execution_count": 105,
     "metadata": {},
     "output_type": "execute_result"
    }
   ],
   "source": [
    "#printeamos un listado con los valores de la culumna Area, para ver si solo incluye paises:\n",
    "\n",
    "pd.set_option(\"display.max_rows\", None)  # Muestra todas las filas, sin truncar\n",
    "df_production[\"Area\"].value_counts() # me enlista las categorias dentro de la columna \"area\""
   ]
  }
 ],
 "metadata": {
  "kernelspec": {
   "display_name": "Python 3",
   "language": "python",
   "name": "python3"
  },
  "language_info": {
   "codemirror_mode": {
    "name": "ipython",
    "version": 3
   },
   "file_extension": ".py",
   "mimetype": "text/x-python",
   "name": "python",
   "nbconvert_exporter": "python",
   "pygments_lexer": "ipython3",
   "version": "3.12.4"
  }
 },
 "nbformat": 4,
 "nbformat_minor": 2
}
